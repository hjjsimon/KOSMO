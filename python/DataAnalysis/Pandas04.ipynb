{
 "cells": [
  {
   "cell_type": "code",
   "execution_count": 1,
   "id": "37fb9867",
   "metadata": {},
   "outputs": [],
   "source": [
    "import numpy as np\n",
    "import pandas as pd"
   ]
  },
  {
   "cell_type": "code",
   "execution_count": 33,
   "id": "7519f9eb",
   "metadata": {},
   "outputs": [
    {
     "data": {
      "text/plain": [
       "False"
      ]
     },
     "execution_count": 33,
     "metadata": {},
     "output_type": "execute_result"
    }
   ],
   "source": [
    "#데이타 프레임 참조하기 2\n",
    "dic = {'names':['가길동','나길동','다길동','라길동'],'scores':[90,56,87,78],'grade':['A','F','B','C']}\n",
    "df = pd.DataFrame(dic,columns=['names','year','scores','grade','major'],index=list('가나다라'))\n",
    "df\n",
    "df.empty#False . empty는 데이타 프레임객체의 속성으로 비어 있으면 True"
   ]
  },
  {
   "cell_type": "code",
   "execution_count": 6,
   "id": "7673d475",
   "metadata": {},
   "outputs": [
    {
     "data": {
      "text/html": [
       "<div>\n",
       "<style scoped>\n",
       "    .dataframe tbody tr th:only-of-type {\n",
       "        vertical-align: middle;\n",
       "    }\n",
       "\n",
       "    .dataframe tbody tr th {\n",
       "        vertical-align: top;\n",
       "    }\n",
       "\n",
       "    .dataframe thead th {\n",
       "        text-align: right;\n",
       "    }\n",
       "</style>\n",
       "<table border=\"1\" class=\"dataframe\">\n",
       "  <thead>\n",
       "    <tr style=\"text-align: right;\">\n",
       "      <th></th>\n",
       "      <th>names</th>\n",
       "      <th>year</th>\n",
       "      <th>scores</th>\n",
       "      <th>grade</th>\n",
       "      <th>major</th>\n",
       "    </tr>\n",
       "  </thead>\n",
       "  <tbody>\n",
       "  </tbody>\n",
       "</table>\n",
       "</div>"
      ],
      "text/plain": [
       "Empty DataFrame\n",
       "Columns: [names, year, scores, grade, major]\n",
       "Index: []"
      ]
     },
     "execution_count": 6,
     "metadata": {},
     "output_type": "execute_result"
    }
   ],
   "source": [
    "#행 참조하기 - 슬라이싱\n",
    "#※행 인덱스가 정수든 문자열이든  항상 : 이 포함되어야한다 df[ : ]  :이 들어가면 행인덱스를 의미한다\n",
    "#※인덱스 순서대로 슬라이싱 하자. 안그러면 Empty DataFrame.반환\n",
    "#※df['인덱스명'] 는 컬럼 인덱스에서 인덱스명을 찾는다\n",
    "#df['가']#KeyError: '가'. 무조건 컬럼 인덱스에서  '가'를 찾는다\n",
    "df['가':'나']\n",
    "df['가':'가']#'가'라는 행인덱스명으로 데이타 가져오기\n",
    "df['다':'가']#Empty DataFrame"
   ]
  },
  {
   "cell_type": "code",
   "execution_count": 9,
   "id": "b26d69e7",
   "metadata": {},
   "outputs": [
    {
     "data": {
      "text/html": [
       "<div>\n",
       "<style scoped>\n",
       "    .dataframe tbody tr th:only-of-type {\n",
       "        vertical-align: middle;\n",
       "    }\n",
       "\n",
       "    .dataframe tbody tr th {\n",
       "        vertical-align: top;\n",
       "    }\n",
       "\n",
       "    .dataframe thead th {\n",
       "        text-align: right;\n",
       "    }\n",
       "</style>\n",
       "<table border=\"1\" class=\"dataframe\">\n",
       "  <thead>\n",
       "    <tr style=\"text-align: right;\">\n",
       "      <th></th>\n",
       "      <th>names</th>\n",
       "      <th>year</th>\n",
       "      <th>scores</th>\n",
       "      <th>grade</th>\n",
       "      <th>major</th>\n",
       "    </tr>\n",
       "  </thead>\n",
       "  <tbody>\n",
       "  </tbody>\n",
       "</table>\n",
       "</div>"
      ],
      "text/plain": [
       "Empty DataFrame\n",
       "Columns: [names, year, scores, grade, major]\n",
       "Index: []"
      ]
     },
     "execution_count": 9,
     "metadata": {},
     "output_type": "execute_result"
    }
   ],
   "source": [
    "#숫자 인덱스로도 가져올 수 있다\n",
    "#df[1]#KeyError: 1 역시 컬럼인덱스에서 1을 찾는다\n",
    "df[1:3]#df[정수시작 행 인덱스:정수끝 행 인덱스] 이때 정수끝 인덱스는 포함 안됨\n",
    "df[3:1]#Empty DataFrame"
   ]
  },
  {
   "cell_type": "code",
   "execution_count": 15,
   "id": "e3495e34",
   "metadata": {},
   "outputs": [
    {
     "data": {
      "text/html": [
       "<div>\n",
       "<style scoped>\n",
       "    .dataframe tbody tr th:only-of-type {\n",
       "        vertical-align: middle;\n",
       "    }\n",
       "\n",
       "    .dataframe tbody tr th {\n",
       "        vertical-align: top;\n",
       "    }\n",
       "\n",
       "    .dataframe thead th {\n",
       "        text-align: right;\n",
       "    }\n",
       "</style>\n",
       "<table border=\"1\" class=\"dataframe\">\n",
       "  <thead>\n",
       "    <tr style=\"text-align: right;\">\n",
       "      <th></th>\n",
       "      <th>names</th>\n",
       "      <th>year</th>\n",
       "      <th>scores</th>\n",
       "      <th>grade</th>\n",
       "      <th>major</th>\n",
       "    </tr>\n",
       "  </thead>\n",
       "  <tbody>\n",
       "    <tr>\n",
       "      <th>가</th>\n",
       "      <td>가길동</td>\n",
       "      <td>NaN</td>\n",
       "      <td>90</td>\n",
       "      <td>A</td>\n",
       "      <td>NaN</td>\n",
       "    </tr>\n",
       "    <tr>\n",
       "      <th>라</th>\n",
       "      <td>라길동</td>\n",
       "      <td>NaN</td>\n",
       "      <td>78</td>\n",
       "      <td>C</td>\n",
       "      <td>NaN</td>\n",
       "    </tr>\n",
       "  </tbody>\n",
       "</table>\n",
       "</div>"
      ],
      "text/plain": [
       "  names year  scores grade major\n",
       "가   가길동  NaN      90     A   NaN\n",
       "라   라길동  NaN      78     C   NaN"
      ]
     },
     "execution_count": 15,
     "metadata": {},
     "output_type": "execute_result"
    }
   ],
   "source": [
    "#행 참조하기 - 불리언 인덱싱\n",
    "#df[df.컬럼명을 이용한 비교식]로 행 가져오기\n",
    "#df[불리언값을 가진 시리즈] 즉 True에 해당하는 행만 슬라이싱 한다\n",
    "#하드코딩해서 불리언값을 가진 시리즈 생성해서 불리언인덱싱\n",
    "#반드시 시리즈의 인덱스명과 데이타 프레임의 행인덱스명을 일치시키자\n",
    "series=pd.Series(data=[True,False,False,True],index=list('가나다라'))\n",
    "series#불리언 시리즈\n",
    "df[series]"
   ]
  },
  {
   "cell_type": "code",
   "execution_count": 19,
   "id": "f173ec3c",
   "metadata": {},
   "outputs": [
    {
     "data": {
      "text/html": [
       "<div>\n",
       "<style scoped>\n",
       "    .dataframe tbody tr th:only-of-type {\n",
       "        vertical-align: middle;\n",
       "    }\n",
       "\n",
       "    .dataframe tbody tr th {\n",
       "        vertical-align: top;\n",
       "    }\n",
       "\n",
       "    .dataframe thead th {\n",
       "        text-align: right;\n",
       "    }\n",
       "</style>\n",
       "<table border=\"1\" class=\"dataframe\">\n",
       "  <thead>\n",
       "    <tr style=\"text-align: right;\">\n",
       "      <th></th>\n",
       "      <th>names</th>\n",
       "      <th>year</th>\n",
       "      <th>scores</th>\n",
       "      <th>grade</th>\n",
       "      <th>major</th>\n",
       "    </tr>\n",
       "  </thead>\n",
       "  <tbody>\n",
       "    <tr>\n",
       "      <th>가</th>\n",
       "      <td>가길동</td>\n",
       "      <td>NaN</td>\n",
       "      <td>90</td>\n",
       "      <td>A</td>\n",
       "      <td>NaN</td>\n",
       "    </tr>\n",
       "    <tr>\n",
       "      <th>다</th>\n",
       "      <td>다길동</td>\n",
       "      <td>NaN</td>\n",
       "      <td>87</td>\n",
       "      <td>B</td>\n",
       "      <td>NaN</td>\n",
       "    </tr>\n",
       "  </tbody>\n",
       "</table>\n",
       "</div>"
      ],
      "text/plain": [
       "  names year  scores grade major\n",
       "가   가길동  NaN      90     A   NaN\n",
       "다   다길동  NaN      87     B   NaN"
      ]
     },
     "execution_count": 19,
     "metadata": {},
     "output_type": "execute_result"
    }
   ],
   "source": [
    "#데이타 프레임의 기존 컬럼의 값을 사용해서 불리언값을 가진 시리즈 생성해서 불리언 인덱싱\n",
    "series = df['scores'] >=80\n",
    "series\n",
    "df[df['scores'] >=80]#80점 이상인 학생 데이타만 추출"
   ]
  },
  {
   "cell_type": "code",
   "execution_count": 30,
   "id": "9f9724a9",
   "metadata": {},
   "outputs": [
    {
     "data": {
      "text/html": [
       "<div>\n",
       "<style scoped>\n",
       "    .dataframe tbody tr th:only-of-type {\n",
       "        vertical-align: middle;\n",
       "    }\n",
       "\n",
       "    .dataframe tbody tr th {\n",
       "        vertical-align: top;\n",
       "    }\n",
       "\n",
       "    .dataframe thead th {\n",
       "        text-align: right;\n",
       "    }\n",
       "</style>\n",
       "<table border=\"1\" class=\"dataframe\">\n",
       "  <thead>\n",
       "    <tr style=\"text-align: right;\">\n",
       "      <th></th>\n",
       "      <th>names</th>\n",
       "      <th>year</th>\n",
       "      <th>scores</th>\n",
       "      <th>grade</th>\n",
       "      <th>major</th>\n",
       "    </tr>\n",
       "  </thead>\n",
       "  <tbody>\n",
       "    <tr>\n",
       "      <th>다</th>\n",
       "      <td>다길동</td>\n",
       "      <td>NaN</td>\n",
       "      <td>87</td>\n",
       "      <td>B</td>\n",
       "      <td>NaN</td>\n",
       "    </tr>\n",
       "    <tr>\n",
       "      <th>라</th>\n",
       "      <td>라길동</td>\n",
       "      <td>NaN</td>\n",
       "      <td>78</td>\n",
       "      <td>C</td>\n",
       "      <td>NaN</td>\n",
       "    </tr>\n",
       "  </tbody>\n",
       "</table>\n",
       "</div>"
      ],
      "text/plain": [
       "  names year  scores grade major\n",
       "다   다길동  NaN      87     B   NaN\n",
       "라   라길동  NaN      78     C   NaN"
      ]
     },
     "execution_count": 30,
     "metadata": {},
     "output_type": "execute_result"
    }
   ],
   "source": [
    "#&나 | 연산자를 이용해서 여러개의 마스크를 조건으로 사용해서 여러행 가져오기\n",
    "mask = (df['scores'] >=70) & (df['scores'] < 90)\n",
    "mask\n",
    "df[mask]##70점 이상,90미만인 학생 데이타만 추출"
   ]
  },
  {
   "cell_type": "code",
   "execution_count": 31,
   "id": "52f0664b",
   "metadata": {},
   "outputs": [
    {
     "data": {
      "text/html": [
       "<div>\n",
       "<style scoped>\n",
       "    .dataframe tbody tr th:only-of-type {\n",
       "        vertical-align: middle;\n",
       "    }\n",
       "\n",
       "    .dataframe tbody tr th {\n",
       "        vertical-align: top;\n",
       "    }\n",
       "\n",
       "    .dataframe thead th {\n",
       "        text-align: right;\n",
       "    }\n",
       "</style>\n",
       "<table border=\"1\" class=\"dataframe\">\n",
       "  <thead>\n",
       "    <tr style=\"text-align: right;\">\n",
       "      <th></th>\n",
       "      <th>names</th>\n",
       "      <th>year</th>\n",
       "      <th>scores</th>\n",
       "      <th>grade</th>\n",
       "      <th>major</th>\n",
       "    </tr>\n",
       "  </thead>\n",
       "  <tbody>\n",
       "  </tbody>\n",
       "</table>\n",
       "</div>"
      ],
      "text/plain": [
       "Empty DataFrame\n",
       "Columns: [names, year, scores, grade, major]\n",
       "Index: []"
      ]
     },
     "execution_count": 31,
     "metadata": {},
     "output_type": "execute_result"
    }
   ],
   "source": [
    "df[df['scores'] >=95]#Empty Dataframe"
   ]
  },
  {
   "cell_type": "code",
   "execution_count": 32,
   "id": "38111c00",
   "metadata": {},
   "outputs": [
    {
     "data": {
      "text/plain": [
       "'95점 이상인 학생이 없다'"
      ]
     },
     "execution_count": 32,
     "metadata": {},
     "output_type": "execute_result"
    }
   ],
   "source": [
    "'95점 이상인 학생이 없다' if df[df['scores'] >=95].empty else '95점 이상인 학생이 있다'"
   ]
  },
  {
   "cell_type": "code",
   "execution_count": null,
   "id": "88fa8566",
   "metadata": {},
   "outputs": [],
   "source": []
  }
 ],
 "metadata": {
  "kernelspec": {
   "display_name": "Python 3 (ipykernel)",
   "language": "python",
   "name": "python3"
  },
  "language_info": {
   "codemirror_mode": {
    "name": "ipython",
    "version": 3
   },
   "file_extension": ".py",
   "mimetype": "text/x-python",
   "name": "python",
   "nbconvert_exporter": "python",
   "pygments_lexer": "ipython3",
   "version": "3.10.9"
  }
 },
 "nbformat": 4,
 "nbformat_minor": 5
}
