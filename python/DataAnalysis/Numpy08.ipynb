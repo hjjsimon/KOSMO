{
 "cells": [
  {
   "cell_type": "code",
   "execution_count": 1,
   "id": "055a1696",
   "metadata": {},
   "outputs": [],
   "source": [
    "import numpy as np"
   ]
  },
  {
   "cell_type": "code",
   "execution_count": 4,
   "id": "b57b279b",
   "metadata": {},
   "outputs": [
    {
     "name": "stdout",
     "output_type": "stream",
     "text": [
      "[[ 8 10 12]\n",
      " [14 16 18]]\n",
      "[[ 8 10 12]\n",
      " [14 16 18]]\n"
     ]
    }
   ],
   "source": [
    "#산술연산(벡터와 벡터):\n",
    "'''\n",
    "두 벡터의 shape이 같아야 한다\n",
    "두 벡터가 shape이 다른 경우 하나의 벡터는 broadcastable해야한다\n",
    "예] (2,3) 과 (3,)는 (3,)(1차원)가 브로드 캐스팅되서 (2,3)(2차원)이 된다\n",
    "#    (2,3) 과 (3,1)는 ValueError: operands could not be broadcast together with shapes (2,3) (3,1)\n",
    "#    에러(둘다 2차원 행렬임으로 shape이 같아야 한다)\n",
    "element-wise연산(element by element연산)\n",
    "'''\n",
    "arr1 = np.array([[1,2,3],[4,5,6]])\n",
    "arr2 = np.array([[7,8,9],[10,11,12]])\n",
    "#뎃셈\n",
    "print(arr1+arr2)\n",
    "print(np.add(arr1,arr2))"
   ]
  },
  {
   "cell_type": "code",
   "execution_count": 6,
   "id": "a2ffc963",
   "metadata": {},
   "outputs": [
    {
     "name": "stdout",
     "output_type": "stream",
     "text": [
      "[[-6 -6 -6]\n",
      " [-6 -6 -6]]\n",
      "[[-6 -6 -6]\n",
      " [-6 -6 -6]]\n"
     ]
    }
   ],
   "source": [
    "#빼기\n",
    "print(arr1-arr2)\n",
    "print(np.subtract(arr1,arr2))"
   ]
  },
  {
   "cell_type": "code",
   "execution_count": 7,
   "id": "77616960",
   "metadata": {},
   "outputs": [
    {
     "name": "stdout",
     "output_type": "stream",
     "text": [
      "[[0.14285714 0.25       0.33333333]\n",
      " [0.4        0.45454545 0.5       ]]\n",
      "[[0.14285714 0.25       0.33333333]\n",
      " [0.4        0.45454545 0.5       ]]\n"
     ]
    }
   ],
   "source": [
    "#나눗셈\n",
    "print(arr1/arr2)\n",
    "print(np.divide(arr1,arr2))"
   ]
  },
  {
   "cell_type": "code",
   "execution_count": 8,
   "id": "758a6887",
   "metadata": {},
   "outputs": [
    {
     "name": "stdout",
     "output_type": "stream",
     "text": [
      "[[ 7 16 27]\n",
      " [40 55 72]]\n",
      "[[ 7 16 27]\n",
      " [40 55 72]]\n"
     ]
    }
   ],
   "source": [
    "#곱셈\n",
    "print(arr1*arr2)\n",
    "print(np.multiply(arr1,arr2))"
   ]
  },
  {
   "cell_type": "code",
   "execution_count": 9,
   "id": "2383f285",
   "metadata": {},
   "outputs": [
    {
     "name": "stdout",
     "output_type": "stream",
     "text": [
      "[[1 2 3]\n",
      " [4 5 6]]\n",
      "[[1 2 3]\n",
      " [4 5 6]]\n"
     ]
    }
   ],
   "source": [
    "#나머지\n",
    "print(arr1 % arr2)\n",
    "print(np.mod(arr1,arr2))"
   ]
  },
  {
   "cell_type": "code",
   "execution_count": 12,
   "id": "4cbe5af2",
   "metadata": {},
   "outputs": [
    {
     "data": {
      "text/plain": [
       "'몫:[[0 0 0]\\n [0 0 0]],나머지:[[1 2 3]\\n [4 5 6]]'"
      ]
     },
     "execution_count": 12,
     "metadata": {},
     "output_type": "execute_result"
    }
   ],
   "source": [
    "#몫과 나머지: (몫,나머지)반환\n",
    "divmod=np.divmod(arr1,arr2)\n",
    "div,mod = divmod\n",
    "f'몫:{div},나머지:{mod}'"
   ]
  },
  {
   "cell_type": "code",
   "execution_count": 13,
   "id": "d8275b57",
   "metadata": {},
   "outputs": [
    {
     "data": {
      "text/plain": [
       "array([[ 5, 10, 15],\n",
       "       [20, 25, 30]])"
      ]
     },
     "execution_count": 13,
     "metadata": {},
     "output_type": "execute_result"
    }
   ],
   "source": [
    "#산술연산:벡터와 스칼라\n",
    "arr1 * 5#브로드 캐스팅"
   ]
  },
  {
   "cell_type": "code",
   "execution_count": 14,
   "id": "db21f929",
   "metadata": {},
   "outputs": [
    {
     "data": {
      "text/plain": [
       "array([[False, False, False],\n",
       "       [False, False, False]])"
      ]
     },
     "execution_count": 14,
     "metadata": {},
     "output_type": "execute_result"
    }
   ],
   "source": [
    "#비교연산:벡터와 벡터 \n",
    "#두 벡터의 shape이 같아야 한다\n",
    "arr1 > arr2"
   ]
  },
  {
   "cell_type": "code",
   "execution_count": 15,
   "id": "308817f5",
   "metadata": {},
   "outputs": [
    {
     "data": {
      "text/plain": [
       "array([[False, False, False],\n",
       "       [ True,  True,  True]])"
      ]
     },
     "execution_count": 15,
     "metadata": {},
     "output_type": "execute_result"
    }
   ],
   "source": [
    "arr1 > np.array([1,2,3])#브로드 캐스팅"
   ]
  },
  {
   "cell_type": "code",
   "execution_count": 16,
   "id": "d895af9d",
   "metadata": {},
   "outputs": [
    {
     "ename": "ValueError",
     "evalue": "operands could not be broadcast together with shapes (2,3) (3,1) ",
     "output_type": "error",
     "traceback": [
      "\u001b[1;31m---------------------------------------------------------------------------\u001b[0m",
      "\u001b[1;31mValueError\u001b[0m                                Traceback (most recent call last)",
      "Cell \u001b[1;32mIn[16], line 1\u001b[0m\n\u001b[1;32m----> 1\u001b[0m \u001b[43marr1\u001b[49m\u001b[43m \u001b[49m\u001b[38;5;241;43m>\u001b[39;49m\u001b[43m \u001b[49m\u001b[43mnp\u001b[49m\u001b[38;5;241;43m.\u001b[39;49m\u001b[43marray\u001b[49m\u001b[43m(\u001b[49m\u001b[43m[\u001b[49m\u001b[43m[\u001b[49m\u001b[38;5;241;43m1\u001b[39;49m\u001b[43m]\u001b[49m\u001b[43m,\u001b[49m\u001b[43m[\u001b[49m\u001b[38;5;241;43m2\u001b[39;49m\u001b[43m]\u001b[49m\u001b[43m,\u001b[49m\u001b[43m[\u001b[49m\u001b[38;5;241;43m3\u001b[39;49m\u001b[43m]\u001b[49m\u001b[43m]\u001b[49m\u001b[43m)\u001b[49m\n",
      "\u001b[1;31mValueError\u001b[0m: operands could not be broadcast together with shapes (2,3) (3,1) "
     ]
    }
   ],
   "source": [
    "#arr1 > np.array([[1],[2],[3]])#ValueError: operands could not be broadcast together with shapes (2,3) (3,1) "
   ]
  },
  {
   "cell_type": "code",
   "execution_count": 17,
   "id": "1c3ffec2",
   "metadata": {},
   "outputs": [
    {
     "data": {
      "text/plain": [
       "array([[ True,  True,  True],\n",
       "       [ True,  True,  True]])"
      ]
     },
     "execution_count": 17,
     "metadata": {},
     "output_type": "execute_result"
    }
   ],
   "source": [
    "arr1 != arr2"
   ]
  },
  {
   "cell_type": "code",
   "execution_count": 18,
   "id": "55935719",
   "metadata": {},
   "outputs": [
    {
     "data": {
      "text/plain": [
       "array([[False, False, False],\n",
       "       [False, False,  True]])"
      ]
     },
     "execution_count": 18,
     "metadata": {},
     "output_type": "execute_result"
    }
   ],
   "source": [
    "#비교연산:벡터와 스칼라\n",
    "arr1 > 5#브로드 캐스팅"
   ]
  },
  {
   "cell_type": "code",
   "execution_count": 19,
   "id": "5391b977",
   "metadata": {},
   "outputs": [
    {
     "data": {
      "text/plain": [
       "array([[False,  True, False],\n",
       "       [ True, False,  True]])"
      ]
     },
     "execution_count": 19,
     "metadata": {},
     "output_type": "execute_result"
    }
   ],
   "source": [
    "#짝수인 요소 슬라이싱:비교 연산자를 사용한 불리언 인덱싱\n",
    "mask = arr1 % 2==0\n",
    "mask"
   ]
  },
  {
   "cell_type": "code",
   "execution_count": 22,
   "id": "c57b2af1",
   "metadata": {},
   "outputs": [
    {
     "data": {
      "text/plain": [
       "array([2, 4, 6])"
      ]
     },
     "execution_count": 22,
     "metadata": {},
     "output_type": "execute_result"
    }
   ],
   "source": [
    "arr1[mask]"
   ]
  },
  {
   "cell_type": "code",
   "execution_count": 23,
   "id": "722521d9",
   "metadata": {},
   "outputs": [],
   "source": [
    "arr1 = np.array([[1,2],[3,4]])\n",
    "arr2 = np.array([[1,2],[3,5]])"
   ]
  },
  {
   "cell_type": "code",
   "execution_count": 24,
   "id": "81eeee4c",
   "metadata": {},
   "outputs": [
    {
     "data": {
      "text/plain": [
       "array([[ True,  True],\n",
       "       [ True, False]])"
      ]
     },
     "execution_count": 24,
     "metadata": {},
     "output_type": "execute_result"
    }
   ],
   "source": [
    "arr1==arr2"
   ]
  },
  {
   "cell_type": "code",
   "execution_count": 25,
   "id": "64ee3698",
   "metadata": {},
   "outputs": [
    {
     "data": {
      "text/plain": [
       "False"
      ]
     },
     "execution_count": 25,
     "metadata": {},
     "output_type": "execute_result"
    }
   ],
   "source": [
    "np.array_equal(arr1,arr2)# shape과 요소의 값이 일치해야만 True"
   ]
  },
  {
   "cell_type": "code",
   "execution_count": 26,
   "id": "da8a4c9a",
   "metadata": {},
   "outputs": [
    {
     "data": {
      "text/plain": [
       "array([ 1,  2,  3,  4,  5,  6,  7,  8,  9, 10])"
      ]
     },
     "execution_count": 26,
     "metadata": {},
     "output_type": "execute_result"
    }
   ],
   "source": [
    "#수학 및 통계적인 연산:어떤 axis를 기준으로 연산시 차원축소됨\n",
    "#sum()함수\n",
    "arr3 = np.arange(1,11)\n",
    "arr3"
   ]
  },
  {
   "cell_type": "code",
   "execution_count": 27,
   "id": "27c57ee1",
   "metadata": {},
   "outputs": [
    {
     "data": {
      "text/plain": [
       "55"
      ]
     },
     "execution_count": 27,
     "metadata": {},
     "output_type": "execute_result"
    }
   ],
   "source": [
    "np.sum(arr3)#1차원의 모든 요소의 합"
   ]
  },
  {
   "cell_type": "code",
   "execution_count": 30,
   "id": "ebdb2da4",
   "metadata": {},
   "outputs": [
    {
     "name": "stdout",
     "output_type": "stream",
     "text": [
      "[[ 1  2  3  4  5]\n",
      " [ 6  7  8  9 10]]\n"
     ]
    },
    {
     "data": {
      "text/plain": [
       "array([[ 1,  2],\n",
       "       [ 3,  4],\n",
       "       [ 5,  6],\n",
       "       [ 7,  8],\n",
       "       [ 9, 10]])"
      ]
     },
     "execution_count": 30,
     "metadata": {},
     "output_type": "execute_result"
    }
   ],
   "source": [
    "#shape을 변경해서 축을 기준으로 sum()연습\n",
    "arr4 = arr3.reshape(-1,5)#행자리가 -1이면 총 요소수에 맞게 행의 수가 결정된다\n",
    "print(arr4)\n",
    "arr4 = arr3.reshape(5,-1)#열자리가 -1이면 총 요소수에 맞게 열의 수가 결정된다\n",
    "arr4"
   ]
  },
  {
   "cell_type": "code",
   "execution_count": 34,
   "id": "fea0620d",
   "metadata": {},
   "outputs": [
    {
     "name": "stdout",
     "output_type": "stream",
     "text": [
      "55\n",
      "[25 30]\n",
      "[ 3  7 11 15 19]\n"
     ]
    }
   ],
   "source": [
    "print(np.sum(arr4))#2차원의 모든 요소의 합\n",
    "print(np.sum(arr4,axis=0))#행축의 합.즉 각 열의 합 [25 30]\n",
    "print(np.sum(arr4,axis=1))#열축의 합.즉 각 행의 합 [3 7 11 15 19]"
   ]
  },
  {
   "cell_type": "code",
   "execution_count": 37,
   "id": "8c0741b7",
   "metadata": {},
   "outputs": [
    {
     "name": "stdout",
     "output_type": "stream",
     "text": [
      "짝수의 갯수: 5\n"
     ]
    }
   ],
   "source": [
    "#블리언 배열(마스크)을 만든후\n",
    "#sum()함수를 적용하면 True는 1로, False는 0으로 계산되서 합계됨\n",
    "#짝수의 갯수를 알아내자(빈도수 구하기와 같다)\n",
    "mask = arr4 % 2==0\n",
    "mask\n",
    "print('짝수의 갯수:',np.sum(mask))"
   ]
  },
  {
   "cell_type": "code",
   "execution_count": 40,
   "id": "c4d2af29",
   "metadata": {},
   "outputs": [
    {
     "name": "stdout",
     "output_type": "stream",
     "text": [
      "10\n",
      "[ 9 10]\n",
      "[ 2  4  6  8 10]\n"
     ]
    }
   ],
   "source": [
    "#max()함수\n",
    "print(np.max(arr4))\n",
    "print(np.max(arr4,axis=0))#[9 10]\n",
    "print(np.max(arr4,axis=1))#[2 4 6 8 10]"
   ]
  },
  {
   "cell_type": "code",
   "execution_count": 43,
   "id": "0b65aa96",
   "metadata": {},
   "outputs": [
    {
     "name": "stdout",
     "output_type": "stream",
     "text": [
      "1\n",
      "[1 2]\n",
      "[1 3 5 7 9]\n"
     ]
    }
   ],
   "source": [
    "#min()함수\n",
    "print(np.min(arr4))\n",
    "print(np.min(arr4,axis=0))\n",
    "print(np.min(arr4,axis=1))"
   ]
  },
  {
   "cell_type": "code",
   "execution_count": 45,
   "id": "25d7fbc9",
   "metadata": {},
   "outputs": [
    {
     "name": "stdout",
     "output_type": "stream",
     "text": [
      "5.5\n",
      "[5. 6.]\n",
      "[1.5 3.5 5.5 7.5 9.5]\n"
     ]
    }
   ],
   "source": [
    "#mean()함수\n",
    "print(np.mean(arr4))\n",
    "print(np.mean(arr4,axis=0))#[5 6]\n",
    "print(np.mean(arr4,axis=1))"
   ]
  },
  {
   "cell_type": "code",
   "execution_count": 47,
   "id": "525cd951",
   "metadata": {},
   "outputs": [
    {
     "name": "stdout",
     "output_type": "stream",
     "text": [
      "[ 1  3  6 10 15 21 28 36 45 55]\n",
      "[[ 1  2]\n",
      " [ 4  6]\n",
      " [ 9 12]\n",
      " [16 20]\n",
      " [25 30]]\n",
      "[[ 1  3]\n",
      " [ 3  7]\n",
      " [ 5 11]\n",
      " [ 7 15]\n",
      " [ 9 19]]\n"
     ]
    }
   ],
   "source": [
    "#cumsum()함수:누적값\n",
    "print(np.cumsum(arr4))#[ 1  3  6 10 15 21 28 36 45 55] 2차원에서 1차원으로 차원축소\n",
    "print(np.cumsum(arr4,axis=0))##shape유지. 즉 차원축소 없음\n",
    "print(np.cumsum(arr4,axis=1))#shape유지. 즉 차원축소 없음"
   ]
  },
  {
   "cell_type": "code",
   "execution_count": null,
   "id": "bed76551",
   "metadata": {},
   "outputs": [],
   "source": []
  }
 ],
 "metadata": {
  "kernelspec": {
   "display_name": "Python 3 (ipykernel)",
   "language": "python",
   "name": "python3"
  },
  "language_info": {
   "codemirror_mode": {
    "name": "ipython",
    "version": 3
   },
   "file_extension": ".py",
   "mimetype": "text/x-python",
   "name": "python",
   "nbconvert_exporter": "python",
   "pygments_lexer": "ipython3",
   "version": "3.10.9"
  }
 },
 "nbformat": 4,
 "nbformat_minor": 5
}
