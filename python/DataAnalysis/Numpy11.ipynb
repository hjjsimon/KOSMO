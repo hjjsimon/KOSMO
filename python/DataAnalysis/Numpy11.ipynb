{
 "cells": [
  {
   "cell_type": "code",
   "execution_count": 1,
   "id": "2fb7123e",
   "metadata": {},
   "outputs": [],
   "source": [
    "import numpy as np"
   ]
  },
  {
   "cell_type": "code",
   "execution_count": 2,
   "id": "fb661f84",
   "metadata": {},
   "outputs": [
    {
     "data": {
      "text/plain": [
       "array([[ 1,  2,  3,  4,  5],\n",
       "       [ 6,  7,  8,  9, 10]])"
      ]
     },
     "execution_count": 2,
     "metadata": {},
     "output_type": "execute_result"
    }
   ],
   "source": [
    "#넘파이 배열 변경하기 3 - 넘파이 배열들 합치거나 쪼개기\n",
    "#1. 합치기 : concatenate() 혹은 vstack()/hstack()함수\n",
    "arr1 = np.arange(1,11).reshape(2,-1)\n",
    "arr2 = np.arange(1,11).reshape(2,-1)\n",
    "arr1\n"
   ]
  },
  {
   "cell_type": "code",
   "execution_count": 6,
   "id": "09ba4665",
   "metadata": {},
   "outputs": [
    {
     "data": {
      "text/plain": [
       "array([[ 1,  2,  3,  4,  5],\n",
       "       [ 6,  7,  8,  9, 10],\n",
       "       [ 1,  2,  3,  4,  5],\n",
       "       [ 6,  7,  8,  9, 10]])"
      ]
     },
     "execution_count": 6,
     "metadata": {},
     "output_type": "execute_result"
    }
   ],
   "source": [
    "#axis지정하지 않은 경우 - 행방향으로 결합\n",
    "np.concatenate((arr1,arr2))#반드시 괄호로 감싸고 동일한 shape이어야 한다.np.append(arr1,arr2,axis=0)와 같다\n",
    "np.vstack((arr1,arr2))#위와 같다"
   ]
  },
  {
   "cell_type": "code",
   "execution_count": 8,
   "id": "98b99f9a",
   "metadata": {},
   "outputs": [
    {
     "data": {
      "text/plain": [
       "array([[ 1,  2,  3,  4,  5,  1,  2,  3,  4,  5],\n",
       "       [ 6,  7,  8,  9, 10,  6,  7,  8,  9, 10]])"
      ]
     },
     "execution_count": 8,
     "metadata": {},
     "output_type": "execute_result"
    }
   ],
   "source": [
    "np.concatenate((arr1,arr2),axis=1)#반드시 괄호로 감싸고 동일한 shape이어야 한다.np.append(arr1,arr2,axis=1)와 같다\n",
    "np.hstack((arr1,arr2))"
   ]
  },
  {
   "cell_type": "code",
   "execution_count": 9,
   "id": "931404ba",
   "metadata": {},
   "outputs": [
    {
     "data": {
      "text/plain": [
       "array([[ 0,  1,  2,  3,  4,  5],\n",
       "       [ 6,  7,  8,  9, 10, 11],\n",
       "       [12, 13, 14, 15, 16, 17],\n",
       "       [18, 19, 20, 21, 22, 23],\n",
       "       [24, 25, 26, 27, 28, 29]])"
      ]
     },
     "execution_count": 9,
     "metadata": {},
     "output_type": "execute_result"
    }
   ],
   "source": [
    "#쪼개기 : hsplit()/vsplit()함수\n",
    "arr3 = np.arange(0,30).reshape(5,-1)\n",
    "arr3"
   ]
  },
  {
   "cell_type": "code",
   "execution_count": 20,
   "id": "0822cf81",
   "metadata": {},
   "outputs": [
    {
     "data": {
      "text/plain": [
       "(5, 3)"
      ]
     },
     "execution_count": 20,
     "metadata": {},
     "output_type": "execute_result"
    }
   ],
   "source": [
    "#두번째 인자는 쪼갤 배열의 수(열의 수 % 쪼갤 배열의 수 == 0이어야 한다)\n",
    "#예: 6(열의 수) 임으로 1,2,3,6 가능( 6 % 1는 0이 아니지만 1은 전체 넘파이 배열을 요소로하는 리스트반환)\n",
    "#쪼개진 넘파이 배열을 요소로갖는 리스트 반환\n",
    "hsplit=np.hsplit(arr3,2)#행방향으로 2개로 쪼갠다\n",
    "hsplit[0].shape"
   ]
  },
  {
   "cell_type": "code",
   "execution_count": 21,
   "id": "e9af98ac",
   "metadata": {},
   "outputs": [
    {
     "data": {
      "text/plain": [
       "[array([[ 0],\n",
       "        [ 6],\n",
       "        [12],\n",
       "        [18],\n",
       "        [24]]),\n",
       " array([[ 1],\n",
       "        [ 7],\n",
       "        [13],\n",
       "        [19],\n",
       "        [25]]),\n",
       " array([[ 2],\n",
       "        [ 8],\n",
       "        [14],\n",
       "        [20],\n",
       "        [26]]),\n",
       " array([[ 3],\n",
       "        [ 9],\n",
       "        [15],\n",
       "        [21],\n",
       "        [27]]),\n",
       " array([[ 4],\n",
       "        [10],\n",
       "        [16],\n",
       "        [22],\n",
       "        [28]]),\n",
       " array([[ 5],\n",
       "        [11],\n",
       "        [17],\n",
       "        [23],\n",
       "        [29]])]"
      ]
     },
     "execution_count": 21,
     "metadata": {},
     "output_type": "execute_result"
    }
   ],
   "source": [
    "hsplit=np.hsplit(arr3,6)#행방향으로 6개로 쪼갠다\n",
    "hsplit"
   ]
  },
  {
   "cell_type": "code",
   "execution_count": 26,
   "id": "569e8688",
   "metadata": {},
   "outputs": [
    {
     "data": {
      "text/plain": [
       "[array([[0, 1, 2, 3, 4, 5]]),\n",
       " array([[ 6,  7,  8,  9, 10, 11]]),\n",
       " array([[12, 13, 14, 15, 16, 17]]),\n",
       " array([[18, 19, 20, 21, 22, 23]]),\n",
       " array([[24, 25, 26, 27, 28, 29]])]"
      ]
     },
     "execution_count": 26,
     "metadata": {},
     "output_type": "execute_result"
    }
   ],
   "source": [
    "np.vsplit(arr3,5)#열방향으로 쪼갠다.즉 수평방향.행의 수 % 쪼갤 배열의 수 == 0이어야 한다\n"
   ]
  },
  {
   "cell_type": "code",
   "execution_count": 27,
   "id": "274b8e59",
   "metadata": {},
   "outputs": [
    {
     "data": {
      "text/plain": [
       "array([[ 0,  1,  2,  3,  4,  5],\n",
       "       [ 6,  7,  8,  9, 10, 11],\n",
       "       [12, 13, 14, 15, 16, 17],\n",
       "       [18, 19, 20, 21, 22, 23],\n",
       "       [24, 25, 26, 27, 28, 29]])"
      ]
     },
     "execution_count": 27,
     "metadata": {},
     "output_type": "execute_result"
    }
   ],
   "source": [
    "#https://numpy.org/doc/stable/reference/generated/numpy.split.html\n",
    "#np.hsplit(배열,[x,y,z])\n",
    "#[x,y,z]은 1차원배열이어야 하고 x,y,z는 오름차순으로 정렬된 int여야한다.\n",
    "#(hsplit()인 경우 x,y,z는 열 인덱스다)\n",
    "#즉 아래처럼 분리된다\n",
    "#[:,:x]\n",
    "#[:,x:y]\n",
    "#[:,y:z]\n",
    "#[:,z:...] 총 4개의 넘파이 배열로 분리된다\n",
    "#x,y,z는 hsplit()이면 열 인덱스고 vsplit()면 행 인덱스다\n",
    "arr3"
   ]
  },
  {
   "cell_type": "code",
   "execution_count": 28,
   "id": "07437945",
   "metadata": {},
   "outputs": [
    {
     "data": {
      "text/plain": [
       "[array([[ 0],\n",
       "        [ 6],\n",
       "        [12],\n",
       "        [18],\n",
       "        [24]]),\n",
       " array([[ 1,  2],\n",
       "        [ 7,  8],\n",
       "        [13, 14],\n",
       "        [19, 20],\n",
       "        [25, 26]]),\n",
       " array([[ 3,  4],\n",
       "        [ 9, 10],\n",
       "        [15, 16],\n",
       "        [21, 22],\n",
       "        [27, 28]]),\n",
       " array([[ 5],\n",
       "        [11],\n",
       "        [17],\n",
       "        [23],\n",
       "        [29]])]"
      ]
     },
     "execution_count": 28,
     "metadata": {},
     "output_type": "execute_result"
    }
   ],
   "source": [
    "np.hsplit(arr3,[1,3,5])#[:,:1],[:,1:3],[:,3:5],[:,5:]총 4개로 쪼개진다"
   ]
  },
  {
   "cell_type": "code",
   "execution_count": 29,
   "id": "27646200",
   "metadata": {},
   "outputs": [
    {
     "data": {
      "text/plain": [
       "[array([[ 0],\n",
       "        [ 6],\n",
       "        [12],\n",
       "        [18],\n",
       "        [24]]),\n",
       " array([[ 1,  2],\n",
       "        [ 7,  8],\n",
       "        [13, 14],\n",
       "        [19, 20],\n",
       "        [25, 26]]),\n",
       " array([[ 3,  4,  5],\n",
       "        [ 9, 10, 11],\n",
       "        [15, 16, 17],\n",
       "        [21, 22, 23],\n",
       "        [27, 28, 29]])]"
      ]
     },
     "execution_count": 29,
     "metadata": {},
     "output_type": "execute_result"
    }
   ],
   "source": [
    "np.hsplit(arr3,[1,3])#[:,:1],[:,1:3],[:,3:] 3개의 배열로 쪼개짐"
   ]
  },
  {
   "cell_type": "code",
   "execution_count": 31,
   "id": "d8ad7bdc",
   "metadata": {},
   "outputs": [
    {
     "name": "stdout",
     "output_type": "stream",
     "text": [
      "[[ 1  2  3  4  5]\n",
      " [ 6  7  8  9 10]]\n",
      "[[ 1  6]\n",
      " [ 2  7]\n",
      " [ 3  8]\n",
      " [ 4  9]\n",
      " [ 5 10]]\n"
     ]
    }
   ],
   "source": [
    "#전치 :T 전치(Transepose) 사용\n",
    "print(arr1)\n",
    "print(arr1.T)"
   ]
  },
  {
   "cell_type": "code",
   "execution_count": null,
   "id": "2ab9e2ae",
   "metadata": {},
   "outputs": [],
   "source": []
  }
 ],
 "metadata": {
  "kernelspec": {
   "display_name": "Python 3 (ipykernel)",
   "language": "python",
   "name": "python3"
  },
  "language_info": {
   "codemirror_mode": {
    "name": "ipython",
    "version": 3
   },
   "file_extension": ".py",
   "mimetype": "text/x-python",
   "name": "python",
   "nbconvert_exporter": "python",
   "pygments_lexer": "ipython3",
   "version": "3.10.9"
  }
 },
 "nbformat": 4,
 "nbformat_minor": 5
}
