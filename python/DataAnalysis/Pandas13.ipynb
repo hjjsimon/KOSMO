{
 "cells": [
  {
   "cell_type": "code",
   "execution_count": 2,
   "id": "9ffc741f",
   "metadata": {},
   "outputs": [],
   "source": [
    "import numpy as np\n",
    "import pandas as pd\n",
    "import datetime"
   ]
  },
  {
   "cell_type": "code",
   "execution_count": 3,
   "id": "d2d99b3e",
   "metadata": {},
   "outputs": [],
   "source": [
    "np.random.seed(42)"
   ]
  },
  {
   "cell_type": "code",
   "execution_count": 21,
   "id": "96b4020e",
   "metadata": {},
   "outputs": [
    {
     "data": {
      "text/plain": [
       "DatetimeIndex(['2021-01-01', '2021-04-01', '2021-07-01', '2021-10-01'], dtype='datetime64[ns]', freq='3MS')"
      ]
     },
     "execution_count": 21,
     "metadata": {},
     "output_type": "execute_result"
    }
   ],
   "source": [
    "#시계열 데이타: 행 인덱스가 날짜나 시간인 데이타\n",
    "#행 인덱스로 사용할 DatetimeIndex 생성 : date_range()함수\n",
    "pd.date_range(start='2021/1/1',end='2021/1/4')#freq디폴트는 'D'\n",
    "pd.date_range(start='2021/1/1',periods=4)\n",
    "pd.date_range(start='2021/1/1',end='2021/1/4',periods=10)#1/1일부터 1/4일까지 10개의 시계열 데이타 생성\n",
    "pd.date_range(start='2021/1/1',periods=4,freq='M')#말일 기준\n",
    "pd.date_range(start='2021/1/1',periods=4,freq='MS')#1일 기준\n",
    "pd.date_range(start='2021/1/1',periods=4,freq='3MS')#3개월단위씩 1일시작으로 4개의 시계열 데이타"
   ]
  },
  {
   "cell_type": "code",
   "execution_count": 24,
   "id": "93624f86",
   "metadata": {},
   "outputs": [
    {
     "data": {
      "text/plain": [
       "DatetimeIndex(['2022-01-21', '2022-01-22', '2022-01-23', '2022-01-24',\n",
       "               '2022-01-25'],\n",
       "              dtype='datetime64[ns]', freq='D')"
      ]
     },
     "execution_count": 24,
     "metadata": {},
     "output_type": "execute_result"
    }
   ],
   "source": [
    "#※ '2022, 1, 21' 형태의 날짜는 반드시 빈공백 한칸 이상이 있어야 한다. \n",
    "#  그렇지 않으면 ParseError\n",
    "pd.date_range('2022, 01, 21',periods=5,freq='D')"
   ]
  },
  {
   "cell_type": "code",
   "execution_count": 29,
   "id": "5c2f59f6",
   "metadata": {},
   "outputs": [
    {
     "data": {
      "text/html": [
       "<div>\n",
       "<style scoped>\n",
       "    .dataframe tbody tr th:only-of-type {\n",
       "        vertical-align: middle;\n",
       "    }\n",
       "\n",
       "    .dataframe tbody tr th {\n",
       "        vertical-align: top;\n",
       "    }\n",
       "\n",
       "    .dataframe thead th {\n",
       "        text-align: right;\n",
       "    }\n",
       "</style>\n",
       "<table border=\"1\" class=\"dataframe\">\n",
       "  <thead>\n",
       "    <tr style=\"text-align: right;\">\n",
       "      <th></th>\n",
       "      <th>Open</th>\n",
       "      <th>High</th>\n",
       "      <th>Low</th>\n",
       "      <th>Close</th>\n",
       "    </tr>\n",
       "  </thead>\n",
       "  <tbody>\n",
       "    <tr>\n",
       "      <th>2022-01-21</th>\n",
       "      <td>900</td>\n",
       "      <td>2000</td>\n",
       "      <td>1000</td>\n",
       "      <td>900</td>\n",
       "    </tr>\n",
       "    <tr>\n",
       "      <th>2022-01-22</th>\n",
       "      <td>1500</td>\n",
       "      <td>2500</td>\n",
       "      <td>900</td>\n",
       "      <td>1500</td>\n",
       "    </tr>\n",
       "    <tr>\n",
       "      <th>2022-01-23</th>\n",
       "      <td>100</td>\n",
       "      <td>2800</td>\n",
       "      <td>1500</td>\n",
       "      <td>2000</td>\n",
       "    </tr>\n",
       "    <tr>\n",
       "      <th>2022-01-24</th>\n",
       "      <td>7000</td>\n",
       "      <td>8000</td>\n",
       "      <td>75000</td>\n",
       "      <td>6000</td>\n",
       "    </tr>\n",
       "  </tbody>\n",
       "</table>\n",
       "</div>"
      ],
      "text/plain": [
       "            Open  High    Low  Close\n",
       "2022-01-21   900  2000   1000    900\n",
       "2022-01-22  1500  2500    900   1500\n",
       "2022-01-23   100  2800   1500   2000\n",
       "2022-01-24  7000  8000  75000   6000"
      ]
     },
     "execution_count": 29,
     "metadata": {},
     "output_type": "execute_result"
    }
   ],
   "source": [
    "#DatetimeIndex를 사용해서 시계열 데이타(데이타 프레임) 생성\n",
    "data =[[900,2000,1000,900],[1500,2500,900,1500],[100,2800,1500,2000],[7000,8000,75000,6000]]\n",
    "np.array(data).shape\n",
    "index = pd.date_range('20220121',periods=4,freq='D')\n",
    "df = pd.DataFrame(data,index=index,columns=['Open','High','Low','Close'])\n",
    "df"
   ]
  },
  {
   "cell_type": "code",
   "execution_count": 48,
   "id": "5b9bd966",
   "metadata": {},
   "outputs": [
    {
     "data": {
      "text/html": [
       "<div>\n",
       "<style scoped>\n",
       "    .dataframe tbody tr th:only-of-type {\n",
       "        vertical-align: middle;\n",
       "    }\n",
       "\n",
       "    .dataframe tbody tr th {\n",
       "        vertical-align: top;\n",
       "    }\n",
       "\n",
       "    .dataframe thead th {\n",
       "        text-align: right;\n",
       "    }\n",
       "</style>\n",
       "<table border=\"1\" class=\"dataframe\">\n",
       "  <thead>\n",
       "    <tr style=\"text-align: right;\">\n",
       "      <th></th>\n",
       "      <th>Open</th>\n",
       "      <th>High</th>\n",
       "      <th>Low</th>\n",
       "      <th>Close</th>\n",
       "    </tr>\n",
       "  </thead>\n",
       "  <tbody>\n",
       "    <tr>\n",
       "      <th>2022-01-21</th>\n",
       "      <td>7100</td>\n",
       "      <td>7100</td>\n",
       "      <td>7100</td>\n",
       "      <td>7100</td>\n",
       "    </tr>\n",
       "    <tr>\n",
       "      <th>2022-01-22</th>\n",
       "      <td>7100</td>\n",
       "      <td>7100</td>\n",
       "      <td>7100</td>\n",
       "      <td>7100</td>\n",
       "    </tr>\n",
       "    <tr>\n",
       "      <th>2022-01-23</th>\n",
       "      <td>7100</td>\n",
       "      <td>7100</td>\n",
       "      <td>7100</td>\n",
       "      <td>7100</td>\n",
       "    </tr>\n",
       "    <tr>\n",
       "      <th>2022-01-24</th>\n",
       "      <td>900</td>\n",
       "      <td>2000</td>\n",
       "      <td>1000</td>\n",
       "      <td>900</td>\n",
       "    </tr>\n",
       "  </tbody>\n",
       "</table>\n",
       "</div>"
      ],
      "text/plain": [
       "            Open  High   Low  Close\n",
       "2022-01-21  7100  7100  7100   7100\n",
       "2022-01-22  7100  7100  7100   7100\n",
       "2022-01-23  7100  7100  7100   7100\n",
       "2022-01-24   900  2000  1000    900"
      ]
     },
     "execution_count": 48,
     "metadata": {},
     "output_type": "execute_result"
    }
   ],
   "source": [
    "#시계열 데이타관련 유용한 함수 : shift()함수\n",
    "#periods(디폴트 1)에 지정한 기간 만큼 데이타를 이동시킨다.빈자리는 NaN으로 채운다\n",
    "df.shift()\n",
    "df.shift(periods=3)\n",
    "df.shift(periods=3,fill_value=df.mean().mean())#NaN을 데이타 프레임 전체의 평균으로"
   ]
  },
  {
   "cell_type": "code",
   "execution_count": 49,
   "id": "f53b39e0",
   "metadata": {},
   "outputs": [
    {
     "data": {
      "text/plain": [
       "2022-01-01    0.496714\n",
       "2022-01-02   -0.138264\n",
       "2022-01-03    0.647689\n",
       "2022-01-04    1.523030\n",
       "2022-01-05   -0.234153\n",
       "                ...   \n",
       "2022-04-06   -1.463515\n",
       "2022-04-07    0.296120\n",
       "2022-04-08    0.261055\n",
       "2022-04-09    0.005113\n",
       "2022-04-10   -0.234587\n",
       "Freq: D, Length: 100, dtype: float64"
      ]
     },
     "execution_count": 49,
     "metadata": {},
     "output_type": "execute_result"
    }
   ],
   "source": [
    "#시계열 데이타관련 유용한 함수 : resample()함수-DatetimeIndexResampler타입 반환\n",
    "\n",
    "#다운-샘플링:샘플링의 수가 줄어드는 경우. 예]일을 월로 그룹핑\n",
    "#일을 월로 인덱스를 리샘플링:다운 샘플링(100개의 일 데이타가 4개의 월데이타로 다운)\n",
    "#1.1~1.31까지의 시계열데이타는 1월로 그룹핑\n",
    "#2.1~2.28까지의 시계열데이타는 2월로 그룹핑\n",
    "#..\n",
    "#4.1~4.10까지의 시계열데이타는 4월로 그룹핑\n",
    "#다운-샘플링의 경우에는 원래의 데이터가 그룹으로 묶이기 때문에\n",
    "#집합 연산(max(),min(),sum()등)을 해서 대표값을 구해야 한다.\n",
    "ts = pd.Series(np.random.randn(100),index=pd.date_range('2022-1-1',periods=100))\n",
    "ts"
   ]
  },
  {
   "cell_type": "code",
   "execution_count": 51,
   "id": "4751824e",
   "metadata": {},
   "outputs": [
    {
     "data": {
      "text/plain": [
       "2022-04-01    0.097078\n",
       "2022-04-02    0.968645\n",
       "2022-04-03   -0.702053\n",
       "2022-04-04   -0.327662\n",
       "2022-04-05   -0.392108\n",
       "2022-04-06   -1.463515\n",
       "2022-04-07    0.296120\n",
       "2022-04-08    0.261055\n",
       "2022-04-09    0.005113\n",
       "2022-04-10   -0.234587\n",
       "Freq: D, dtype: float64"
      ]
     },
     "execution_count": 51,
     "metadata": {},
     "output_type": "execute_result"
    }
   ],
   "source": [
    "ts.head(31)\n",
    "ts.tail(10)"
   ]
  },
  {
   "cell_type": "code",
   "execution_count": 53,
   "id": "db0bcc99",
   "metadata": {},
   "outputs": [
    {
     "data": {
      "text/plain": [
       "2022-01-01    1.579213\n",
       "2022-02-01    1.852278\n",
       "2022-03-01    1.564644\n",
       "2022-04-01    0.968645\n",
       "Freq: MS, dtype: float64"
      ]
     },
     "execution_count": 53,
     "metadata": {},
     "output_type": "execute_result"
    }
   ],
   "source": [
    "ts.resample(rule='MS').max()#월별 최대값(시작일 기준) 시리즈"
   ]
  },
  {
   "cell_type": "code",
   "execution_count": 54,
   "id": "14f32ed1",
   "metadata": {},
   "outputs": [
    {
     "data": {
      "text/html": [
       "<div>\n",
       "<style scoped>\n",
       "    .dataframe tbody tr th:only-of-type {\n",
       "        vertical-align: middle;\n",
       "    }\n",
       "\n",
       "    .dataframe tbody tr th {\n",
       "        vertical-align: top;\n",
       "    }\n",
       "\n",
       "    .dataframe thead th {\n",
       "        text-align: right;\n",
       "    }\n",
       "</style>\n",
       "<table border=\"1\" class=\"dataframe\">\n",
       "  <thead>\n",
       "    <tr style=\"text-align: right;\">\n",
       "      <th></th>\n",
       "      <th>open</th>\n",
       "      <th>high</th>\n",
       "      <th>low</th>\n",
       "      <th>close</th>\n",
       "    </tr>\n",
       "  </thead>\n",
       "  <tbody>\n",
       "    <tr>\n",
       "      <th>2022-01-01</th>\n",
       "      <td>0.496714</td>\n",
       "      <td>1.579213</td>\n",
       "      <td>-1.913280</td>\n",
       "      <td>-0.601707</td>\n",
       "    </tr>\n",
       "    <tr>\n",
       "      <th>2022-02-01</th>\n",
       "      <td>1.852278</td>\n",
       "      <td>1.852278</td>\n",
       "      <td>-1.959670</td>\n",
       "      <td>0.331263</td>\n",
       "    </tr>\n",
       "    <tr>\n",
       "      <th>2022-03-01</th>\n",
       "      <td>0.975545</td>\n",
       "      <td>1.564644</td>\n",
       "      <td>-2.619745</td>\n",
       "      <td>0.513267</td>\n",
       "    </tr>\n",
       "    <tr>\n",
       "      <th>2022-04-01</th>\n",
       "      <td>0.097078</td>\n",
       "      <td>0.968645</td>\n",
       "      <td>-1.463515</td>\n",
       "      <td>-0.234587</td>\n",
       "    </tr>\n",
       "  </tbody>\n",
       "</table>\n",
       "</div>"
      ],
      "text/plain": [
       "                open      high       low     close\n",
       "2022-01-01  0.496714  1.579213 -1.913280 -0.601707\n",
       "2022-02-01  1.852278  1.852278 -1.959670  0.331263\n",
       "2022-03-01  0.975545  1.564644 -2.619745  0.513267\n",
       "2022-04-01  0.097078  0.968645 -1.463515 -0.234587"
      ]
     },
     "execution_count": 54,
     "metadata": {},
     "output_type": "execute_result"
    }
   ],
   "source": [
    "ts.resample(rule='MS').ohlc()#ohlc 메서드는 구간의 시고저종(open, high, low, close)값을 구한다.(데이타 프레임)"
   ]
  },
  {
   "cell_type": "code",
   "execution_count": 55,
   "id": "562077da",
   "metadata": {},
   "outputs": [],
   "source": [
    "#업-샘플링:샘플링의 수가 늘어나는 경우. 예]월을 일로 세분화. 데이타가 늘어나서 원래 없던 데이타를 특정 값으로 채원야 한다\n",
    "#1분단위를 30초단위로 리샘플링 1개의 데이타를 2개의 데이타로"
   ]
  },
  {
   "cell_type": "code",
   "execution_count": 57,
   "id": "f36a6731",
   "metadata": {},
   "outputs": [
    {
     "data": {
      "text/plain": [
       "2022-01-01 00:00:00   -0.974682\n",
       "2022-01-01 00:01:00    0.787085\n",
       "2022-01-01 00:02:00    1.158596\n",
       "2022-01-01 00:03:00   -0.820682\n",
       "2022-01-01 00:04:00    0.963376\n",
       "2022-01-01 00:05:00    0.412781\n",
       "2022-01-01 00:06:00    0.822060\n",
       "2022-01-01 00:07:00    1.896793\n",
       "2022-01-01 00:08:00   -0.245388\n",
       "2022-01-01 00:09:00   -0.753736\n",
       "2022-01-01 00:10:00   -0.889514\n",
       "2022-01-01 00:11:00   -0.815810\n",
       "2022-01-01 00:12:00   -0.077102\n",
       "2022-01-01 00:13:00    0.341152\n",
       "2022-01-01 00:14:00    0.276691\n",
       "2022-01-01 00:15:00    0.827183\n",
       "2022-01-01 00:16:00    0.013002\n",
       "2022-01-01 00:17:00    1.453534\n",
       "2022-01-01 00:18:00   -0.264657\n",
       "2022-01-01 00:19:00    2.720169\n",
       "2022-01-01 00:20:00    0.625667\n",
       "2022-01-01 00:21:00   -0.857158\n",
       "2022-01-01 00:22:00   -1.070892\n",
       "2022-01-01 00:23:00    0.482472\n",
       "2022-01-01 00:24:00   -0.223463\n",
       "2022-01-01 00:25:00    0.714000\n",
       "2022-01-01 00:26:00    0.473238\n",
       "2022-01-01 00:27:00   -0.072829\n",
       "2022-01-01 00:28:00   -0.846794\n",
       "2022-01-01 00:29:00   -1.514847\n",
       "2022-01-01 00:30:00   -0.446515\n",
       "2022-01-01 00:31:00    0.856399\n",
       "2022-01-01 00:32:00    0.214094\n",
       "2022-01-01 00:33:00   -1.245739\n",
       "2022-01-01 00:34:00    0.173181\n",
       "2022-01-01 00:35:00    0.385317\n",
       "2022-01-01 00:36:00   -0.883857\n",
       "2022-01-01 00:37:00    0.153725\n",
       "2022-01-01 00:38:00    0.058209\n",
       "2022-01-01 00:39:00   -1.142970\n",
       "2022-01-01 00:40:00    0.357787\n",
       "2022-01-01 00:41:00    0.560785\n",
       "2022-01-01 00:42:00    1.083051\n",
       "2022-01-01 00:43:00    1.053802\n",
       "2022-01-01 00:44:00   -1.377669\n",
       "2022-01-01 00:45:00   -0.937825\n",
       "2022-01-01 00:46:00    0.515035\n",
       "2022-01-01 00:47:00    0.513786\n",
       "2022-01-01 00:48:00    0.515048\n",
       "2022-01-01 00:49:00    3.852731\n",
       "2022-01-01 00:50:00    0.570891\n",
       "2022-01-01 00:51:00    1.135566\n",
       "2022-01-01 00:52:00    0.954002\n",
       "2022-01-01 00:53:00    0.651391\n",
       "2022-01-01 00:54:00   -0.315269\n",
       "2022-01-01 00:55:00    0.758969\n",
       "2022-01-01 00:56:00   -0.772825\n",
       "2022-01-01 00:57:00   -0.236819\n",
       "2022-01-01 00:58:00   -0.485364\n",
       "2022-01-01 00:59:00    0.081874\n",
       "Freq: T, dtype: float64"
      ]
     },
     "execution_count": 57,
     "metadata": {},
     "output_type": "execute_result"
    }
   ],
   "source": [
    "ts=pd.Series(np.random.randn(60),index=pd.date_range('2022-1-1',periods=60,freq='min'))\n",
    "ts"
   ]
  },
  {
   "cell_type": "code",
   "execution_count": 62,
   "id": "24c71b11",
   "metadata": {},
   "outputs": [
    {
     "data": {
      "text/plain": [
       "2022-01-01 00:00:00   -0.974682\n",
       "2022-01-01 00:00:30    0.787085\n",
       "2022-01-01 00:01:00    0.787085\n",
       "2022-01-01 00:01:30    1.158596\n",
       "2022-01-01 00:02:00    1.158596\n",
       "2022-01-01 00:02:30   -0.820682\n",
       "2022-01-01 00:03:00   -0.820682\n",
       "2022-01-01 00:03:30    0.963376\n",
       "2022-01-01 00:04:00    0.963376\n",
       "2022-01-01 00:04:30    0.412781\n",
       "Freq: 30S, dtype: float64"
      ]
     },
     "execution_count": 62,
     "metadata": {},
     "output_type": "execute_result"
    }
   ],
   "source": [
    "'''\n",
    "업-샘플링의 경우에는 실제로 존재하지 않는 데이터를 만들어야 한다. \n",
    "이 때는 앞에서 나온 데이터(과거 데이타)를 뒤에서 그대로 쓰는 forward filling 방식(ffill()함수)과 \n",
    "뒤에서 나올 데이터(최른 데이타)를 앞에서 미리 쓰는 backward filling 방식(bfill())을 사용할 수 있다.\n",
    "'''\n",
    "ts.resample('30s').ffill().head(10)#이전 시점의 데이타(앞에 데이타)를 새로 추가된 시점의 데이타로 사용\n",
    "ts.resample('30s').bfill().head(10)#이후 데이타(뒤에 데이타)를 새로 추가된 시점의 데이타로 사용"
   ]
  },
  {
   "cell_type": "code",
   "execution_count": null,
   "id": "95277111",
   "metadata": {},
   "outputs": [],
   "source": []
  }
 ],
 "metadata": {
  "kernelspec": {
   "display_name": "Python 3 (ipykernel)",
   "language": "python",
   "name": "python3"
  },
  "language_info": {
   "codemirror_mode": {
    "name": "ipython",
    "version": 3
   },
   "file_extension": ".py",
   "mimetype": "text/x-python",
   "name": "python",
   "nbconvert_exporter": "python",
   "pygments_lexer": "ipython3",
   "version": "3.10.9"
  }
 },
 "nbformat": 4,
 "nbformat_minor": 5
}
