{
 "cells": [
  {
   "cell_type": "code",
   "execution_count": 1,
   "id": "b0383ebc",
   "metadata": {},
   "outputs": [],
   "source": [
    "import numpy as np\n",
    "import pandas as pd"
   ]
  },
  {
   "cell_type": "code",
   "execution_count": 19,
   "id": "257951e6",
   "metadata": {},
   "outputs": [
    {
     "data": {
      "text/html": [
       "<div>\n",
       "<style scoped>\n",
       "    .dataframe tbody tr th:only-of-type {\n",
       "        vertical-align: middle;\n",
       "    }\n",
       "\n",
       "    .dataframe tbody tr th {\n",
       "        vertical-align: top;\n",
       "    }\n",
       "\n",
       "    .dataframe thead th {\n",
       "        text-align: right;\n",
       "    }\n",
       "</style>\n",
       "<table border=\"1\" class=\"dataframe\">\n",
       "  <thead>\n",
       "    <tr style=\"text-align: right;\">\n",
       "      <th></th>\n",
       "      <th>names</th>\n",
       "      <th>scores</th>\n",
       "      <th>grade</th>\n",
       "    </tr>\n",
       "  </thead>\n",
       "  <tbody>\n",
       "    <tr>\n",
       "      <th>1</th>\n",
       "      <td>가길동</td>\n",
       "      <td>90</td>\n",
       "      <td>A</td>\n",
       "    </tr>\n",
       "    <tr>\n",
       "      <th>2</th>\n",
       "      <td>나길동</td>\n",
       "      <td>56</td>\n",
       "      <td>F</td>\n",
       "    </tr>\n",
       "    <tr>\n",
       "      <th>3</th>\n",
       "      <td>다길동</td>\n",
       "      <td>87</td>\n",
       "      <td>B</td>\n",
       "    </tr>\n",
       "    <tr>\n",
       "      <th>4</th>\n",
       "      <td>라길동</td>\n",
       "      <td>78</td>\n",
       "      <td>C</td>\n",
       "    </tr>\n",
       "  </tbody>\n",
       "</table>\n",
       "</div>"
      ],
      "text/plain": [
       "  names  scores grade\n",
       "1   가길동      90     A\n",
       "2   나길동      56     F\n",
       "3   다길동      87     B\n",
       "4   라길동      78     C"
      ]
     },
     "execution_count": 19,
     "metadata": {},
     "output_type": "execute_result"
    }
   ],
   "source": [
    "#데이타 프레임 참조하기 1\n",
    "dic = {'names':['가길동','나길동','다길동','라길동'],'scores':[90,56,87,78],'grade':['A','F','B','C']}\n",
    "df = pd.DataFrame(dic,index=[1,2,3,4])\n",
    "df"
   ]
  },
  {
   "cell_type": "code",
   "execution_count": 20,
   "id": "9e9cbf7e",
   "metadata": {},
   "outputs": [
    {
     "data": {
      "text/html": [
       "<div>\n",
       "<style scoped>\n",
       "    .dataframe tbody tr th:only-of-type {\n",
       "        vertical-align: middle;\n",
       "    }\n",
       "\n",
       "    .dataframe tbody tr th {\n",
       "        vertical-align: top;\n",
       "    }\n",
       "\n",
       "    .dataframe thead th {\n",
       "        text-align: right;\n",
       "    }\n",
       "</style>\n",
       "<table border=\"1\" class=\"dataframe\">\n",
       "  <thead>\n",
       "    <tr style=\"text-align: right;\">\n",
       "      <th></th>\n",
       "      <th>names</th>\n",
       "      <th>scores</th>\n",
       "      <th>grade</th>\n",
       "    </tr>\n",
       "  </thead>\n",
       "  <tbody>\n",
       "    <tr>\n",
       "      <th>1</th>\n",
       "      <td>가길동</td>\n",
       "      <td>90</td>\n",
       "      <td>A</td>\n",
       "    </tr>\n",
       "    <tr>\n",
       "      <th>2</th>\n",
       "      <td>나길동</td>\n",
       "      <td>56</td>\n",
       "      <td>F</td>\n",
       "    </tr>\n",
       "  </tbody>\n",
       "</table>\n",
       "</div>"
      ],
      "text/plain": [
       "  names  scores grade\n",
       "1   가길동      90     A\n",
       "2   나길동      56     F"
      ]
     },
     "execution_count": 20,
     "metadata": {},
     "output_type": "execute_result"
    }
   ],
   "source": [
    "#head(n)함수:앞에서부터 디폴트로 5개의 데이타를 반환. 숫자(n)를 지정 가능\n",
    "df.head(2)"
   ]
  },
  {
   "cell_type": "code",
   "execution_count": 21,
   "id": "4c99c441",
   "metadata": {},
   "outputs": [
    {
     "data": {
      "text/html": [
       "<div>\n",
       "<style scoped>\n",
       "    .dataframe tbody tr th:only-of-type {\n",
       "        vertical-align: middle;\n",
       "    }\n",
       "\n",
       "    .dataframe tbody tr th {\n",
       "        vertical-align: top;\n",
       "    }\n",
       "\n",
       "    .dataframe thead th {\n",
       "        text-align: right;\n",
       "    }\n",
       "</style>\n",
       "<table border=\"1\" class=\"dataframe\">\n",
       "  <thead>\n",
       "    <tr style=\"text-align: right;\">\n",
       "      <th></th>\n",
       "      <th>names</th>\n",
       "      <th>scores</th>\n",
       "      <th>grade</th>\n",
       "    </tr>\n",
       "  </thead>\n",
       "  <tbody>\n",
       "    <tr>\n",
       "      <th>3</th>\n",
       "      <td>다길동</td>\n",
       "      <td>87</td>\n",
       "      <td>B</td>\n",
       "    </tr>\n",
       "    <tr>\n",
       "      <th>4</th>\n",
       "      <td>라길동</td>\n",
       "      <td>78</td>\n",
       "      <td>C</td>\n",
       "    </tr>\n",
       "  </tbody>\n",
       "</table>\n",
       "</div>"
      ],
      "text/plain": [
       "  names  scores grade\n",
       "3   다길동      87     B\n",
       "4   라길동      78     C"
      ]
     },
     "execution_count": 21,
     "metadata": {},
     "output_type": "execute_result"
    }
   ],
   "source": [
    "#tail(n)함수:뒤에서부터 디폴트로 5개의 데이타를 반환. 숫자(n)를 지정 가능\n",
    "df.tail(2)"
   ]
  },
  {
   "cell_type": "code",
   "execution_count": 22,
   "id": "10c8e592",
   "metadata": {},
   "outputs": [
    {
     "data": {
      "text/html": [
       "<div>\n",
       "<style scoped>\n",
       "    .dataframe tbody tr th:only-of-type {\n",
       "        vertical-align: middle;\n",
       "    }\n",
       "\n",
       "    .dataframe tbody tr th {\n",
       "        vertical-align: top;\n",
       "    }\n",
       "\n",
       "    .dataframe thead th {\n",
       "        text-align: right;\n",
       "    }\n",
       "</style>\n",
       "<table border=\"1\" class=\"dataframe\">\n",
       "  <thead>\n",
       "    <tr style=\"text-align: right;\">\n",
       "      <th></th>\n",
       "      <th>names</th>\n",
       "      <th>scores</th>\n",
       "      <th>grade</th>\n",
       "    </tr>\n",
       "  </thead>\n",
       "  <tbody>\n",
       "    <tr>\n",
       "      <th>2</th>\n",
       "      <td>나길동</td>\n",
       "      <td>56</td>\n",
       "      <td>F</td>\n",
       "    </tr>\n",
       "  </tbody>\n",
       "</table>\n",
       "</div>"
      ],
      "text/plain": [
       "  names  scores grade\n",
       "2   나길동      56     F"
      ]
     },
     "execution_count": 22,
     "metadata": {},
     "output_type": "execute_result"
    }
   ],
   "source": [
    "#sample(n)함수:랜덤하게 디폴트로 1개의 데이타를 반환. 숫자(n)를 지정 가능\n",
    "df.sample()"
   ]
  },
  {
   "cell_type": "code",
   "execution_count": 23,
   "id": "44558b19",
   "metadata": {},
   "outputs": [
    {
     "data": {
      "text/html": [
       "<div>\n",
       "<style scoped>\n",
       "    .dataframe tbody tr th:only-of-type {\n",
       "        vertical-align: middle;\n",
       "    }\n",
       "\n",
       "    .dataframe tbody tr th {\n",
       "        vertical-align: top;\n",
       "    }\n",
       "\n",
       "    .dataframe thead th {\n",
       "        text-align: right;\n",
       "    }\n",
       "</style>\n",
       "<table border=\"1\" class=\"dataframe\">\n",
       "  <thead>\n",
       "    <tr style=\"text-align: right;\">\n",
       "      <th></th>\n",
       "      <th>scores</th>\n",
       "    </tr>\n",
       "  </thead>\n",
       "  <tbody>\n",
       "    <tr>\n",
       "      <th>count</th>\n",
       "      <td>4.000000</td>\n",
       "    </tr>\n",
       "    <tr>\n",
       "      <th>mean</th>\n",
       "      <td>77.750000</td>\n",
       "    </tr>\n",
       "    <tr>\n",
       "      <th>std</th>\n",
       "      <td>15.370426</td>\n",
       "    </tr>\n",
       "    <tr>\n",
       "      <th>min</th>\n",
       "      <td>56.000000</td>\n",
       "    </tr>\n",
       "    <tr>\n",
       "      <th>25%</th>\n",
       "      <td>72.500000</td>\n",
       "    </tr>\n",
       "    <tr>\n",
       "      <th>50%</th>\n",
       "      <td>82.500000</td>\n",
       "    </tr>\n",
       "    <tr>\n",
       "      <th>75%</th>\n",
       "      <td>87.750000</td>\n",
       "    </tr>\n",
       "    <tr>\n",
       "      <th>max</th>\n",
       "      <td>90.000000</td>\n",
       "    </tr>\n",
       "  </tbody>\n",
       "</table>\n",
       "</div>"
      ],
      "text/plain": [
       "          scores\n",
       "count   4.000000\n",
       "mean   77.750000\n",
       "std    15.370426\n",
       "min    56.000000\n",
       "25%    72.500000\n",
       "50%    82.500000\n",
       "75%    87.750000\n",
       "max    90.000000"
      ]
     },
     "execution_count": 23,
     "metadata": {},
     "output_type": "execute_result"
    }
   ],
   "source": [
    "#describe()함수:기술 통계를 생성.숫자 데이터 분포의 중심 경향, 분산 및 모양을 요약하는 통계치 반환\n",
    "df.describe()#scores컬럼이 수치 데이타 임으로"
   ]
  },
  {
   "cell_type": "code",
   "execution_count": 24,
   "id": "58591398",
   "metadata": {},
   "outputs": [
    {
     "name": "stdout",
     "output_type": "stream",
     "text": [
      "<class 'pandas.core.frame.DataFrame'>\n",
      "Int64Index: 4 entries, 1 to 4\n",
      "Data columns (total 3 columns):\n",
      " #   Column  Non-Null Count  Dtype \n",
      "---  ------  --------------  ----- \n",
      " 0   names   4 non-null      object\n",
      " 1   scores  4 non-null      int64 \n",
      " 2   grade   4 non-null      object\n",
      "dtypes: int64(1), object(2)\n",
      "memory usage: 128.0+ bytes\n"
     ]
    }
   ],
   "source": [
    "#info()함수\n",
    "#컬럼 인덱스 dtype 및 null이 아닌 값 및 메모리 사용량을 포함하는 DataFrame에 대한 정보를 출력\n",
    "#결측치 존재 유무 판단할때 주로 사용한다\n",
    "df.info()"
   ]
  },
  {
   "cell_type": "code",
   "execution_count": 25,
   "id": "9d67965a",
   "metadata": {},
   "outputs": [
    {
     "data": {
      "text/html": [
       "<div>\n",
       "<style scoped>\n",
       "    .dataframe tbody tr th:only-of-type {\n",
       "        vertical-align: middle;\n",
       "    }\n",
       "\n",
       "    .dataframe tbody tr th {\n",
       "        vertical-align: top;\n",
       "    }\n",
       "\n",
       "    .dataframe thead th {\n",
       "        text-align: right;\n",
       "    }\n",
       "</style>\n",
       "<table border=\"1\" class=\"dataframe\">\n",
       "  <thead>\n",
       "    <tr style=\"text-align: right;\">\n",
       "      <th></th>\n",
       "      <th>names</th>\n",
       "      <th>years</th>\n",
       "      <th>scores</th>\n",
       "      <th>grade</th>\n",
       "      <th>major</th>\n",
       "    </tr>\n",
       "  </thead>\n",
       "  <tbody>\n",
       "    <tr>\n",
       "      <th>가</th>\n",
       "      <td>가길동</td>\n",
       "      <td>NaN</td>\n",
       "      <td>90</td>\n",
       "      <td>A</td>\n",
       "      <td>NaN</td>\n",
       "    </tr>\n",
       "    <tr>\n",
       "      <th>나</th>\n",
       "      <td>나길동</td>\n",
       "      <td>NaN</td>\n",
       "      <td>56</td>\n",
       "      <td>F</td>\n",
       "      <td>NaN</td>\n",
       "    </tr>\n",
       "    <tr>\n",
       "      <th>다</th>\n",
       "      <td>다길동</td>\n",
       "      <td>NaN</td>\n",
       "      <td>87</td>\n",
       "      <td>B</td>\n",
       "      <td>NaN</td>\n",
       "    </tr>\n",
       "    <tr>\n",
       "      <th>라</th>\n",
       "      <td>라길동</td>\n",
       "      <td>NaN</td>\n",
       "      <td>78</td>\n",
       "      <td>C</td>\n",
       "      <td>NaN</td>\n",
       "    </tr>\n",
       "  </tbody>\n",
       "</table>\n",
       "</div>"
      ],
      "text/plain": [
       "  names years  scores grade major\n",
       "가   가길동   NaN      90     A   NaN\n",
       "나   나길동   NaN      56     F   NaN\n",
       "다   다길동   NaN      87     B   NaN\n",
       "라   라길동   NaN      78     C   NaN"
      ]
     },
     "execution_count": 25,
     "metadata": {},
     "output_type": "execute_result"
    }
   ],
   "source": [
    "df2 = pd.DataFrame(dic,columns=['names','years','scores','grade','major'],index=list('가나다라'))\n",
    "df2"
   ]
  },
  {
   "cell_type": "code",
   "execution_count": 26,
   "id": "b111a1d7",
   "metadata": {},
   "outputs": [
    {
     "name": "stdout",
     "output_type": "stream",
     "text": [
      "<class 'pandas.core.frame.DataFrame'>\n",
      "Index: 4 entries, 가 to 라\n",
      "Data columns (total 5 columns):\n",
      " #   Column  Non-Null Count  Dtype \n",
      "---  ------  --------------  ----- \n",
      " 0   names   4 non-null      object\n",
      " 1   years   0 non-null      object\n",
      " 2   scores  4 non-null      int64 \n",
      " 3   grade   4 non-null      object\n",
      " 4   major   0 non-null      object\n",
      "dtypes: int64(1), object(4)\n",
      "memory usage: 192.0+ bytes\n"
     ]
    }
   ],
   "source": [
    "df2.info()"
   ]
  },
  {
   "cell_type": "code",
   "execution_count": null,
   "id": "484c6113",
   "metadata": {},
   "outputs": [],
   "source": [
    "#하나의 컬럼 참조하기\n",
    "#데이타프레임객체[\"컬럼명\"] 혹은 데이타프레임객체.컬럼명 : 시리즈로 가져온다"
   ]
  },
  {
   "cell_type": "code",
   "execution_count": 37,
   "id": "7672d7c3",
   "metadata": {},
   "outputs": [
    {
     "data": {
      "text/plain": [
       "가    90\n",
       "나    56\n",
       "다    87\n",
       "라    78\n",
       "Name: scores, dtype: int64"
      ]
     },
     "execution_count": 37,
     "metadata": {},
     "output_type": "execute_result"
    }
   ],
   "source": [
    "#df2['scores']\n",
    "df2.scores"
   ]
  },
  {
   "cell_type": "code",
   "execution_count": 36,
   "id": "2edb7913",
   "metadata": {},
   "outputs": [
    {
     "data": {
      "text/html": [
       "<div>\n",
       "<style scoped>\n",
       "    .dataframe tbody tr th:only-of-type {\n",
       "        vertical-align: middle;\n",
       "    }\n",
       "\n",
       "    .dataframe tbody tr th {\n",
       "        vertical-align: top;\n",
       "    }\n",
       "\n",
       "    .dataframe thead th {\n",
       "        text-align: right;\n",
       "    }\n",
       "</style>\n",
       "<table border=\"1\" class=\"dataframe\">\n",
       "  <thead>\n",
       "    <tr style=\"text-align: right;\">\n",
       "      <th></th>\n",
       "      <th>names</th>\n",
       "      <th>scores</th>\n",
       "    </tr>\n",
       "  </thead>\n",
       "  <tbody>\n",
       "    <tr>\n",
       "      <th>가</th>\n",
       "      <td>가길동</td>\n",
       "      <td>90</td>\n",
       "    </tr>\n",
       "    <tr>\n",
       "      <th>나</th>\n",
       "      <td>나길동</td>\n",
       "      <td>56</td>\n",
       "    </tr>\n",
       "    <tr>\n",
       "      <th>다</th>\n",
       "      <td>다길동</td>\n",
       "      <td>87</td>\n",
       "    </tr>\n",
       "    <tr>\n",
       "      <th>라</th>\n",
       "      <td>라길동</td>\n",
       "      <td>78</td>\n",
       "    </tr>\n",
       "  </tbody>\n",
       "</table>\n",
       "</div>"
      ],
      "text/plain": [
       "  names  scores\n",
       "가   가길동      90\n",
       "나   나길동      56\n",
       "다   다길동      87\n",
       "라   라길동      78"
      ]
     },
     "execution_count": 36,
     "metadata": {},
     "output_type": "execute_result"
    }
   ],
   "source": [
    "#두개 이상의 컬럼 참조하기:데이타 프레임으로 가져온다\n",
    "#df2['namses','scores']##KeyError: ('names', 'score')\n",
    "df2[['names','scores']]"
   ]
  },
  {
   "cell_type": "code",
   "execution_count": 34,
   "id": "0bf99ffc",
   "metadata": {},
   "outputs": [
    {
     "data": {
      "text/html": [
       "<div>\n",
       "<style scoped>\n",
       "    .dataframe tbody tr th:only-of-type {\n",
       "        vertical-align: middle;\n",
       "    }\n",
       "\n",
       "    .dataframe tbody tr th {\n",
       "        vertical-align: top;\n",
       "    }\n",
       "\n",
       "    .dataframe thead th {\n",
       "        text-align: right;\n",
       "    }\n",
       "</style>\n",
       "<table border=\"1\" class=\"dataframe\">\n",
       "  <thead>\n",
       "    <tr style=\"text-align: right;\">\n",
       "      <th></th>\n",
       "      <th>names</th>\n",
       "      <th>years</th>\n",
       "      <th>scores</th>\n",
       "      <th>grade</th>\n",
       "      <th>major</th>\n",
       "    </tr>\n",
       "  </thead>\n",
       "  <tbody>\n",
       "    <tr>\n",
       "      <th>가</th>\n",
       "      <td>가길동</td>\n",
       "      <td>NaN</td>\n",
       "      <td>90</td>\n",
       "      <td>A</td>\n",
       "      <td>경영학</td>\n",
       "    </tr>\n",
       "    <tr>\n",
       "      <th>나</th>\n",
       "      <td>나길동</td>\n",
       "      <td>NaN</td>\n",
       "      <td>56</td>\n",
       "      <td>F</td>\n",
       "      <td>경영학</td>\n",
       "    </tr>\n",
       "    <tr>\n",
       "      <th>다</th>\n",
       "      <td>다길동</td>\n",
       "      <td>NaN</td>\n",
       "      <td>87</td>\n",
       "      <td>B</td>\n",
       "      <td>경영학</td>\n",
       "    </tr>\n",
       "    <tr>\n",
       "      <th>라</th>\n",
       "      <td>라길동</td>\n",
       "      <td>NaN</td>\n",
       "      <td>78</td>\n",
       "      <td>C</td>\n",
       "      <td>경영학</td>\n",
       "    </tr>\n",
       "  </tbody>\n",
       "</table>\n",
       "</div>"
      ],
      "text/plain": [
       "  names years  scores grade major\n",
       "가   가길동   NaN      90     A   경영학\n",
       "나   나길동   NaN      56     F   경영학\n",
       "다   다길동   NaN      87     B   경영학\n",
       "라   라길동   NaN      78     C   경영학"
      ]
     },
     "execution_count": 34,
     "metadata": {},
     "output_type": "execute_result"
    }
   ],
   "source": [
    "#기존 컬럼에 값 설정하기\n",
    "df2.major='컴퓨터공학'#스칼라(해당 컬럼의 모든행이 일괄 설정)\n",
    "df2['major']='경영학'\n",
    "df2"
   ]
  },
  {
   "cell_type": "code",
   "execution_count": 38,
   "id": "d2ce3f23",
   "metadata": {},
   "outputs": [
    {
     "data": {
      "text/html": [
       "<div>\n",
       "<style scoped>\n",
       "    .dataframe tbody tr th:only-of-type {\n",
       "        vertical-align: middle;\n",
       "    }\n",
       "\n",
       "    .dataframe tbody tr th {\n",
       "        vertical-align: top;\n",
       "    }\n",
       "\n",
       "    .dataframe thead th {\n",
       "        text-align: right;\n",
       "    }\n",
       "</style>\n",
       "<table border=\"1\" class=\"dataframe\">\n",
       "  <thead>\n",
       "    <tr style=\"text-align: right;\">\n",
       "      <th></th>\n",
       "      <th>names</th>\n",
       "      <th>years</th>\n",
       "      <th>scores</th>\n",
       "      <th>grade</th>\n",
       "      <th>major</th>\n",
       "    </tr>\n",
       "  </thead>\n",
       "  <tbody>\n",
       "    <tr>\n",
       "      <th>가</th>\n",
       "      <td>가길동</td>\n",
       "      <td>NaN</td>\n",
       "      <td>90</td>\n",
       "      <td>A</td>\n",
       "      <td>컴퓨터공학</td>\n",
       "    </tr>\n",
       "    <tr>\n",
       "      <th>나</th>\n",
       "      <td>나길동</td>\n",
       "      <td>NaN</td>\n",
       "      <td>56</td>\n",
       "      <td>F</td>\n",
       "      <td>경영학</td>\n",
       "    </tr>\n",
       "    <tr>\n",
       "      <th>다</th>\n",
       "      <td>다길동</td>\n",
       "      <td>NaN</td>\n",
       "      <td>87</td>\n",
       "      <td>B</td>\n",
       "      <td>토목공학</td>\n",
       "    </tr>\n",
       "    <tr>\n",
       "      <th>라</th>\n",
       "      <td>라길동</td>\n",
       "      <td>NaN</td>\n",
       "      <td>78</td>\n",
       "      <td>C</td>\n",
       "      <td>건축공학</td>\n",
       "    </tr>\n",
       "  </tbody>\n",
       "</table>\n",
       "</div>"
      ],
      "text/plain": [
       "  names years  scores grade  major\n",
       "가   가길동   NaN      90     A  컴퓨터공학\n",
       "나   나길동   NaN      56     F    경영학\n",
       "다   다길동   NaN      87     B   토목공학\n",
       "라   라길동   NaN      78     C   건축공학"
      ]
     },
     "execution_count": 38,
     "metadata": {},
     "output_type": "execute_result"
    }
   ],
   "source": [
    "#각 행별로 각기 다른 값 설정시 튜플이나 리스트 혹은 시리즈 혹은 넘파이 배열\n",
    "df2['major']='컴퓨터공학','경영학','토목공학','건축공학'\n",
    "df2"
   ]
  },
  {
   "cell_type": "code",
   "execution_count": 42,
   "id": "908c199a",
   "metadata": {},
   "outputs": [
    {
     "data": {
      "text/html": [
       "<div>\n",
       "<style scoped>\n",
       "    .dataframe tbody tr th:only-of-type {\n",
       "        vertical-align: middle;\n",
       "    }\n",
       "\n",
       "    .dataframe tbody tr th {\n",
       "        vertical-align: top;\n",
       "    }\n",
       "\n",
       "    .dataframe thead th {\n",
       "        text-align: right;\n",
       "    }\n",
       "</style>\n",
       "<table border=\"1\" class=\"dataframe\">\n",
       "  <thead>\n",
       "    <tr style=\"text-align: right;\">\n",
       "      <th></th>\n",
       "      <th>names</th>\n",
       "      <th>years</th>\n",
       "      <th>scores</th>\n",
       "      <th>grade</th>\n",
       "      <th>major</th>\n",
       "      <th>addr</th>\n",
       "      <th>ages</th>\n",
       "    </tr>\n",
       "  </thead>\n",
       "  <tbody>\n",
       "    <tr>\n",
       "      <th>가</th>\n",
       "      <td>가길동</td>\n",
       "      <td>NaN</td>\n",
       "      <td>90</td>\n",
       "      <td>A</td>\n",
       "      <td>컴퓨터공학</td>\n",
       "      <td>가산동</td>\n",
       "      <td>23</td>\n",
       "    </tr>\n",
       "    <tr>\n",
       "      <th>나</th>\n",
       "      <td>나길동</td>\n",
       "      <td>NaN</td>\n",
       "      <td>56</td>\n",
       "      <td>F</td>\n",
       "      <td>경영학</td>\n",
       "      <td>나산동</td>\n",
       "      <td>37</td>\n",
       "    </tr>\n",
       "    <tr>\n",
       "      <th>다</th>\n",
       "      <td>다길동</td>\n",
       "      <td>NaN</td>\n",
       "      <td>87</td>\n",
       "      <td>B</td>\n",
       "      <td>토목공학</td>\n",
       "      <td>다산동</td>\n",
       "      <td>24</td>\n",
       "    </tr>\n",
       "    <tr>\n",
       "      <th>라</th>\n",
       "      <td>라길동</td>\n",
       "      <td>NaN</td>\n",
       "      <td>78</td>\n",
       "      <td>C</td>\n",
       "      <td>건축공학</td>\n",
       "      <td>라산동</td>\n",
       "      <td>29</td>\n",
       "    </tr>\n",
       "  </tbody>\n",
       "</table>\n",
       "</div>"
      ],
      "text/plain": [
       "  names years  scores grade  major addr  ages\n",
       "가   가길동   NaN      90     A  컴퓨터공학  가산동    23\n",
       "나   나길동   NaN      56     F    경영학  나산동    37\n",
       "다   다길동   NaN      87     B   토목공학  다산동    24\n",
       "라   라길동   NaN      78     C   건축공학  라산동    29"
      ]
     },
     "execution_count": 42,
     "metadata": {},
     "output_type": "execute_result"
    }
   ],
   "source": [
    "#새로운 컬럼 생성 및 값 설정하기\n",
    "#데이타프레임객체['새로운 컬럴명'] 형식으로 추가해야 한다\n",
    "#df2.addr=['가산동','나산동','다산동','라산동'] df2.속성 형식으로 새로운 컬럼 추가 불가\n",
    "df2['addr']=['가산동','나산동','다산동','라산동'] \n",
    "df2['ages']=np.random.randint(20,40,size=4)#넘파이 배열로 값 대입\n",
    "df2"
   ]
  },
  {
   "cell_type": "code",
   "execution_count": 45,
   "id": "5914be68",
   "metadata": {},
   "outputs": [],
   "source": [
    "series=pd.Series(data=['2021학번','2019학번'],index=['가','다'])"
   ]
  },
  {
   "cell_type": "code",
   "execution_count": 46,
   "id": "bf5d1c05",
   "metadata": {},
   "outputs": [
    {
     "data": {
      "text/plain": [
       "Index(['가', '다'], dtype='object')"
      ]
     },
     "execution_count": 46,
     "metadata": {},
     "output_type": "execute_result"
    }
   ],
   "source": [
    "series.index"
   ]
  },
  {
   "cell_type": "code",
   "execution_count": 48,
   "id": "9ee06cff",
   "metadata": {},
   "outputs": [
    {
     "data": {
      "text/html": [
       "<div>\n",
       "<style scoped>\n",
       "    .dataframe tbody tr th:only-of-type {\n",
       "        vertical-align: middle;\n",
       "    }\n",
       "\n",
       "    .dataframe tbody tr th {\n",
       "        vertical-align: top;\n",
       "    }\n",
       "\n",
       "    .dataframe thead th {\n",
       "        text-align: right;\n",
       "    }\n",
       "</style>\n",
       "<table border=\"1\" class=\"dataframe\">\n",
       "  <thead>\n",
       "    <tr style=\"text-align: right;\">\n",
       "      <th></th>\n",
       "      <th>names</th>\n",
       "      <th>years</th>\n",
       "      <th>scores</th>\n",
       "      <th>grade</th>\n",
       "      <th>major</th>\n",
       "      <th>addr</th>\n",
       "      <th>ages</th>\n",
       "      <th>hakbun</th>\n",
       "    </tr>\n",
       "  </thead>\n",
       "  <tbody>\n",
       "    <tr>\n",
       "      <th>가</th>\n",
       "      <td>가길동</td>\n",
       "      <td>NaN</td>\n",
       "      <td>90</td>\n",
       "      <td>A</td>\n",
       "      <td>컴퓨터공학</td>\n",
       "      <td>가산동</td>\n",
       "      <td>23</td>\n",
       "      <td>2021학번</td>\n",
       "    </tr>\n",
       "    <tr>\n",
       "      <th>나</th>\n",
       "      <td>나길동</td>\n",
       "      <td>NaN</td>\n",
       "      <td>56</td>\n",
       "      <td>F</td>\n",
       "      <td>경영학</td>\n",
       "      <td>나산동</td>\n",
       "      <td>37</td>\n",
       "      <td>NaN</td>\n",
       "    </tr>\n",
       "    <tr>\n",
       "      <th>다</th>\n",
       "      <td>다길동</td>\n",
       "      <td>NaN</td>\n",
       "      <td>87</td>\n",
       "      <td>B</td>\n",
       "      <td>토목공학</td>\n",
       "      <td>다산동</td>\n",
       "      <td>24</td>\n",
       "      <td>2019학번</td>\n",
       "    </tr>\n",
       "    <tr>\n",
       "      <th>라</th>\n",
       "      <td>라길동</td>\n",
       "      <td>NaN</td>\n",
       "      <td>78</td>\n",
       "      <td>C</td>\n",
       "      <td>건축공학</td>\n",
       "      <td>라산동</td>\n",
       "      <td>29</td>\n",
       "      <td>NaN</td>\n",
       "    </tr>\n",
       "  </tbody>\n",
       "</table>\n",
       "</div>"
      ],
      "text/plain": [
       "  names years  scores grade  major addr  ages  hakbun\n",
       "가   가길동   NaN      90     A  컴퓨터공학  가산동    23  2021학번\n",
       "나   나길동   NaN      56     F    경영학  나산동    37     NaN\n",
       "다   다길동   NaN      87     B   토목공학  다산동    24  2019학번\n",
       "라   라길동   NaN      78     C   건축공학  라산동    29     NaN"
      ]
     },
     "execution_count": 48,
     "metadata": {},
     "output_type": "execute_result"
    }
   ],
   "source": [
    "'''\n",
    "데이타프레임의 컬럼에 Series로 값 대입\n",
    "기존의 행 index와 동일한 이름으로 시리즈의 index를 설정하면\n",
    "데이타프레임의 행 인덱스에 맞춰서 시리즈 데이타가 설정된다\n",
    "일치하지 않은 인덱스는 NaN\n",
    "'''\n",
    "df2['hakbun']=series\n",
    "df2"
   ]
  },
  {
   "cell_type": "code",
   "execution_count": 50,
   "id": "eea9afce",
   "metadata": {},
   "outputs": [
    {
     "data": {
      "text/plain": [
       "가     True\n",
       "나    False\n",
       "다     True\n",
       "라    False\n",
       "Name: scores, dtype: bool"
      ]
     },
     "execution_count": 50,
     "metadata": {},
     "output_type": "execute_result"
    }
   ],
   "source": [
    "df2['scores'] >= 80  #시리즈"
   ]
  },
  {
   "cell_type": "code",
   "execution_count": 54,
   "id": "0398fb4a",
   "metadata": {},
   "outputs": [
    {
     "data": {
      "text/plain": [
       "['합격', '불합격', '합격', '불합격']"
      ]
     },
     "execution_count": 54,
     "metadata": {},
     "output_type": "execute_result"
    }
   ],
   "source": [
    "['합격' if i >=80 else '불합격' for i in df2['scores'] ]"
   ]
  },
  {
   "cell_type": "code",
   "execution_count": 55,
   "id": "fa08c605",
   "metadata": {},
   "outputs": [
    {
     "data": {
      "text/html": [
       "<div>\n",
       "<style scoped>\n",
       "    .dataframe tbody tr th:only-of-type {\n",
       "        vertical-align: middle;\n",
       "    }\n",
       "\n",
       "    .dataframe tbody tr th {\n",
       "        vertical-align: top;\n",
       "    }\n",
       "\n",
       "    .dataframe thead th {\n",
       "        text-align: right;\n",
       "    }\n",
       "</style>\n",
       "<table border=\"1\" class=\"dataframe\">\n",
       "  <thead>\n",
       "    <tr style=\"text-align: right;\">\n",
       "      <th></th>\n",
       "      <th>names</th>\n",
       "      <th>years</th>\n",
       "      <th>scores</th>\n",
       "      <th>grade</th>\n",
       "      <th>major</th>\n",
       "      <th>addr</th>\n",
       "      <th>ages</th>\n",
       "      <th>hakbun</th>\n",
       "      <th>pass</th>\n",
       "    </tr>\n",
       "  </thead>\n",
       "  <tbody>\n",
       "    <tr>\n",
       "      <th>가</th>\n",
       "      <td>가길동</td>\n",
       "      <td>NaN</td>\n",
       "      <td>90</td>\n",
       "      <td>A</td>\n",
       "      <td>컴퓨터공학</td>\n",
       "      <td>가산동</td>\n",
       "      <td>23</td>\n",
       "      <td>2021학번</td>\n",
       "      <td>합격</td>\n",
       "    </tr>\n",
       "    <tr>\n",
       "      <th>나</th>\n",
       "      <td>나길동</td>\n",
       "      <td>NaN</td>\n",
       "      <td>56</td>\n",
       "      <td>F</td>\n",
       "      <td>경영학</td>\n",
       "      <td>나산동</td>\n",
       "      <td>37</td>\n",
       "      <td>NaN</td>\n",
       "      <td>불합격</td>\n",
       "    </tr>\n",
       "    <tr>\n",
       "      <th>다</th>\n",
       "      <td>다길동</td>\n",
       "      <td>NaN</td>\n",
       "      <td>87</td>\n",
       "      <td>B</td>\n",
       "      <td>토목공학</td>\n",
       "      <td>다산동</td>\n",
       "      <td>24</td>\n",
       "      <td>2019학번</td>\n",
       "      <td>합격</td>\n",
       "    </tr>\n",
       "    <tr>\n",
       "      <th>라</th>\n",
       "      <td>라길동</td>\n",
       "      <td>NaN</td>\n",
       "      <td>78</td>\n",
       "      <td>C</td>\n",
       "      <td>건축공학</td>\n",
       "      <td>라산동</td>\n",
       "      <td>29</td>\n",
       "      <td>NaN</td>\n",
       "      <td>불합격</td>\n",
       "    </tr>\n",
       "  </tbody>\n",
       "</table>\n",
       "</div>"
      ],
      "text/plain": [
       "  names years  scores grade  major addr  ages  hakbun pass\n",
       "가   가길동   NaN      90     A  컴퓨터공학  가산동    23  2021학번   합격\n",
       "나   나길동   NaN      56     F    경영학  나산동    37     NaN  불합격\n",
       "다   다길동   NaN      87     B   토목공학  다산동    24  2019학번   합격\n",
       "라   라길동   NaN      78     C   건축공학  라산동    29     NaN  불합격"
      ]
     },
     "execution_count": 55,
     "metadata": {},
     "output_type": "execute_result"
    }
   ],
   "source": [
    "#pass컬럼 추가시 scores컬럼의 값에 따라 합격/불합격 설정\n",
    "#즉 80점이상이면 합격,그렇지 않으면 불합격으로 값 설정\n",
    "df2['pass']=['합격' if i >=80 else '불합격' for i in df2['scores'] ]\n",
    "df2"
   ]
  },
  {
   "cell_type": "code",
   "execution_count": null,
   "id": "dc7f998f",
   "metadata": {},
   "outputs": [],
   "source": []
  }
 ],
 "metadata": {
  "kernelspec": {
   "display_name": "Python 3 (ipykernel)",
   "language": "python",
   "name": "python3"
  },
  "language_info": {
   "codemirror_mode": {
    "name": "ipython",
    "version": 3
   },
   "file_extension": ".py",
   "mimetype": "text/x-python",
   "name": "python",
   "nbconvert_exporter": "python",
   "pygments_lexer": "ipython3",
   "version": "3.10.9"
  }
 },
 "nbformat": 4,
 "nbformat_minor": 5
}
