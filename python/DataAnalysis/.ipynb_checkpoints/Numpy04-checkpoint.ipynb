{
 "cells": [
  {
   "cell_type": "code",
   "execution_count": 4,
   "id": "2426ae84",
   "metadata": {},
   "outputs": [
    {
     "data": {
      "text/plain": [
       "array([0., 0., 0., 0., 0.])"
      ]
     },
     "execution_count": 4,
     "metadata": {},
     "output_type": "execute_result"
    }
   ],
   "source": [
    "import numpy as np\n",
    "#Numpy배열 생성하기 2 : 특정값으로 초기화 하는 함수\n",
    "#zeros()함수:모든 요소를 0로 초기화.데이타 타입 디폴트는 np.float64\n",
    "zeros = np.zeros(shape=5)#shape=(5,)혹은 shape=[5]\n",
    "zeros"
   ]
  },
  {
   "cell_type": "code",
   "execution_count": 5,
   "id": "feb2894c",
   "metadata": {},
   "outputs": [
    {
     "data": {
      "text/plain": [
       "\"type:<class 'numpy.ndarray'>,shape:(5,),dimensions:1,dtype:float64\""
      ]
     },
     "execution_count": 5,
     "metadata": {},
     "output_type": "execute_result"
    }
   ],
   "source": [
    "f'type:{type(zeros)},shape:{zeros.shape},dimensions:{zeros.ndim},dtype:{zeros.dtype}'"
   ]
  },
  {
   "cell_type": "code",
   "execution_count": 6,
   "id": "9c2a1c2e",
   "metadata": {},
   "outputs": [
    {
     "data": {
      "text/plain": [
       "array([[0, 0, 0],\n",
       "       [0, 0, 0]])"
      ]
     },
     "execution_count": 6,
     "metadata": {},
     "output_type": "execute_result"
    }
   ],
   "source": [
    "#zeros_like()함수:zeros_like()함수의 인자로 주어진 배열과 같은(like) shape와 dtype 및 ndim을 가진 배열을 생성하고 모든 요소를 0로 초기화\n",
    "zeros_like = np.zeros_like([[1,2,3],[4,5,6]])\n",
    "zeros_like"
   ]
  },
  {
   "cell_type": "code",
   "execution_count": 7,
   "id": "a432f998",
   "metadata": {},
   "outputs": [
    {
     "data": {
      "text/plain": [
       "\"type:<class 'numpy.ndarray'>,shape:(2, 3),dimensions:2,dtype:int32\""
      ]
     },
     "execution_count": 7,
     "metadata": {},
     "output_type": "execute_result"
    }
   ],
   "source": [
    "f'type:{type(zeros_like)},shape:{zeros_like.shape},dimensions:{zeros_like.ndim},dtype:{zeros_like.dtype}'"
   ]
  },
  {
   "cell_type": "code",
   "execution_count": 8,
   "id": "115c66c5",
   "metadata": {},
   "outputs": [
    {
     "data": {
      "text/plain": [
       "array([1., 1., 1., 1., 1.])"
      ]
     },
     "execution_count": 8,
     "metadata": {},
     "output_type": "execute_result"
    }
   ],
   "source": [
    "#ones()함수:모든 요소를 1로 초기화.데이타 타입 디폴트는 np.float64\n",
    "ones = np.ones(5)\n",
    "ones"
   ]
  },
  {
   "cell_type": "code",
   "execution_count": 9,
   "id": "4971976e",
   "metadata": {},
   "outputs": [
    {
     "data": {
      "text/plain": [
       "\"type:<class 'numpy.ndarray'>,shape:(5,),dimensions:1,dtype:float64\""
      ]
     },
     "execution_count": 9,
     "metadata": {},
     "output_type": "execute_result"
    }
   ],
   "source": [
    "f'type:{type(ones)},shape:{ones.shape},dimensions:{ones.ndim},dtype:{ones.dtype}'"
   ]
  },
  {
   "cell_type": "code",
   "execution_count": 10,
   "id": "6b2e4650",
   "metadata": {},
   "outputs": [
    {
     "data": {
      "text/plain": [
       "array([[1, 1, 1],\n",
       "       [1, 1, 1]])"
      ]
     },
     "execution_count": 10,
     "metadata": {},
     "output_type": "execute_result"
    }
   ],
   "source": [
    "#ones_like()함수:ones_like()함수의 인자로 주어진 배열과 같은(like) shape와 dtype 및 ndim을 가진 배열을 생성하고 모든 요소를 1로 초기화\n",
    "ones_like = np.ones_like([[1,2,3],[4,5,6]])\n",
    "ones_like"
   ]
  },
  {
   "cell_type": "code",
   "execution_count": 12,
   "id": "fad0db31",
   "metadata": {},
   "outputs": [
    {
     "data": {
      "text/plain": [
       "array([[10., 10., 10.],\n",
       "       [10., 10., 10.]], dtype=float32)"
      ]
     },
     "execution_count": 12,
     "metadata": {},
     "output_type": "execute_result"
    }
   ],
   "source": [
    "#full()함수:주어진 shape의 배열을 생성하고 모든 요소를 지정한 \"fill_value\"로 초기화\n",
    "full = np.full(shape=(2,3),fill_value=10,dtype=np.float32)\n",
    "full"
   ]
  },
  {
   "cell_type": "code",
   "execution_count": 14,
   "id": "82f0465d",
   "metadata": {},
   "outputs": [
    {
     "data": {
      "text/plain": [
       "array([[10., 10., 10.],\n",
       "       [10., 10., 10.]], dtype=float32)"
      ]
     },
     "execution_count": 14,
     "metadata": {},
     "output_type": "execute_result"
    }
   ],
   "source": [
    "#full_like()함수:full_like()함수의 인자로 주어진 배열과 같은(like) shape와 dtype 및 ndim을 가진 배열을 생성하고 모든 요소를 fill_value로 초기화\n",
    "full_like = np.full_like([[1,2,3],[4,5,6]],fill_value=10,dtype=np.float32)\n",
    "full_like"
   ]
  },
  {
   "cell_type": "code",
   "execution_count": 15,
   "id": "400ab5df",
   "metadata": {},
   "outputs": [
    {
     "data": {
      "text/plain": [
       "array([[0.00000000e+000, 0.00000000e+000, 0.00000000e+000],\n",
       "       [0.00000000e+000, 0.00000000e+000, 4.82208070e-321],\n",
       "       [1.24610723e-306, 1.29061142e-306, 5.53353523e-322]])"
      ]
     },
     "execution_count": 15,
     "metadata": {},
     "output_type": "execute_result"
    }
   ],
   "source": [
    "#empty()함수:임의의 값을 가진 넘파이 배열이 생성.데이타 타입 디폴트는 np.float64\n",
    "empty = np.empty((3,3))\n",
    "empty"
   ]
  },
  {
   "cell_type": "code",
   "execution_count": null,
   "id": "ec8b49dc",
   "metadata": {},
   "outputs": [],
   "source": []
  }
 ],
 "metadata": {
  "kernelspec": {
   "display_name": "Python 3 (ipykernel)",
   "language": "python",
   "name": "python3"
  },
  "language_info": {
   "codemirror_mode": {
    "name": "ipython",
    "version": 3
   },
   "file_extension": ".py",
   "mimetype": "text/x-python",
   "name": "python",
   "nbconvert_exporter": "python",
   "pygments_lexer": "ipython3",
   "version": "3.10.9"
  }
 },
 "nbformat": 4,
 "nbformat_minor": 5
}
