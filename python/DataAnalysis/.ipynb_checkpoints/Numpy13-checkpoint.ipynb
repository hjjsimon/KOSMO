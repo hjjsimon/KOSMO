{
 "cells": [
  {
   "cell_type": "code",
   "execution_count": 2,
   "id": "f15f594c",
   "metadata": {},
   "outputs": [],
   "source": [
    "#넘파이 배열을 다루는 기타 유용한 함수들\n",
    "import numpy as np"
   ]
  },
  {
   "cell_type": "code",
   "execution_count": 3,
   "id": "01c39600",
   "metadata": {},
   "outputs": [
    {
     "data": {
      "text/plain": [
       "array([[ 1,  2],\n",
       "       [ 3,  4],\n",
       "       [ 5,  6],\n",
       "       [ 7,  8],\n",
       "       [ 9, 10]])"
      ]
     },
     "execution_count": 3,
     "metadata": {},
     "output_type": "execute_result"
    }
   ],
   "source": [
    "#np.copy(배열) 혹은 np.ndarray.copy()함수\n",
    "arr = np.arange(1,11).reshape((5,-1))\n",
    "arr"
   ]
  },
  {
   "cell_type": "code",
   "execution_count": 4,
   "id": "00f5a492",
   "metadata": {},
   "outputs": [
    {
     "data": {
      "text/plain": [
       "array([[ 1,  2],\n",
       "       [ 3,  4],\n",
       "       [ 5,  6],\n",
       "       [ 7,  8],\n",
       "       [ 9, 10]])"
      ]
     },
     "execution_count": 4,
     "metadata": {},
     "output_type": "execute_result"
    }
   ],
   "source": [
    "arr_=arr.copy()\n",
    "arr_"
   ]
  },
  {
   "cell_type": "code",
   "execution_count": 11,
   "id": "0d61aedb",
   "metadata": {},
   "outputs": [
    {
     "data": {
      "text/plain": [
       "array([[ 5,  4, 10,  3],\n",
       "       [ 7,  7, 11,  8],\n",
       "       [ 7, 11, 11,  8]])"
      ]
     },
     "execution_count": 11,
     "metadata": {},
     "output_type": "execute_result"
    }
   ],
   "source": [
    "#np.sort(배열[,axis=-1]) 혹은 np.ndarray.sort([axis=-1])함수\n",
    "np.random.seed(42)\n",
    "arr2 = np.random.randint(1,12,(3,4))\n",
    "arr2.sort(axis=0)\n",
    "arr2"
   ]
  },
  {
   "cell_type": "code",
   "execution_count": 13,
   "id": "0a289941",
   "metadata": {},
   "outputs": [
    {
     "name": "stdout",
     "output_type": "stream",
     "text": [
      "['가길동' '나길동' '다길동' '홍길동']\n"
     ]
    },
    {
     "data": {
      "text/plain": [
       "dtype('<U3')"
      ]
     },
     "execution_count": 13,
     "metadata": {},
     "output_type": "execute_result"
    }
   ],
   "source": [
    "#np.unique()함수\n",
    "names = np.array(['나길동','가길동','홍길동','다길동','나길동','홍길동'])\n",
    "'''\n",
    "return_index : 유니크한 넘파이 배열을 반환할때  그 요소들의 인덱스를 함께 반환할지 여부\n",
    "return_counts : 유니크한 넘파이 배열을 반환할때 그 요소들의 빈도수를 함께 반환할지 여부\n",
    "'''\n",
    "names_ = np.unique(names)\n",
    "print(names_)\n",
    "names_.dtype\n"
   ]
  },
  {
   "cell_type": "code",
   "execution_count": 14,
   "id": "90a0a929",
   "metadata": {},
   "outputs": [
    {
     "data": {
      "text/plain": [
       "(array(['가길동', '나길동', '다길동', '홍길동'], dtype='<U3'),\n",
       " array([1, 0, 3, 2], dtype=int64))"
      ]
     },
     "execution_count": 14,
     "metadata": {},
     "output_type": "execute_result"
    }
   ],
   "source": [
    "names_ = np.unique(names,return_index=True)\n",
    "names_"
   ]
  },
  {
   "cell_type": "code",
   "execution_count": 15,
   "id": "87f303b9",
   "metadata": {},
   "outputs": [
    {
     "data": {
      "text/plain": [
       "(array(['가길동', '나길동', '다길동', '홍길동'], dtype='<U3'),\n",
       " array([1, 0, 3, 2], dtype=int64),\n",
       " array([1, 2, 1, 2], dtype=int64))"
      ]
     },
     "execution_count": 15,
     "metadata": {},
     "output_type": "execute_result"
    }
   ],
   "source": [
    "names_ = np.unique(names,return_index=True,return_counts=True)\n",
    "names_#(요소배열,인덱스배열,빈도수배열)"
   ]
  },
  {
   "cell_type": "code",
   "execution_count": 16,
   "id": "48f1922c",
   "metadata": {},
   "outputs": [
    {
     "data": {
      "text/plain": [
       "dtype('int64')"
      ]
     },
     "execution_count": 16,
     "metadata": {},
     "output_type": "execute_result"
    }
   ],
   "source": [
    "#np.ndarray.astype()함수\n",
    "#넘파이 배열의 타입을 주어진 타입으로 변경해서 새로운 배열 반환\n",
    "names_[1].dtype"
   ]
  },
  {
   "cell_type": "code",
   "execution_count": 19,
   "id": "4f89007b",
   "metadata": {},
   "outputs": [
    {
     "data": {
      "text/plain": [
       "array([1., 0., 3., 2.], dtype=float32)"
      ]
     },
     "execution_count": 19,
     "metadata": {},
     "output_type": "execute_result"
    }
   ],
   "source": [
    "names_1=names_[1].astype(np.float32)#변환된 새로운 배열 반환\n",
    "names_1.dtype\n",
    "names_1"
   ]
  },
  {
   "cell_type": "code",
   "execution_count": 20,
   "id": "3886f82c",
   "metadata": {},
   "outputs": [],
   "source": [
    "import pandas as pd"
   ]
  },
  {
   "cell_type": "code",
   "execution_count": 24,
   "id": "2d82c8d8",
   "metadata": {},
   "outputs": [
    {
     "data": {
      "text/plain": [
       "(dtype('float32'), dtype('float64'))"
      ]
     },
     "execution_count": 24,
     "metadata": {},
     "output_type": "execute_result"
    }
   ],
   "source": [
    "data = {'A':(1,2,3),'B':(4,5,6)}\n",
    "df = pd.DataFrame(data)\n",
    "df\n",
    "#df_=df.astype(np.float32)#전체 요소를 변환\n",
    "df_=df.astype({'A':np.float32,'B':np.float64})#컬럼별로 타입변환 가능(넘파이의 astype과 다르다)\n",
    "df_\n",
    "df_['A'].dtype,df_['B'].dtype"
   ]
  },
  {
   "cell_type": "code",
   "execution_count": null,
   "id": "daf61172",
   "metadata": {},
   "outputs": [],
   "source": []
  }
 ],
 "metadata": {
  "kernelspec": {
   "display_name": "Python 3 (ipykernel)",
   "language": "python",
   "name": "python3"
  },
  "language_info": {
   "codemirror_mode": {
    "name": "ipython",
    "version": 3
   },
   "file_extension": ".py",
   "mimetype": "text/x-python",
   "name": "python",
   "nbconvert_exporter": "python",
   "pygments_lexer": "ipython3",
   "version": "3.10.9"
  }
 },
 "nbformat": 4,
 "nbformat_minor": 5
}
