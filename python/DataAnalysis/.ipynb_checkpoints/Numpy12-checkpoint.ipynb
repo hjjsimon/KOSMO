{
 "cells": [
  {
   "cell_type": "code",
   "execution_count": 1,
   "id": "d718b18c",
   "metadata": {},
   "outputs": [],
   "source": [
    "import numpy as np\n",
    "from urllib.request import urlretrieve"
   ]
  },
  {
   "cell_type": "code",
   "execution_count": 2,
   "id": "af4e6070",
   "metadata": {},
   "outputs": [
    {
     "data": {
      "text/plain": [
       "('ChatbotData.csv', <http.client.HTTPMessage at 0x2c384b9ab90>)"
      ]
     },
     "execution_count": 2,
     "metadata": {},
     "output_type": "execute_result"
    }
   ],
   "source": [
    "#넘파이 배열 파일 I/O\n",
    "url='https://raw.githubusercontent.com/songys/Chatbot_data/master/ChatbotData.csv'\n",
    "filename='ChatbotData.csv'\n",
    "urlretrieve(url,filename)"
   ]
  },
  {
   "cell_type": "code",
   "execution_count": 8,
   "id": "b4a36c82",
   "metadata": {},
   "outputs": [
    {
     "name": "stdout",
     "output_type": "stream",
     "text": [
      " D 드라이브의 볼륨에는 이름이 없습니다.\n",
      " 볼륨 일련 번호: CE1E-FD08\n",
      "\n",
      " D:\\CCH\\Workspace\\python\\DataAnalysis 디렉터리\n",
      "\n",
      "2023-08-16  오후 05:10    <DIR>          .\n",
      "2023-08-16  오후 05:10    <DIR>          ..\n",
      "2023-08-16  오후 05:04    <DIR>          .ipynb_checkpoints\n",
      "2023-08-16  오후 05:09           889,842 ChatbotData.csv\n",
      "2023-08-09  오후 04:32             4,825 Numpy01.ipynb\n",
      "2023-08-09  오후 04:31             4,436 Numpy02.ipynb\n",
      "2023-08-09  오후 04:31             7,318 Numpy03.ipynb\n",
      "2023-08-09  오후 05:00             6,170 Numpy04.ipynb\n",
      "2023-08-10  오후 02:35            26,649 Numpy05.ipynb\n",
      "2023-08-10  오후 02:57            49,627 Numpy06.ipynb\n",
      "2023-08-10  오후 04:13            12,778 Numpy07.ipynb\n",
      "2023-08-10  오후 05:20            14,188 Numpy08.ipynb\n",
      "2023-08-16  오후 03:18             9,864 Numpy09.ipynb\n",
      "2023-08-16  오후 04:15            13,928 Numpy10.ipynb\n",
      "2023-08-16  오후 05:03             9,090 Numpy11.ipynb\n",
      "2023-08-16  오후 05:10             3,071 Numpy12.ipynb\n",
      "              13개 파일           1,051,786 바이트\n",
      "               3개 디렉터리  209,627,209,728 바이트 남음\n"
     ]
    }
   ],
   "source": [
    "#%ls "
   ]
  },
  {
   "cell_type": "code",
   "execution_count": 3,
   "id": "bcec60ef",
   "metadata": {},
   "outputs": [
    {
     "name": "stderr",
     "output_type": "stream",
     "text": [
      "C:\\Users\\Kosmo\\AppData\\Local\\Temp\\ipykernel_11956\\1918095964.py:10: ConversionWarning: Some errors were detected !\n",
      "    Line #28 (got 4 columns instead of 3)\n",
      "    Line #29 (got 4 columns instead of 3)\n",
      "    Line #37 (got 4 columns instead of 3)\n",
      "    Line #267 (got 4 columns instead of 3)\n",
      "    Line #465 (got 4 columns instead of 3)\n",
      "    Line #546 (got 4 columns instead of 3)\n",
      "    Line #662 (got 5 columns instead of 3)\n",
      "    Line #693 (got 4 columns instead of 3)\n",
      "    Line #916 (got 5 columns instead of 3)\n",
      "    Line #1509 (got 4 columns instead of 3)\n",
      "    Line #1562 (got 4 columns instead of 3)\n",
      "    Line #2314 (got 4 columns instead of 3)\n",
      "    Line #2543 (got 4 columns instead of 3)\n",
      "    Line #2556 (got 4 columns instead of 3)\n",
      "    Line #3314 (got 4 columns instead of 3)\n",
      "    Line #3958 (got 4 columns instead of 3)\n",
      "    Line #3980 (got 4 columns instead of 3)\n",
      "    Line #5325 (got 5 columns instead of 3)\n",
      "    Line #5369 (got 5 columns instead of 3)\n",
      "    Line #5372 (got 4 columns instead of 3)\n",
      "    Line #5386 (got 4 columns instead of 3)\n",
      "    Line #5420 (got 4 columns instead of 3)\n",
      "    Line #5437 (got 4 columns instead of 3)\n",
      "    Line #5572 (got 4 columns instead of 3)\n",
      "    Line #5666 (got 4 columns instead of 3)\n",
      "    Line #6026 (got 4 columns instead of 3)\n",
      "    Line #6177 (got 4 columns instead of 3)\n",
      "    Line #6265 (got 4 columns instead of 3)\n",
      "    Line #6488 (got 4 columns instead of 3)\n",
      "    Line #6513 (got 4 columns instead of 3)\n",
      "    Line #6517 (got 5 columns instead of 3)\n",
      "    Line #6606 (got 4 columns instead of 3)\n",
      "    Line #6665 (got 4 columns instead of 3)\n",
      "    Line #6667 (got 4 columns instead of 3)\n",
      "    Line #6755 (got 4 columns instead of 3)\n",
      "    Line #6756 (got 5 columns instead of 3)\n",
      "    Line #6757 (got 5 columns instead of 3)\n",
      "    Line #6848 (got 4 columns instead of 3)\n",
      "    Line #6890 (got 4 columns instead of 3)\n",
      "    Line #6933 (got 4 columns instead of 3)\n",
      "    Line #6958 (got 4 columns instead of 3)\n",
      "    Line #6959 (got 4 columns instead of 3)\n",
      "    Line #6975 (got 4 columns instead of 3)\n",
      "    Line #7018 (got 5 columns instead of 3)\n",
      "    Line #7065 (got 5 columns instead of 3)\n",
      "    Line #7089 (got 4 columns instead of 3)\n",
      "    Line #7137 (got 4 columns instead of 3)\n",
      "    Line #7282 (got 4 columns instead of 3)\n",
      "    Line #7288 (got 4 columns instead of 3)\n",
      "    Line #7401 (got 4 columns instead of 3)\n",
      "    Line #7403 (got 4 columns instead of 3)\n",
      "    Line #7460 (got 5 columns instead of 3)\n",
      "    Line #7476 (got 4 columns instead of 3)\n",
      "    Line #7497 (got 4 columns instead of 3)\n",
      "    Line #7778 (got 4 columns instead of 3)\n",
      "    Line #8460 (got 4 columns instead of 3)\n",
      "    Line #8534 (got 4 columns instead of 3)\n",
      "    Line #8737 (got 4 columns instead of 3)\n",
      "    Line #8747 (got 4 columns instead of 3)\n",
      "    Line #8848 (got 6 columns instead of 3)\n",
      "    Line #9378 (got 4 columns instead of 3)\n",
      "    Line #9886 (got 5 columns instead of 3)\n",
      "    Line #9919 (got 4 columns instead of 3)\n",
      "    Line #10050 (got 4 columns instead of 3)\n",
      "    Line #10210 (got 4 columns instead of 3)\n",
      "    Line #10371 (got 4 columns instead of 3)\n",
      "    Line #10377 (got 4 columns instead of 3)\n",
      "    Line #10380 (got 4 columns instead of 3)\n",
      "    Line #10436 (got 6 columns instead of 3)\n",
      "    Line #10470 (got 4 columns instead of 3)\n",
      "    Line #10736 (got 5 columns instead of 3)\n",
      "    Line #10810 (got 4 columns instead of 3)\n",
      "    Line #10833 (got 4 columns instead of 3)\n",
      "    Line #10836 (got 4 columns instead of 3)\n",
      "    Line #11647 (got 5 columns instead of 3)\n",
      "  chatbot_data=np.genfromtxt(filename,encoding='utf-8', delimiter=',',invalid_raise=False, dtype=[('Q','U200'), ('A', 'U200'), ('label', np.float32)], skip_header=1)\n"
     ]
    }
   ],
   "source": [
    "#1. 파일 읽기 - loadtxt() 함수 첫번째\n",
    "\n",
    "#문장 내부에 delimiter로 사용되는 콤마가 포함되어 ValueError가 발생\n",
    "#더 유연한 CSV 파일 처리 기능을 제공하는 Pandas 사용하거나 np.genfromtxt 사용\n",
    "#chatbot_data=np.loadtxt(filename,delimiter=',',encoding='utf8',skiprows=1)#ValueError\n",
    "\n",
    "#U100은 유니코드 문자열을 의미 최대 100개의 유니코드 문자로 이루어진 문자열을 표현할 수 있다는 의미\n",
    "#데이터가 너무 커서 메모리에 넣을 수 없는 경우 메모리에 로드하지 않고 대용량 데이터 세트를 읽도록 설계된 genfromtxt()메서드를 대신 사용\n",
    "##deprecated된 넘파이의 자료형 목록:https://numpy.org/devdocs/release/1.20.0-notes.html#deprecations\n",
    "chatbot_data=np.genfromtxt(filename,encoding='utf-8', delimiter=',',invalid_raise=False, dtype=[('Q','U200'), ('A', 'U200'), ('label', np.float32)], skip_header=1)"
   ]
  },
  {
   "cell_type": "code",
   "execution_count": 4,
   "id": "aa3ff692",
   "metadata": {},
   "outputs": [
    {
     "name": "stdout",
     "output_type": "stream",
     "text": [
      "(11748,)\n"
     ]
    },
    {
     "data": {
      "text/plain": [
       "array([('12시 땡!', '하루가 또 가네요.', 0.), ('1지망 학교 떨어졌어', '위로해 드립니다.', 0.),\n",
       "       ('3박4일 놀러가고 싶다', '여행은 언제나 좋죠.', 0.),\n",
       "       ('3박4일 정도 놀러가고 싶다', '여행은 언제나 좋죠.', 0.),\n",
       "       ('PPL 심하네', '눈살이 찌푸려지죠.', 0.),\n",
       "       ('SD카드 망가졌어', '다시 새로 사는 게 마음 편해요.', 0.),\n",
       "       ('SD카드 안돼', '다시 새로 사는 게 마음 편해요.', 0.),\n",
       "       ('SNS 맞팔 왜 안하지ㅠㅠ', '잘 모르고 있을 수도 있어요.', 0.),\n",
       "       ('SNS 시간낭비인 거 아는데 매일 하는 중', '시간을 정하고 해보세요.', 0.),\n",
       "       ('SNS 시간낭비인데 자꾸 보게됨', '시간을 정하고 해보세요.', 0.)],\n",
       "      dtype=[('Q', '<U200'), ('A', '<U200'), ('label', '<f4')])"
      ]
     },
     "execution_count": 4,
     "metadata": {},
     "output_type": "execute_result"
    }
   ],
   "source": [
    "print(chatbot_data.shape)\n",
    "chatbot_data[:10]"
   ]
  },
  {
   "cell_type": "code",
   "execution_count": 5,
   "id": "f0c0102d",
   "metadata": {},
   "outputs": [],
   "source": [
    "import pandas as pd"
   ]
  },
  {
   "cell_type": "code",
   "execution_count": 7,
   "id": "2cea154e",
   "metadata": {},
   "outputs": [
    {
     "name": "stdout",
     "output_type": "stream",
     "text": [
      "(11823,)\n"
     ]
    },
    {
     "data": {
      "text/plain": [
       "rec.array([('12시 땡!', '하루가 또 가네요.', 0.), ('1지망 학교 떨어졌어', '위로해 드립니다.', 0.),\n",
       "           ('3박4일 놀러가고 싶다', '여행은 언제나 좋죠.', 0.), ...,\n",
       "           ('흑기사 해주는 짝남.', '설렜겠어요.', 2.),\n",
       "           ('힘든 연애 좋은 연애라는게 무슨 차이일까?', '잘 헤어질 수 있는 사이 여부인 거 같아요.', 2.),\n",
       "           ('힘들어서 결혼할까봐', '도피성 결혼은 하지 않길 바라요.', 2.)],\n",
       "          dtype=[('Q', '<U200'), ('A', '<U200'), ('label', '<f4')])"
      ]
     },
     "execution_count": 7,
     "metadata": {},
     "output_type": "execute_result"
    }
   ],
   "source": [
    "pd_data=pd.read_csv(filename, encoding='utf-8')\n",
    "#to_records():판다스 데이터프레임을 넘파이 레코드 배열로 변환하는 메서드\n",
    "#index=False는  데이터프레임의 인덱스를 레코드에 포함시키지 않는다\n",
    "chatbot_data_pd=pd_data.to_records(index=False).astype([('Q', 'U200'), ('A', 'U200'), ('label', np.float32)])\n",
    "print(chatbot_data_pd.shape)\n",
    "\n",
    "chatbot_data_pd"
   ]
  },
  {
   "cell_type": "code",
   "execution_count": 8,
   "id": "f4f3d033",
   "metadata": {},
   "outputs": [
    {
     "data": {
      "text/plain": [
       "('sample.csv', <http.client.HTTPMessage at 0x2c386da2170>)"
      ]
     },
     "execution_count": 8,
     "metadata": {},
     "output_type": "execute_result"
    }
   ],
   "source": [
    "#구글 드라이브에 있는 파일 다운받기\n",
    "#선행작업 : 파일 공유-링크복사 -복사된 링크에서 파일 아이디 파악\n",
    "google_filename ='sample.csv'\n",
    "google_file_id='1vlyj7vV5YUQbKQRT_LqQFtZACDzQ7gRe'\n",
    "url = f'https://drive.google.com/uc?id={google_file_id}'\n",
    "urlretrieve(url,google_filename)"
   ]
  },
  {
   "cell_type": "code",
   "execution_count": 12,
   "id": "e9047f18",
   "metadata": {},
   "outputs": [
    {
     "data": {
      "text/plain": [
       "array([['1', '가길동', '제목1 입니다', '2020-01-01'],\n",
       "       ['2', '나길동', '제목2 입니다', '2020-01-03'],\n",
       "       ['3', '다길동', '제목3 입니다', '2020-12-01']], dtype='<U10')"
      ]
     },
     "execution_count": 12,
     "metadata": {},
     "output_type": "execute_result"
    }
   ],
   "source": [
    "#아래는 빈문자열을 읽어 온다\n",
    "#sample=np.loadtxt(google_filename,delimiter=',',encoding='utf8',skiprows=1,dtype={'names':('no','name','title','postdate'),'formats':(np.float32,np.unicode_,np.unicode_,np.str_)})\n",
    "#첫번쩨 방법-넘파이의 np.str_자료형 사용\n",
    "#sample=np.loadtxt(google_filename,delimiter=',',encoding='utf8',skiprows=1,dtype=np.str_)\n",
    "#두번째 방법-파이썬의 str함수 사용\n",
    "sample=np.loadtxt(google_filename,delimiter=',',encoding='utf8',skiprows=1,dtype=str)\n",
    "sample"
   ]
  },
  {
   "cell_type": "code",
   "execution_count": 15,
   "id": "9816ad93",
   "metadata": {},
   "outputs": [],
   "source": [
    "#파일 저장 - savetxt() 함수\n",
    "#넘파이 배열을 파일로 저장\n",
    "#fmt는 파일저장시 포맷.문자열일때는 %s\n",
    "np.savetxt('savedcsv.tsv',sample,fmt='%s,%s,%s,%s',delimiter='\\t',encoding='utf8')"
   ]
  },
  {
   "cell_type": "code",
   "execution_count": null,
   "id": "055ef385",
   "metadata": {},
   "outputs": [],
   "source": []
  }
 ],
 "metadata": {
  "kernelspec": {
   "display_name": "Python 3 (ipykernel)",
   "language": "python",
   "name": "python3"
  },
  "language_info": {
   "codemirror_mode": {
    "name": "ipython",
    "version": 3
   },
   "file_extension": ".py",
   "mimetype": "text/x-python",
   "name": "python",
   "nbconvert_exporter": "python",
   "pygments_lexer": "ipython3",
   "version": "3.10.9"
  }
 },
 "nbformat": 4,
 "nbformat_minor": 5
}
