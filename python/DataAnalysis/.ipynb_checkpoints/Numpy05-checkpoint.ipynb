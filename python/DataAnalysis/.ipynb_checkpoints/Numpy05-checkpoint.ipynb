{
 "cells": [
  {
   "cell_type": "code",
   "execution_count": 2,
   "id": "d9c751ad",
   "metadata": {},
   "outputs": [],
   "source": [
    "import numpy as np"
   ]
  },
  {
   "cell_type": "markdown",
   "id": "fa1b54c4",
   "metadata": {},
   "source": [
    "## Numpy배열 생성하기 3 : 특정 조건으로 데이터를 생성하는 함수"
   ]
  },
  {
   "cell_type": "code",
   "execution_count": 5,
   "id": "4f8c36af",
   "metadata": {},
   "outputs": [
    {
     "data": {
      "text/plain": [
       "array([ 0. ,  2.5,  5. ,  7.5, 10. ])"
      ]
     },
     "execution_count": 5,
     "metadata": {},
     "output_type": "execute_result"
    }
   ],
   "source": [
    "#linspace()함수:균일한 간격의 데이타로 배열을 생성(stop에 지정한 값도 포함)\n",
    "linspace = np.linspace(0,10,5)##np.linspace(start=0,stop=10,num=5)\n",
    "linspace"
   ]
  },
  {
   "cell_type": "code",
   "execution_count": 6,
   "id": "6fd109e8",
   "metadata": {},
   "outputs": [
    {
     "data": {
      "text/plain": [
       "array([ 0. ,  2.5,  5. ,  7.5, 10. ])"
      ]
     },
     "execution_count": 6,
     "metadata": {},
     "output_type": "execute_result"
    }
   ],
   "source": [
    "#arange()함수:균일한 간격을 지정할때는 arange()(stop값이 포함 안됨)\n",
    "arange = np.arange(start=0,stop=11,step=2.5)\n",
    "arange"
   ]
  },
  {
   "cell_type": "code",
   "execution_count": 7,
   "id": "e0008529",
   "metadata": {},
   "outputs": [
    {
     "data": {
      "text/plain": [
       "dtype('float64')"
      ]
     },
     "execution_count": 7,
     "metadata": {},
     "output_type": "execute_result"
    }
   ],
   "source": [
    "arange.dtype"
   ]
  },
  {
   "cell_type": "code",
   "execution_count": 8,
   "id": "17b6b45e",
   "metadata": {},
   "outputs": [
    {
     "data": {
      "text/plain": [
       "array([0, 1, 2, 3, 4])"
      ]
     },
     "execution_count": 8,
     "metadata": {},
     "output_type": "execute_result"
    }
   ],
   "source": [
    "np.arange(5)#파이썬의 표준 라이브러리인 range()함수처럼 사용"
   ]
  },
  {
   "cell_type": "code",
   "execution_count": 30,
   "id": "add847c1",
   "metadata": {},
   "outputs": [
    {
     "data": {
      "text/plain": [
       "array([   5.,   25.,  125.,  625., 3125.])"
      ]
     },
     "execution_count": 30,
     "metadata": {},
     "output_type": "execute_result"
    }
   ],
   "source": [
    "'''\n",
    "logspace()함수:로그 스케일로 start와 stop사이를 num갯수만틈 일정한 간격으로 숫자를 생성하여\n",
    "               base의 지수로 사용한다 즉 base의 지수값들로 배열이 생성된다\n",
    "                로그 스케일은 값들을 로그 함수를 사용하여 생성하는데, \n",
    "               이는 값들 사이의 간격이 로그적으로 증가하거 감소함을 의미\n",
    "start: 로그 스케일의 시작 값 (지수로 표현되는 값)\n",
    "stop: 로그 스케일의 끝 값 (지수로 표현되는 값)\n",
    "num: 생성할 값의 개수\n",
    "base: 로그의 밑 (기본값은 10.0)\n",
    "\n",
    "로그함수 예제\n",
    "logb(x) 이때 b는 로그의 밑(base)이며,  x는 로그의 인자(argument). 로그 함수의 결과는 b를 몇 번 거듭제곱해야 x가 되는지를 나타낸다.\n",
    "예를 들면\n",
    "2를 밑으로 하는 로그 함수인 log2(x)에서\n",
    "log2(1) =0 2의 0승이 1\n",
    "log2(2)=1 2의 1승이 2\n",
    "log2(4)=2 2의 2승이 4임으로\n",
    "'''\n",
    "#아래는 log5(?) = \n",
    "#log5(5) = 1부터 log5(3125) =5인 사이의 값들을 로그함수로 생성한다\n",
    "#5의 1승이 5,5의 5승이 3125이다  즉 생성하는 값은 5부터 3125까지 이고 이 사이의 값을 로그함수 log5(?)=2 이때의 ?를 생성한다 이때 물음표는 5의 2승을 하면 됨으로 25\n",
    "#log5(?)=3 이때 물음표 5의 3승임으로 125\n",
    "logspace = np.logspace(start=1,stop=5,num=5,base=5)#5의 1승부터 5의 5승까지의 값을 로그 스케일로 5개 생성함으로 로그함수의 결과값이 1,2,3,4,5가되는 x를 생성한다\n",
    "logspace"
   ]
  },
  {
   "cell_type": "code",
   "execution_count": 31,
   "id": "d6b9bb15",
   "metadata": {},
   "outputs": [],
   "source": [
    "import matplotlib .pyplot as plt"
   ]
  },
  {
   "cell_type": "code",
   "execution_count": 32,
   "id": "cc3e0921",
   "metadata": {},
   "outputs": [
    {
     "data": {
      "text/plain": [
       "[<matplotlib.lines.Line2D at 0x163cd305b10>]"
      ]
     },
     "execution_count": 32,
     "metadata": {},
     "output_type": "execute_result"
    },
    {
     "data": {
      "image/png": "[encoded data removed]",
      "text/plain": [
       "<Figure size 640x480 with 1 Axes>"
      ]
     },
     "metadata": {},
     "output_type": "display_data"
    }
   ],
   "source": [
    "plt.plot(logspace,'r--')"
   ]
  },
  {
   "cell_type": "code",
   "execution_count": null,
   "id": "d53f77ea",
   "metadata": {},
   "outputs": [],
   "source": []
  }
 ],
 "metadata": {
  "kernelspec": {
   "display_name": "Python 3 (ipykernel)",
   "language": "python",
   "name": "python3"
  },
  "language_info": {
   "codemirror_mode": {
    "name": "ipython",
    "version": 3
   },
   "file_extension": ".py",
   "mimetype": "text/x-python",
   "name": "python",
   "nbconvert_exporter": "python",
   "pygments_lexer": "ipython3",
   "version": "3.10.9"
  }
 },
 "nbformat": 4,
 "nbformat_minor": 5
}
