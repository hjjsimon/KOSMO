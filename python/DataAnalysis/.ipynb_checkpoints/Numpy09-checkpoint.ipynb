{
 "cells": [
  {
   "cell_type": "code",
   "execution_count": 1,
   "id": "70a0dbd8",
   "metadata": {},
   "outputs": [],
   "source": [
    "import numpy as np"
   ]
  },
  {
   "cell_type": "code",
   "execution_count": 2,
   "id": "53362d4d",
   "metadata": {},
   "outputs": [
    {
     "data": {
      "text/plain": [
       "((12,), 1)"
      ]
     },
     "execution_count": 2,
     "metadata": {},
     "output_type": "execute_result"
    }
   ],
   "source": [
    "#넘파이 배열 변경하기 1-shape 혹은 차원 변경\n",
    "arr = np.arange(1,13,dtype=np.float32)\n",
    "arr.shape,arr.ndim"
   ]
  },
  {
   "cell_type": "code",
   "execution_count": 7,
   "id": "5dfc4f8d",
   "metadata": {},
   "outputs": [
    {
     "data": {
      "text/plain": [
       "((4, 3), 2)"
      ]
     },
     "execution_count": 7,
     "metadata": {},
     "output_type": "execute_result"
    }
   ],
   "source": [
    "#reshape함수:shape변경시 요소수가 일치해야 한다(not in-place)\n",
    "#arr_ = arr.reshape((4,3))#np.reshape(arr,(4,3))\n",
    "arr_=np.reshape(arr,(4,3))\n",
    "arr_.shape,arr_.ndim"
   ]
  },
  {
   "cell_type": "code",
   "execution_count": 10,
   "id": "103b9d0b",
   "metadata": {},
   "outputs": [],
   "source": [
    "#arr_ = arr.reshape((4,2))#요소수가 일치해야한다#ValueError"
   ]
  },
  {
   "cell_type": "code",
   "execution_count": 34,
   "id": "a009b4ed",
   "metadata": {},
   "outputs": [
    {
     "name": "stdout",
     "output_type": "stream",
     "text": [
      "[ 1.  2.  3.  4.  5.  6.  7.  8.  9. 10. 11. 12.]\n"
     ]
    },
    {
     "data": {
      "text/plain": [
       "(4, 3)"
      ]
     },
     "execution_count": 34,
     "metadata": {},
     "output_type": "execute_result"
    }
   ],
   "source": [
    "arr_ = arr.reshape((4,-1))#axis=0은 4,axis=1는 요소수에 맞게 구성해라(-1의 의미)\n",
    "arr_.shape"
   ]
  },
  {
   "cell_type": "code",
   "execution_count": 12,
   "id": "f5313823",
   "metadata": {},
   "outputs": [
    {
     "data": {
      "text/plain": [
       "(4, 3)"
      ]
     },
     "execution_count": 12,
     "metadata": {},
     "output_type": "execute_result"
    }
   ],
   "source": [
    "arr_ = arr.reshape((-1,3))#axis=1은 3,axis=0는 요소수에 맞게 구성해라(-1의 의미)\n",
    "arr_.shape"
   ]
  },
  {
   "cell_type": "code",
   "execution_count": 24,
   "id": "448b9290",
   "metadata": {},
   "outputs": [
    {
     "data": {
      "text/plain": [
       "((12,), 1)"
      ]
     },
     "execution_count": 24,
     "metadata": {},
     "output_type": "execute_result"
    }
   ],
   "source": [
    "arr.shape,arr.ndim"
   ]
  },
  {
   "cell_type": "code",
   "execution_count": 17,
   "id": "0cbf9ff6",
   "metadata": {},
   "outputs": [
    {
     "data": {
      "text/plain": [
       "(2, 2, 3)"
      ]
     },
     "execution_count": 17,
     "metadata": {},
     "output_type": "execute_result"
    }
   ],
   "source": [
    "arr_ = np.reshape(arr,(-1,2,3))\n",
    "arr_.shape"
   ]
  },
  {
   "cell_type": "code",
   "execution_count": 20,
   "id": "bb1910d2",
   "metadata": {},
   "outputs": [
    {
     "data": {
      "text/plain": [
       "((12, 1), 2)"
      ]
     },
     "execution_count": 20,
     "metadata": {},
     "output_type": "execute_result"
    }
   ],
   "source": [
    "arr_=arr[:,np.newaxis]#axis=0축에 모든 요소 배치하고 ,axis=1축 추가\n",
    "arr_.shape,arr_.ndim"
   ]
  },
  {
   "cell_type": "code",
   "execution_count": 30,
   "id": "bb16a244",
   "metadata": {},
   "outputs": [
    {
     "name": "stdout",
     "output_type": "stream",
     "text": [
      "[ 1.  2.  3.  4.  5.  6.  7.  8.  9. 10. 11. 12.]\n",
      "4.0\n"
     ]
    },
    {
     "data": {
      "text/plain": [
       "array([4.], dtype=float32)"
      ]
     },
     "execution_count": 30,
     "metadata": {},
     "output_type": "execute_result"
    }
   ],
   "source": [
    "print(arr)\n",
    "print(arr[3])#스칼라\n",
    "arr_ = arr[np.newaxis,3]#1차원이 되고 [4.]\n",
    "arr_.shape,arr_.ndim\n",
    "arr_"
   ]
  },
  {
   "cell_type": "code",
   "execution_count": 33,
   "id": "9b3f6a07",
   "metadata": {},
   "outputs": [
    {
     "data": {
      "text/plain": [
       "array([[ 4.,  5.,  6.,  7.,  8.,  9., 10., 11., 12.]], dtype=float32)"
      ]
     },
     "execution_count": 33,
     "metadata": {},
     "output_type": "execute_result"
    }
   ],
   "source": [
    "arr_ = arr[np.newaxis,3:]\n",
    "arr_.shape#(1,9)\n",
    "arr_"
   ]
  },
  {
   "cell_type": "code",
   "execution_count": 39,
   "id": "e118f77f",
   "metadata": {},
   "outputs": [
    {
     "data": {
      "text/plain": [
       "array([[ 1.,  2.,  3.,  4.],\n",
       "       [ 5.,  6.,  7.,  8.],\n",
       "       [ 9., 10., 11., 12.],\n",
       "       [ 1.,  2.,  3.,  4.],\n",
       "       [ 5.,  6.,  7.,  8.]], dtype=float32)"
      ]
     },
     "execution_count": 39,
     "metadata": {},
     "output_type": "execute_result"
    }
   ],
   "source": [
    "#shape변경 및 요소의 크기 리사이징 가능\n",
    "#np.resize(넘파이 배열,새로운 shape):not in-place. resize된 배열 반환\n",
    "#ndarray.resize(새로운 shape):in-place방식.반환값이 없다\n",
    "\n",
    "#요소수 늘이기 - 늘어난 요소는 기존 요소로 채워진다\n",
    "arr_=np.resize(arr,new_shape=(5,4))\n",
    "arr_"
   ]
  },
  {
   "cell_type": "code",
   "execution_count": 43,
   "id": "a1847e65",
   "metadata": {},
   "outputs": [
    {
     "data": {
      "text/plain": [
       "array([[ 1.,  2.,  3.,  4.],\n",
       "       [ 5.,  6.,  7.,  8.],\n",
       "       [ 9., 10., 11., 12.],\n",
       "       [ 0.,  0.,  0.,  0.],\n",
       "       [ 0.,  0.,  0.,  0.]], dtype=float32)"
      ]
     },
     "execution_count": 43,
     "metadata": {},
     "output_type": "execute_result"
    }
   ],
   "source": [
    "arr.resize((5,4),refcheck=False)#원본이 변경되고(in place방식) 늘어난 요소는 0으로 채워진다\n",
    "arr"
   ]
  },
  {
   "cell_type": "code",
   "execution_count": 48,
   "id": "d4445938",
   "metadata": {},
   "outputs": [
    {
     "data": {
      "text/plain": [
       "array([[ 1.,  2.,  3.,  4.],\n",
       "       [ 5.,  6.,  7.,  8.],\n",
       "       [ 9., 10., 11., 12.]], dtype=float32)"
      ]
     },
     "execution_count": 48,
     "metadata": {},
     "output_type": "execute_result"
    }
   ],
   "source": [
    "#요소수 줄이기\n",
    "arr_=np.resize(arr,new_shape=(3,4))\n",
    "arr_"
   ]
  },
  {
   "cell_type": "code",
   "execution_count": 56,
   "id": "c017b55d",
   "metadata": {},
   "outputs": [
    {
     "data": {
      "text/plain": [
       "array([ 1.,  2.,  3.,  4.,  5.,  6.,  7.,  8.,  9., 10., 11., 12.],\n",
       "      dtype=float32)"
      ]
     },
     "execution_count": 56,
     "metadata": {},
     "output_type": "execute_result"
    }
   ],
   "source": [
    "arr_.shape\n",
    "#arr_를 1차원으로 변형:Flatten했다라고 한다\n",
    "#arr_.reshape(12)\n",
    "arr_=arr_.reshape((-1,))#arr_.reshape(12) 혹은 arr_.reshape([-1]) 혹은 arr_.reshape((-1,)),혹은 arr_.reshape(-1)\n",
    "arr_"
   ]
  },
  {
   "cell_type": "code",
   "execution_count": 60,
   "id": "42415bba",
   "metadata": {},
   "outputs": [
    {
     "data": {
      "text/plain": [
       "array([[ 1,  2,  3,  4],\n",
       "       [ 5,  6,  7,  8],\n",
       "       [ 9, 10, 11, 12]])"
      ]
     },
     "execution_count": 60,
     "metadata": {},
     "output_type": "execute_result"
    }
   ],
   "source": [
    "#ravel()함수:not in-place\n",
    "arr= np.reshape(np.arange(1,13),(3,4))\n",
    "arr"
   ]
  },
  {
   "cell_type": "code",
   "execution_count": 64,
   "id": "a4cbd206",
   "metadata": {},
   "outputs": [
    {
     "name": "stdout",
     "output_type": "stream",
     "text": [
      "[ 1  2  3  4  5  6  7  8  9 10 11 12]\n"
     ]
    },
    {
     "data": {
      "text/plain": [
       "array([ 1,  2,  3,  4,  5,  6,  7,  8,  9, 10, 11, 12])"
      ]
     },
     "execution_count": 64,
     "metadata": {},
     "output_type": "execute_result"
    }
   ],
   "source": [
    "arr_=arr.ravel()#차원축소 2차원->1차원. arr.reshape(-1)와 같다\n",
    "print(arr_)\n",
    "arr_=arr.reshape((2,3,-1))\n",
    "arr_.shape\n",
    "arr_.ravel()#3차원->1차원.arr.reshape(-1)와 같다"
   ]
  },
  {
   "cell_type": "code",
   "execution_count": 65,
   "id": "1db8eacf",
   "metadata": {},
   "outputs": [
    {
     "data": {
      "text/plain": [
       "array([[ 1,  2,  3,  4],\n",
       "       [ 5,  6,  7,  8],\n",
       "       [ 9, 10, 11, 12]])"
      ]
     },
     "execution_count": 65,
     "metadata": {},
     "output_type": "execute_result"
    }
   ],
   "source": [
    "arr"
   ]
  },
  {
   "cell_type": "code",
   "execution_count": 66,
   "id": "f210b494",
   "metadata": {},
   "outputs": [
    {
     "data": {
      "text/plain": [
       "array([ 1,  2,  3,  4,  5,  6,  7,  8,  9, 10, 11, 12])"
      ]
     },
     "execution_count": 66,
     "metadata": {},
     "output_type": "execute_result"
    }
   ],
   "source": [
    "arr.reshape(-1)"
   ]
  },
  {
   "cell_type": "code",
   "execution_count": null,
   "id": "5e93ca02",
   "metadata": {},
   "outputs": [],
   "source": []
  }
 ],
 "metadata": {
  "kernelspec": {
   "display_name": "Python 3 (ipykernel)",
   "language": "python",
   "name": "python3"
  },
  "language_info": {
   "codemirror_mode": {
    "name": "ipython",
    "version": 3
   },
   "file_extension": ".py",
   "mimetype": "text/x-python",
   "name": "python",
   "nbconvert_exporter": "python",
   "pygments_lexer": "ipython3",
   "version": "3.10.9"
  }
 },
 "nbformat": 4,
 "nbformat_minor": 5
}
