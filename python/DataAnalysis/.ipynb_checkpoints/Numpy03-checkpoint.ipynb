{
 "cells": [
  {
   "cell_type": "code",
   "execution_count": 1,
   "id": "aa486ab9",
   "metadata": {},
   "outputs": [],
   "source": [
    "import numpy as np"
   ]
  },
  {
   "cell_type": "code",
   "execution_count": 2,
   "id": "efef1371",
   "metadata": {},
   "outputs": [
    {
     "data": {
      "text/plain": [
       "array([1, 2, 3, 4, 5])"
      ]
     },
     "execution_count": 2,
     "metadata": {},
     "output_type": "execute_result"
    }
   ],
   "source": [
    "#Numpy배열 생성하기 1 :array()함수\n",
    "nparr1=np.array(list(range(1,6)))\n",
    "nparr1"
   ]
  },
  {
   "cell_type": "code",
   "execution_count": 3,
   "id": "ed01e311",
   "metadata": {},
   "outputs": [
    {
     "data": {
      "text/plain": [
       "\"type:<class 'numpy.ndarray'>,shape:(5,),dimensions:1,dtype:int32\""
      ]
     },
     "execution_count": 3,
     "metadata": {},
     "output_type": "execute_result"
    }
   ],
   "source": [
    "f'type:{type(nparr1)},shape:{nparr1.shape},dimensions:{nparr1.ndim},dtype:{nparr1.dtype}'"
   ]
  },
  {
   "cell_type": "code",
   "execution_count": 4,
   "id": "e0404181",
   "metadata": {},
   "outputs": [
    {
     "data": {
      "text/plain": [
       "array([[ 1,  2,  3,  4,  5],\n",
       "       [ 6,  7,  8,  9, 10]])"
      ]
     },
     "execution_count": 4,
     "metadata": {},
     "output_type": "execute_result"
    }
   ],
   "source": [
    "nparr2 = np.array([list(range(1,6)),[i for i in range(6,11)]])\n",
    "nparr2"
   ]
  },
  {
   "cell_type": "code",
   "execution_count": 5,
   "id": "5bfc3418",
   "metadata": {},
   "outputs": [
    {
     "data": {
      "text/plain": [
       "\"type:<class 'numpy.ndarray'>,shape:(2, 5),dimensions:2,dtype:int32\""
      ]
     },
     "execution_count": 5,
     "metadata": {},
     "output_type": "execute_result"
    }
   ],
   "source": [
    "f'type:{type(nparr2)},shape:{nparr2.shape},dimensions:{nparr2.ndim},dtype:{nparr2.dtype}'"
   ]
  },
  {
   "cell_type": "code",
   "execution_count": 6,
   "id": "ff40e817",
   "metadata": {
    "scrolled": true
   },
   "outputs": [
    {
     "data": {
      "text/plain": [
       "array([[[ 1.,  2.,  3.],\n",
       "        [ 4.,  5.,  6.],\n",
       "        [ 7.,  8.,  9.]],\n",
       "\n",
       "       [[10., 11., 12.],\n",
       "        [13., 14., 15.],\n",
       "        [16., 17., 18.]]], dtype=float32)"
      ]
     },
     "execution_count": 6,
     "metadata": {},
     "output_type": "execute_result"
    }
   ],
   "source": [
    "data=[#리스트\n",
    "        [#axis=0\n",
    "            [1,2,3],#axis=1\n",
    "            [4,5,6],\n",
    "            [7,8,9]\n",
    "            #각 요소는 axis=2\n",
    "        ],\n",
    "        [\n",
    "            [10,11,12],[13,14,15],[16,17,18]\n",
    "        ]\n",
    "    ]\n",
    "nparr3=np.array(data,dtype=np.float32)\n",
    "nparr3"
   ]
  },
  {
   "cell_type": "code",
   "execution_count": 7,
   "id": "50314ac4",
   "metadata": {},
   "outputs": [
    {
     "data": {
      "text/plain": [
       "\"type:<class 'numpy.ndarray'>,shape:(2, 3, 3),dimensions:3,dtype:float32\""
      ]
     },
     "execution_count": 7,
     "metadata": {},
     "output_type": "execute_result"
    }
   ],
   "source": [
    "f'type:{type(nparr3)},shape:{nparr3.shape},dimensions:{nparr3.ndim},dtype:{nparr3.dtype}'"
   ]
  },
  {
   "cell_type": "code",
   "execution_count": 8,
   "id": "7dbf30ba",
   "metadata": {},
   "outputs": [
    {
     "data": {
      "text/plain": [
       "array(100)"
      ]
     },
     "execution_count": 8,
     "metadata": {},
     "output_type": "execute_result"
    }
   ],
   "source": [
    "npScalar=np.array(100)\n",
    "npScalar"
   ]
  },
  {
   "cell_type": "code",
   "execution_count": 9,
   "id": "057213b7",
   "metadata": {},
   "outputs": [
    {
     "data": {
      "text/plain": [
       "\"type:<class 'numpy.ndarray'>,shape:(),dimensions:0,dtype:int32\""
      ]
     },
     "execution_count": 9,
     "metadata": {},
     "output_type": "execute_result"
    }
   ],
   "source": [
    "f'type:{type(npScalar)},shape:{npScalar.shape},dimensions:{npScalar.ndim},dtype:{npScalar.dtype}'"
   ]
  },
  {
   "cell_type": "code",
   "execution_count": 10,
   "id": "538f747e",
   "metadata": {},
   "outputs": [
    {
     "data": {
      "text/plain": [
       "array([100])"
      ]
     },
     "execution_count": 10,
     "metadata": {},
     "output_type": "execute_result"
    }
   ],
   "source": [
    "npArr4=np.array([100])\n",
    "npArr4"
   ]
  },
  {
   "cell_type": "code",
   "execution_count": 11,
   "id": "2a4d637e",
   "metadata": {},
   "outputs": [
    {
     "data": {
      "text/plain": [
       "\"type:<class 'numpy.ndarray'>,shape:(1,),dimensions:1,dtype:int32\""
      ]
     },
     "execution_count": 11,
     "metadata": {},
     "output_type": "execute_result"
    }
   ],
   "source": [
    "f'type:{type(npArr4)},shape:{npArr4.shape},dimensions:{npArr4.ndim},dtype:{npArr4.dtype}'"
   ]
  },
  {
   "cell_type": "code",
   "execution_count": 16,
   "id": "3d32012f",
   "metadata": {},
   "outputs": [
    {
     "data": {
      "text/plain": [
       "array([inf, nan])"
      ]
     },
     "execution_count": 16,
     "metadata": {},
     "output_type": "execute_result"
    }
   ],
   "source": [
    "#np.inf(infinity):무한대를 의미\n",
    "#np.nan(not a number):정의할 수 없는 숫자\n",
    "#RuntimeWarning: divide by zero encountered in divide :숫자 / 0 일때\n",
    "#invalid value encountered in divide\n",
    "#위 두 경고를 없애기 위한 코드\n",
    "np.seterr(divide='ignore',invalid='ignore')\n",
    "nArr5=np.array([1,0])/np.array([0,0])\n",
    "nArr5"
   ]
  },
  {
   "cell_type": "code",
   "execution_count": 18,
   "id": "c78c979d",
   "metadata": {},
   "outputs": [
    {
     "data": {
      "text/plain": [
       "True"
      ]
     },
     "execution_count": 18,
     "metadata": {},
     "output_type": "execute_result"
    }
   ],
   "source": [
    "nArr5[0]==np.inf"
   ]
  },
  {
   "cell_type": "code",
   "execution_count": 22,
   "id": "ad53580c",
   "metadata": {},
   "outputs": [
    {
     "data": {
      "text/plain": [
       "True"
      ]
     },
     "execution_count": 22,
     "metadata": {},
     "output_type": "execute_result"
    }
   ],
   "source": [
    "#np.nan은 숫자가 아니다라 의미지 특정값이 아니다\n",
    "#따라서  비교연산자로 비교시 항상 False다.비교는  3==5처럼 특정값끼리 비교해야 한다\n",
    "#넘파이에서 제공하는 isnan()함수로 판단하자\n",
    "#nArr5[1]==np.nan#항상 False\n",
    "np.isnan(nArr5[1])"
   ]
  },
  {
   "cell_type": "code",
   "execution_count": null,
   "id": "8dd04ecf",
   "metadata": {},
   "outputs": [],
   "source": []
  }
 ],
 "metadata": {
  "kernelspec": {
   "display_name": "Python 3 (ipykernel)",
   "language": "python",
   "name": "python3"
  },
  "language_info": {
   "codemirror_mode": {
    "name": "ipython",
    "version": 3
   },
   "file_extension": ".py",
   "mimetype": "text/x-python",
   "name": "python",
   "nbconvert_exporter": "python",
   "pygments_lexer": "ipython3",
   "version": "3.10.9"
  }
 },
 "nbformat": 4,
 "nbformat_minor": 5
}
