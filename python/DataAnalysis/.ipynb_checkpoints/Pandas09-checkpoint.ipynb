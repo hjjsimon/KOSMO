{
 "cells": [
  {
   "cell_type": "code",
   "execution_count": 1,
   "id": "70e5e677",
   "metadata": {},
   "outputs": [],
   "source": [
    "%config Completer.use_jedi = False\n",
    "import numpy as np\n",
    "import pandas as pd"
   ]
  },
  {
   "cell_type": "code",
   "execution_count": 36,
   "id": "42611d12",
   "metadata": {},
   "outputs": [
    {
     "data": {
      "text/html": [
       "<div>\n",
       "<style scoped>\n",
       "    .dataframe tbody tr th:only-of-type {\n",
       "        vertical-align: middle;\n",
       "    }\n",
       "\n",
       "    .dataframe tbody tr th {\n",
       "        vertical-align: top;\n",
       "    }\n",
       "\n",
       "    .dataframe thead th {\n",
       "        text-align: right;\n",
       "    }\n",
       "</style>\n",
       "<table border=\"1\" class=\"dataframe\">\n",
       "  <thead>\n",
       "    <tr style=\"text-align: right;\">\n",
       "      <th></th>\n",
       "      <th>A</th>\n",
       "      <th>B</th>\n",
       "      <th>C</th>\n",
       "    </tr>\n",
       "  </thead>\n",
       "  <tbody>\n",
       "    <tr>\n",
       "      <th>가</th>\n",
       "      <td>1</td>\n",
       "      <td>2.0</td>\n",
       "      <td>12.0</td>\n",
       "    </tr>\n",
       "    <tr>\n",
       "      <th>나</th>\n",
       "      <td>4</td>\n",
       "      <td>11.0</td>\n",
       "      <td>6.0</td>\n",
       "    </tr>\n",
       "    <tr>\n",
       "      <th>다</th>\n",
       "      <td>7</td>\n",
       "      <td>NaN</td>\n",
       "      <td>NaN</td>\n",
       "    </tr>\n",
       "    <tr>\n",
       "      <th>라</th>\n",
       "      <td>10</td>\n",
       "      <td>5.0</td>\n",
       "      <td>NaN</td>\n",
       "    </tr>\n",
       "  </tbody>\n",
       "</table>\n",
       "</div>"
      ],
      "text/plain": [
       "    A     B     C\n",
       "가   1   2.0  12.0\n",
       "나   4  11.0   6.0\n",
       "다   7   NaN   NaN\n",
       "라  10   5.0   NaN"
      ]
     },
     "execution_count": 36,
     "metadata": {},
     "output_type": "execute_result"
    }
   ],
   "source": [
    "#수학 및 통계학적 연산\n",
    "#수학 및 통계학 연산 관련 함수는 기본적으로 NaN는 제외시킨다\n",
    "data = [\n",
    "    [1,2,12],\n",
    "    [4,11,6],\n",
    "    [7,np.nan,np.nan],\n",
    "    [10,5,np.nan]]\n",
    "df = pd.DataFrame(data=data,columns=list('ABC'),index=list('가나다라'))\n",
    "df"
   ]
  },
  {
   "cell_type": "code",
   "execution_count": 25,
   "id": "de78ea7d",
   "metadata": {},
   "outputs": [
    {
     "data": {
      "text/plain": [
       "A    1.0\n",
       "B    2.0\n",
       "C    6.0\n",
       "D    NaN\n",
       "Name: min, dtype: object"
      ]
     },
     "execution_count": 25,
     "metadata": {},
     "output_type": "execute_result"
    }
   ],
   "source": [
    "#1. describe()함수 -각열에 대한 기본 통계량\n",
    "df.describe()\n",
    "df_=df.describe(include='all')#object인 열도 포함\n",
    "df_.loc['min',['A,'B','C','D']]#각 컬럼의 최소 값"
   ]
  },
  {
   "cell_type": "code",
   "execution_count": 13,
   "id": "4f8608b0",
   "metadata": {},
   "outputs": [
    {
     "data": {
      "text/plain": [
       "가    3\n",
       "나    4\n",
       "다    2\n",
       "라    4\n",
       "dtype: int64"
      ]
     },
     "execution_count": 13,
     "metadata": {},
     "output_type": "execute_result"
    }
   ],
   "source": [
    "#2. count()함수\n",
    "df.count()#각 열별로 NaN이 아닌 값의 수 통계\n",
    "df.count(axis=1)#각 행별로 NaN이 아닌 값의 수 통계"
   ]
  },
  {
   "cell_type": "code",
   "execution_count": 26,
   "id": "eb7d4113",
   "metadata": {},
   "outputs": [
    {
     "data": {
      "text/plain": [
       "1.0"
      ]
     },
     "execution_count": 26,
     "metadata": {},
     "output_type": "execute_result"
    }
   ],
   "source": [
    "#3. min()함수-각 열별 최소값\n",
    "df.min()\n",
    "df_.loc['min','A']#A컬럼의 최소값\n",
    "#df.min(axis=1)#FutureWarning: Dropping of nuisance columns in DataFrame reductions (with 'numeric_only=None') is deprecated; in a future version this will raise TypeError.  Select only valid columns before calling the reduction."
   ]
  },
  {
   "cell_type": "code",
   "execution_count": 29,
   "id": "397c2b53",
   "metadata": {},
   "outputs": [
    {
     "data": {
      "text/plain": [
       "A      10\n",
       "B    11.0\n",
       "C    12.0\n",
       "D     한소인\n",
       "dtype: object"
      ]
     },
     "execution_count": 29,
     "metadata": {},
     "output_type": "execute_result"
    }
   ],
   "source": [
    "#4. max()함수-각 열별 최소값\n",
    "df.max()\n",
    "df_.loc['max','A']"
   ]
  },
  {
   "cell_type": "code",
   "execution_count": 40,
   "id": "a14e191d",
   "metadata": {},
   "outputs": [
    {
     "data": {
      "text/plain": [
       "가    C\n",
       "나    B\n",
       "다    A\n",
       "라    A\n",
       "dtype: object"
      ]
     },
     "execution_count": 40,
     "metadata": {},
     "output_type": "execute_result"
    }
   ],
   "source": [
    "#idxmax() 및 idxmin()함수\n",
    "df.idxmax()##각 열별 최대값인 행 색인 반환\n",
    "df.idxmax(axis=1)#각 행별 최대값인 열 색인 반환"
   ]
  },
  {
   "cell_type": "code",
   "execution_count": 39,
   "id": "814156df",
   "metadata": {},
   "outputs": [
    {
     "data": {
      "text/plain": [
       "A    가\n",
       "B    가\n",
       "C    나\n",
       "dtype: object"
      ]
     },
     "execution_count": 39,
     "metadata": {},
     "output_type": "execute_result"
    }
   ],
   "source": [
    "df.idxmin()#각 열별 최소값인 행 색인 반환"
   ]
  },
  {
   "cell_type": "code",
   "execution_count": 43,
   "id": "8e0028ad",
   "metadata": {},
   "outputs": [
    {
     "name": "stdout",
     "output_type": "stream",
     "text": [
      "A    22.0\n",
      "B    18.0\n",
      "C    18.0\n",
      "dtype: float64\n"
     ]
    },
    {
     "data": {
      "text/plain": [
       "가    15.0\n",
       "나    21.0\n",
       "다     7.0\n",
       "라    15.0\n",
       "dtype: float64"
      ]
     },
     "execution_count": 43,
     "metadata": {},
     "output_type": "execute_result"
    }
   ],
   "source": [
    "# sum()함수-각 열별 총합\n",
    "print(df.sum())\n",
    "df.sum(axis=1)#각 행별 총합"
   ]
  },
  {
   "cell_type": "code",
   "execution_count": 46,
   "id": "2cf8a7ec",
   "metadata": {},
   "outputs": [
    {
     "data": {
      "text/plain": [
       "21.0"
      ]
     },
     "execution_count": 46,
     "metadata": {},
     "output_type": "execute_result"
    }
   ],
   "source": [
    "#특정행 및 열별로 총합 구하기\n",
    "df['A'].sum()#A열의 CHDGKQ\n",
    "df.loc['나'].sum()#나행의 총합"
   ]
  },
  {
   "cell_type": "code",
   "execution_count": 48,
   "id": "e671923b",
   "metadata": {},
   "outputs": [
    {
     "name": "stdout",
     "output_type": "stream",
     "text": [
      "A    5.5\n",
      "B    5.0\n",
      "C    9.0\n",
      "dtype: float64\n"
     ]
    },
    {
     "data": {
      "text/plain": [
       "가    2.0\n",
       "나    6.0\n",
       "다    7.0\n",
       "라    7.5\n",
       "dtype: float64"
      ]
     },
     "execution_count": 48,
     "metadata": {},
     "output_type": "execute_result"
    }
   ],
   "source": [
    "#8. median()함수\n",
    "print(df.median())#각 열별 중앙값\n",
    "df.median(axis=1)#각 행별 중앙값"
   ]
  },
  {
   "cell_type": "code",
   "execution_count": null,
   "id": "dc58554b",
   "metadata": {},
   "outputs": [],
   "source": []
  }
 ],
 "metadata": {
  "kernelspec": {
   "display_name": "Python 3 (ipykernel)",
   "language": "python",
   "name": "python3"
  },
  "language_info": {
   "codemirror_mode": {
    "name": "ipython",
    "version": 3
   },
   "file_extension": ".py",
   "mimetype": "text/x-python",
   "name": "python",
   "nbconvert_exporter": "python",
   "pygments_lexer": "ipython3",
   "version": "3.10.9"
  }
 },
 "nbformat": 4,
 "nbformat_minor": 5
}
