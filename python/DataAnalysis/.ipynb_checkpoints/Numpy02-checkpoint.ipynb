{
 "cells": [
  {
   "cell_type": "code",
   "execution_count": 1,
   "id": "a0719d25",
   "metadata": {},
   "outputs": [],
   "source": [
    "import numpy as np\n",
    "import timeit#timeit는 작은 파이썬 코드들의 실행시간을 측정할 수 있는 모듈\n",
    "#timeit.timeit(stmt='pass', setup='before', timer=<default timer>, number=1000000, globals=None)\n",
    "'''\n",
    "stmt : 실행할 파이썬 code(statement)를 string 타입으로 전달.\n",
    "setup : 해당 code(statement)를 실행하기 전에 선행되어야 할 code를 string 타입으로 전달\n",
    "number : 파이썬 code(statement)를 몇번 수행할 것인지 횟수를 지정.\n",
    "timer는 따로 설정하지 않고 default timer 로 수행해도 무방\n",
    "위 parameter 들 중에 setup 키워드인수 부분에서 import를 한다\n",
    "'''"
   ]
  },
  {
   "cell_type": "code",
   "execution_count": 5,
   "id": "71b2ed4f",
   "metadata": {},
   "outputs": [
    {
     "name": "stdout",
     "output_type": "stream",
     "text": [
      "[timeit.timeit()함수 미 사용:리스트로 연산]\n",
      "총 실행시간: 23.98216659999889\n"
     ]
    }
   ],
   "source": [
    "#파이썬 리스트 와 NumPy배열 성능 비교\n",
    "#파이썬 리스트는 반복하면서 리스트의 요소를 하나씩  꺼내어 계산을 하지만\n",
    "#NumPy 배열은 반복없이  배열의 각 요소와 스칼라(2)를  동시에 연산하기때문에 훨씬 빠르다\n",
    "#0부터 99까지 제곱하기를 1000000번 반복:파이썬 리스트\n",
    "'''\n",
    "print('[timeit.timeit()함수 미 사용:리스트로 연산]')\n",
    "start = timeit.default_timer()\n",
    "li = list(range(100))\n",
    "for _ in range(1000000):\n",
    "    for i in li:\n",
    "        i**2\n",
    "end = timeit.default_timer()\n",
    "print('총 실행시간:',end- start,'초')\n",
    "'''"
   ]
  },
  {
   "cell_type": "code",
   "execution_count": 6,
   "id": "6996a1ab",
   "metadata": {},
   "outputs": [
    {
     "name": "stdout",
     "output_type": "stream",
     "text": [
      "[timeit.timeit()함수 사용:리스트로 연산]\n"
     ]
    },
    {
     "data": {
      "text/plain": [
       "22.825649200000043"
      ]
     },
     "execution_count": 6,
     "metadata": {},
     "output_type": "execute_result"
    }
   ],
   "source": [
    "print('[timeit.timeit()함수 사용:리스트로 연산]')\n",
    "timeit.timeit(stmt='[i**2 for i in li]',setup='li=list(range(100))',number=1000000)"
   ]
  },
  {
   "cell_type": "code",
   "execution_count": 8,
   "id": "bb3cecb8",
   "metadata": {},
   "outputs": [
    {
     "name": "stdout",
     "output_type": "stream",
     "text": [
      "[timeit.timeit()함수 미 사용:넘파이배열로 연산]\n",
      "총 실행시간: 0.5327105000033043 초\n"
     ]
    }
   ],
   "source": [
    "print('[timeit.timeit()함수 미 사용:넘파이배열로 연산]')\n",
    "start = timeit.default_timer()\n",
    "narr = np.array(100)\n",
    "for _ in range(1000000):\n",
    "    narr ** 2\n",
    "end = timeit.default_timer()\n",
    "print('총 실행시간:',end- start,'초')"
   ]
  },
  {
   "cell_type": "code",
   "execution_count": 9,
   "id": "3f117d52",
   "metadata": {},
   "outputs": [
    {
     "name": "stdout",
     "output_type": "stream",
     "text": [
      "[timeit.timeit()함수 사용:넘파이배열로 연산]\n"
     ]
    },
    {
     "data": {
      "text/plain": [
       "0.49030109999876004"
      ]
     },
     "execution_count": 9,
     "metadata": {},
     "output_type": "execute_result"
    }
   ],
   "source": [
    "print('[timeit.timeit()함수 사용:넘파이배열로 연산]')\n",
    "timeit.timeit(stmt='[narr ** 2]',setup='import numpy as np;narr = np.array(100)',number=1000000)"
   ]
  },
  {
   "cell_type": "code",
   "execution_count": null,
   "id": "05d17a57",
   "metadata": {},
   "outputs": [],
   "source": []
  }
 ],
 "metadata": {
  "kernelspec": {
   "display_name": "Python 3 (ipykernel)",
   "language": "python",
   "name": "python3"
  },
  "language_info": {
   "codemirror_mode": {
    "name": "ipython",
    "version": 3
   },
   "file_extension": ".py",
   "mimetype": "text/x-python",
   "name": "python",
   "nbconvert_exporter": "python",
   "pygments_lexer": "ipython3",
   "version": "3.10.9"
  }
 },
 "nbformat": 4,
 "nbformat_minor": 5
}
