{
 "cells": [
  {
   "cell_type": "code",
   "execution_count": 1,
   "id": "0a8ea3c0",
   "metadata": {},
   "outputs": [],
   "source": [
    "%config Completer.use_jedi = False\n",
    "import numpy as np\n",
    "import pandas as pd"
   ]
  },
  {
   "cell_type": "code",
   "execution_count": 3,
   "id": "d586124a",
   "metadata": {},
   "outputs": [
    {
     "data": {
      "text/html": [
       "<div>\n",
       "<style scoped>\n",
       "    .dataframe tbody tr th:only-of-type {\n",
       "        vertical-align: middle;\n",
       "    }\n",
       "\n",
       "    .dataframe tbody tr th {\n",
       "        vertical-align: top;\n",
       "    }\n",
       "\n",
       "    .dataframe thead th {\n",
       "        text-align: right;\n",
       "    }\n",
       "</style>\n",
       "<table border=\"1\" class=\"dataframe\">\n",
       "  <thead>\n",
       "    <tr style=\"text-align: right;\">\n",
       "      <th></th>\n",
       "      <th>가</th>\n",
       "      <th>나</th>\n",
       "      <th>다</th>\n",
       "      <th>라</th>\n",
       "      <th>마</th>\n",
       "    </tr>\n",
       "  </thead>\n",
       "  <tbody>\n",
       "    <tr>\n",
       "      <th>2023-01-20</th>\n",
       "      <td>0.532170</td>\n",
       "      <td>0.019392</td>\n",
       "      <td>0.784465</td>\n",
       "      <td>0.668073</td>\n",
       "      <td>0.987044</td>\n",
       "    </tr>\n",
       "    <tr>\n",
       "      <th>2023-01-21</th>\n",
       "      <td>0.318058</td>\n",
       "      <td>0.263377</td>\n",
       "      <td>0.246487</td>\n",
       "      <td>0.212863</td>\n",
       "      <td>0.310678</td>\n",
       "    </tr>\n",
       "    <tr>\n",
       "      <th>2023-01-22</th>\n",
       "      <td>0.039747</td>\n",
       "      <td>0.814384</td>\n",
       "      <td>0.074597</td>\n",
       "      <td>0.545143</td>\n",
       "      <td>0.866526</td>\n",
       "    </tr>\n",
       "    <tr>\n",
       "      <th>2023-01-23</th>\n",
       "      <td>0.350701</td>\n",
       "      <td>0.215017</td>\n",
       "      <td>0.003943</td>\n",
       "      <td>0.635650</td>\n",
       "      <td>0.500215</td>\n",
       "    </tr>\n",
       "    <tr>\n",
       "      <th>2023-01-24</th>\n",
       "      <td>0.862282</td>\n",
       "      <td>0.930944</td>\n",
       "      <td>0.096846</td>\n",
       "      <td>0.029217</td>\n",
       "      <td>0.002908</td>\n",
       "    </tr>\n",
       "  </tbody>\n",
       "</table>\n",
       "</div>"
      ],
      "text/plain": [
       "                   가         나         다         라         마\n",
       "2023-01-20  0.532170  0.019392  0.784465  0.668073  0.987044\n",
       "2023-01-21  0.318058  0.263377  0.246487  0.212863  0.310678\n",
       "2023-01-22  0.039747  0.814384  0.074597  0.545143  0.866526\n",
       "2023-01-23  0.350701  0.215017  0.003943  0.635650  0.500215\n",
       "2023-01-24  0.862282  0.930944  0.096846  0.029217  0.002908"
      ]
     },
     "execution_count": 3,
     "metadata": {},
     "output_type": "execute_result"
    }
   ],
   "source": [
    "#데이타 섞기:한정된 데이타로 많은 데이타 효과를 보고자할때\n",
    "#np.random.shuffle() 혹은 np.random.permutation() 함수\n",
    "index = pd.date_range('2023-1-20',periods=5)#DatetimeIndex\n",
    "columns = list('가나다라마')\n",
    "df = pd.DataFrame(np.random.rand(5,5),index=index,columns=columns)\n",
    "df"
   ]
  },
  {
   "cell_type": "code",
   "execution_count": 12,
   "id": "96ea644f",
   "metadata": {},
   "outputs": [
    {
     "name": "stdout",
     "output_type": "stream",
     "text": [
      "[1 9 4 7 5 2 8 0 3 6]\n",
      "[6 0 5 3 2 7 4 8 9 1]\n"
     ]
    },
    {
     "data": {
      "text/plain": [
       "array([1, 9, 4, 7, 5, 2, 8, 0, 3, 6])"
      ]
     },
     "execution_count": 12,
     "metadata": {},
     "output_type": "execute_result"
    }
   ],
   "source": [
    "'''\n",
    "shuffle 과 permutation함수\n",
    "-넘파이 배열의 요소를 무작위로 섞는 함수\n",
    "-차이점\n",
    " shuffle은 in-place방식\n",
    " permutation은 새로운 배열 반환(not in-place방식)\n",
    "'''\n",
    "arr = np.arange(10)\n",
    "np.random.shuffle(arr)\n",
    "print(arr)\n",
    "arr_=np.random.permutation(arr)\n",
    "print(arr_)\n",
    "arr"
   ]
  },
  {
   "cell_type": "code",
   "execution_count": 15,
   "id": "abd05d18",
   "metadata": {},
   "outputs": [
    {
     "data": {
      "text/plain": [
       "['다', '나', '마', '가', '라']"
      ]
     },
     "execution_count": 15,
     "metadata": {},
     "output_type": "execute_result"
    }
   ],
   "source": [
    "#RangeIndex나 DatetimeIndex등은 immutable하다\n",
    "#인덱스는 mutable연산 불가 즉 permutation()함수를 적용해야한다\n",
    "\n",
    "#인덱스를 섞어서 데이타 프레임의 데이타를 섞자\n",
    "#index는 DatetimeIndex로 원본을 변경할 수 없다(immutable하기때문)\n",
    "#np.random.shuffle(index)#TypeError: Index does not support mutable operations\n",
    "np.random.shuffle(columns)#columns 리스트임으로 muttable하니까[o]\n",
    "columns"
   ]
  },
  {
   "cell_type": "code",
   "execution_count": 16,
   "id": "475eeb71",
   "metadata": {},
   "outputs": [
    {
     "data": {
      "text/plain": [
       "array(['2023-01-20T00:00:00.000000000', '2023-01-22T00:00:00.000000000',\n",
       "       '2023-01-21T00:00:00.000000000', '2023-01-24T00:00:00.000000000',\n",
       "       '2023-01-23T00:00:00.000000000'], dtype='datetime64[ns]')"
      ]
     },
     "execution_count": 16,
     "metadata": {},
     "output_type": "execute_result"
    }
   ],
   "source": [
    "index_ = np.random.permutation(index)\n",
    "index_"
   ]
  },
  {
   "cell_type": "code",
   "execution_count": 17,
   "id": "6c5d2ad4",
   "metadata": {},
   "outputs": [
    {
     "data": {
      "text/html": [
       "<div>\n",
       "<style scoped>\n",
       "    .dataframe tbody tr th:only-of-type {\n",
       "        vertical-align: middle;\n",
       "    }\n",
       "\n",
       "    .dataframe tbody tr th {\n",
       "        vertical-align: top;\n",
       "    }\n",
       "\n",
       "    .dataframe thead th {\n",
       "        text-align: right;\n",
       "    }\n",
       "</style>\n",
       "<table border=\"1\" class=\"dataframe\">\n",
       "  <thead>\n",
       "    <tr style=\"text-align: right;\">\n",
       "      <th></th>\n",
       "      <th>다</th>\n",
       "      <th>나</th>\n",
       "      <th>마</th>\n",
       "      <th>가</th>\n",
       "      <th>라</th>\n",
       "    </tr>\n",
       "  </thead>\n",
       "  <tbody>\n",
       "    <tr>\n",
       "      <th>2023-01-20</th>\n",
       "      <td>0.784465</td>\n",
       "      <td>0.019392</td>\n",
       "      <td>0.987044</td>\n",
       "      <td>0.532170</td>\n",
       "      <td>0.668073</td>\n",
       "    </tr>\n",
       "    <tr>\n",
       "      <th>2023-01-22</th>\n",
       "      <td>0.074597</td>\n",
       "      <td>0.814384</td>\n",
       "      <td>0.866526</td>\n",
       "      <td>0.039747</td>\n",
       "      <td>0.545143</td>\n",
       "    </tr>\n",
       "    <tr>\n",
       "      <th>2023-01-21</th>\n",
       "      <td>0.246487</td>\n",
       "      <td>0.263377</td>\n",
       "      <td>0.310678</td>\n",
       "      <td>0.318058</td>\n",
       "      <td>0.212863</td>\n",
       "    </tr>\n",
       "    <tr>\n",
       "      <th>2023-01-24</th>\n",
       "      <td>0.096846</td>\n",
       "      <td>0.930944</td>\n",
       "      <td>0.002908</td>\n",
       "      <td>0.862282</td>\n",
       "      <td>0.029217</td>\n",
       "    </tr>\n",
       "    <tr>\n",
       "      <th>2023-01-23</th>\n",
       "      <td>0.003943</td>\n",
       "      <td>0.215017</td>\n",
       "      <td>0.500215</td>\n",
       "      <td>0.350701</td>\n",
       "      <td>0.635650</td>\n",
       "    </tr>\n",
       "  </tbody>\n",
       "</table>\n",
       "</div>"
      ],
      "text/plain": [
       "                   다         나         마         가         라\n",
       "2023-01-20  0.784465  0.019392  0.987044  0.532170  0.668073\n",
       "2023-01-22  0.074597  0.814384  0.866526  0.039747  0.545143\n",
       "2023-01-21  0.246487  0.263377  0.310678  0.318058  0.212863\n",
       "2023-01-24  0.096846  0.930944  0.002908  0.862282  0.029217\n",
       "2023-01-23  0.003943  0.215017  0.500215  0.350701  0.635650"
      ]
     },
     "execution_count": 17,
     "metadata": {},
     "output_type": "execute_result"
    }
   ],
   "source": [
    "#무작위로 섞은 행 색인와 컬럼 색인으로 데이타프레임 또 생성\n",
    "df_ =df.reindex(index=index_,columns=columns)\n",
    "df_"
   ]
  },
  {
   "cell_type": "code",
   "execution_count": 22,
   "id": "588a71f6",
   "metadata": {},
   "outputs": [
    {
     "data": {
      "text/html": [
       "<div>\n",
       "<style scoped>\n",
       "    .dataframe tbody tr th:only-of-type {\n",
       "        vertical-align: middle;\n",
       "    }\n",
       "\n",
       "    .dataframe tbody tr th {\n",
       "        vertical-align: top;\n",
       "    }\n",
       "\n",
       "    .dataframe thead th {\n",
       "        text-align: right;\n",
       "    }\n",
       "</style>\n",
       "<table border=\"1\" class=\"dataframe\">\n",
       "  <thead>\n",
       "    <tr style=\"text-align: right;\">\n",
       "      <th></th>\n",
       "      <th>마</th>\n",
       "      <th>라</th>\n",
       "      <th>다</th>\n",
       "      <th>나</th>\n",
       "      <th>가</th>\n",
       "    </tr>\n",
       "  </thead>\n",
       "  <tbody>\n",
       "    <tr>\n",
       "      <th>2023-01-20</th>\n",
       "      <td>0.987044</td>\n",
       "      <td>0.668073</td>\n",
       "      <td>0.784465</td>\n",
       "      <td>0.019392</td>\n",
       "      <td>0.532170</td>\n",
       "    </tr>\n",
       "    <tr>\n",
       "      <th>2023-01-22</th>\n",
       "      <td>0.866526</td>\n",
       "      <td>0.545143</td>\n",
       "      <td>0.074597</td>\n",
       "      <td>0.814384</td>\n",
       "      <td>0.039747</td>\n",
       "    </tr>\n",
       "    <tr>\n",
       "      <th>2023-01-21</th>\n",
       "      <td>0.310678</td>\n",
       "      <td>0.212863</td>\n",
       "      <td>0.246487</td>\n",
       "      <td>0.263377</td>\n",
       "      <td>0.318058</td>\n",
       "    </tr>\n",
       "    <tr>\n",
       "      <th>2023-01-24</th>\n",
       "      <td>0.002908</td>\n",
       "      <td>0.029217</td>\n",
       "      <td>0.096846</td>\n",
       "      <td>0.930944</td>\n",
       "      <td>0.862282</td>\n",
       "    </tr>\n",
       "    <tr>\n",
       "      <th>2023-01-23</th>\n",
       "      <td>0.500215</td>\n",
       "      <td>0.635650</td>\n",
       "      <td>0.003943</td>\n",
       "      <td>0.215017</td>\n",
       "      <td>0.350701</td>\n",
       "    </tr>\n",
       "  </tbody>\n",
       "</table>\n",
       "</div>"
      ],
      "text/plain": [
       "                   마         라         다         나         가\n",
       "2023-01-20  0.987044  0.668073  0.784465  0.019392  0.532170\n",
       "2023-01-22  0.866526  0.545143  0.074597  0.814384  0.039747\n",
       "2023-01-21  0.310678  0.212863  0.246487  0.263377  0.318058\n",
       "2023-01-24  0.002908  0.029217  0.096846  0.930944  0.862282\n",
       "2023-01-23  0.500215  0.635650  0.003943  0.215017  0.350701"
      ]
     },
     "execution_count": 22,
     "metadata": {},
     "output_type": "execute_result"
    }
   ],
   "source": [
    "#색인 및 데이타 정렬\n",
    "#1. sort_index():색인 정렬.axis=0디폴트. ascending=False추가시 내림차순(오름차순이 디폴트)\n",
    "df_.sort_index()#행 인덱스 정렬(오름차순)\n",
    "df_.sort_index(axis=1)#컬럼 인덱스 정렬(오르차순)\n",
    "df_.sort_index(axis=1,ascending=False)#내림차순"
   ]
  },
  {
   "cell_type": "code",
   "execution_count": 32,
   "id": "072d3705",
   "metadata": {},
   "outputs": [
    {
     "data": {
      "text/html": [
       "<div>\n",
       "<style scoped>\n",
       "    .dataframe tbody tr th:only-of-type {\n",
       "        vertical-align: middle;\n",
       "    }\n",
       "\n",
       "    .dataframe tbody tr th {\n",
       "        vertical-align: top;\n",
       "    }\n",
       "\n",
       "    .dataframe thead th {\n",
       "        text-align: right;\n",
       "    }\n",
       "</style>\n",
       "<table border=\"1\" class=\"dataframe\">\n",
       "  <thead>\n",
       "    <tr style=\"text-align: right;\">\n",
       "      <th></th>\n",
       "      <th>라</th>\n",
       "      <th>다</th>\n",
       "      <th>나</th>\n",
       "      <th>마</th>\n",
       "      <th>가</th>\n",
       "    </tr>\n",
       "  </thead>\n",
       "  <tbody>\n",
       "    <tr>\n",
       "      <th>2023-01-20</th>\n",
       "      <td>0.668073</td>\n",
       "      <td>0.784465</td>\n",
       "      <td>0.019392</td>\n",
       "      <td>0.987044</td>\n",
       "      <td>0.532170</td>\n",
       "    </tr>\n",
       "    <tr>\n",
       "      <th>2023-01-22</th>\n",
       "      <td>0.545143</td>\n",
       "      <td>0.074597</td>\n",
       "      <td>0.814384</td>\n",
       "      <td>0.866526</td>\n",
       "      <td>0.039747</td>\n",
       "    </tr>\n",
       "    <tr>\n",
       "      <th>2023-01-21</th>\n",
       "      <td>0.212863</td>\n",
       "      <td>0.246487</td>\n",
       "      <td>0.263377</td>\n",
       "      <td>0.310678</td>\n",
       "      <td>0.318058</td>\n",
       "    </tr>\n",
       "    <tr>\n",
       "      <th>2023-01-24</th>\n",
       "      <td>0.029217</td>\n",
       "      <td>0.096846</td>\n",
       "      <td>0.930944</td>\n",
       "      <td>0.002908</td>\n",
       "      <td>0.862282</td>\n",
       "    </tr>\n",
       "    <tr>\n",
       "      <th>2023-01-23</th>\n",
       "      <td>0.635650</td>\n",
       "      <td>0.003943</td>\n",
       "      <td>0.215017</td>\n",
       "      <td>0.500215</td>\n",
       "      <td>0.350701</td>\n",
       "    </tr>\n",
       "  </tbody>\n",
       "</table>\n",
       "</div>"
      ],
      "text/plain": [
       "                   라         다         나         마         가\n",
       "2023-01-20  0.668073  0.784465  0.019392  0.987044  0.532170\n",
       "2023-01-22  0.545143  0.074597  0.814384  0.866526  0.039747\n",
       "2023-01-21  0.212863  0.246487  0.263377  0.310678  0.318058\n",
       "2023-01-24  0.029217  0.096846  0.930944  0.002908  0.862282\n",
       "2023-01-23  0.635650  0.003943  0.215017  0.500215  0.350701"
      ]
     },
     "execution_count": 32,
     "metadata": {},
     "output_type": "execute_result"
    }
   ],
   "source": [
    "#2. sort_values():데이타 정렬\n",
    "#※by키워드 인수 필수. 즉 기준이 있어야 한다(데이타가 표 형태이기때문에 특정 행이나 열을 기준으로 정렬 할 수밖에 없다)\n",
    "\n",
    "df_.sort_values(by='가')\n",
    "df_.sort_values(by='가',ascending=False)#내림차순\n",
    "#df_.sort_values(by='2023-01-21',ascending=False)#KeyError: '2023-01-21'\n",
    "np.datetime64('2023-01-21').dtype\n",
    "#df_.sort_values(by=np.datetime64('2023-01-21'),axis=0)#KeyError: numpy.datetime64('2023-01-21')\n",
    "df_.sort_values(by=np.datetime64('2023-01-21'),axis=1)#반드시 axis=1 즉 해당 날짜 데이타 정렬"
   ]
  },
  {
   "cell_type": "code",
   "execution_count": null,
   "id": "9e90ce8f",
   "metadata": {},
   "outputs": [],
   "source": []
  }
 ],
 "metadata": {
  "kernelspec": {
   "display_name": "Python 3 (ipykernel)",
   "language": "python",
   "name": "python3"
  },
  "language_info": {
   "codemirror_mode": {
    "name": "ipython",
    "version": 3
   },
   "file_extension": ".py",
   "mimetype": "text/x-python",
   "name": "python",
   "nbconvert_exporter": "python",
   "pygments_lexer": "ipython3",
   "version": "3.10.9"
  }
 },
 "nbformat": 4,
 "nbformat_minor": 5
}
