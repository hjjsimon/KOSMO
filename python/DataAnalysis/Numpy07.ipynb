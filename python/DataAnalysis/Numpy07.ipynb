{
 "cells": [
  {
   "cell_type": "code",
   "execution_count": 1,
   "id": "e0cc7701",
   "metadata": {},
   "outputs": [],
   "source": [
    "import numpy as np"
   ]
  },
  {
   "cell_type": "code",
   "execution_count": 4,
   "id": "6907f5ff",
   "metadata": {},
   "outputs": [
    {
     "data": {
      "text/plain": [
       "array([0, 1, 2, 3, 4])"
      ]
     },
     "execution_count": 4,
     "metadata": {},
     "output_type": "execute_result"
    }
   ],
   "source": [
    "#넘파이 배열 요소 참조 - 인덱스로 참조(인덱싱)\n",
    "#[]사용하여 인덱스로 배열의 하나의 요소를 참조하여 값을 변경하거나 읽어 올 수 있다.\n",
    "#1차원 배열-읽기\n",
    "nparr = np.arange(5)\n",
    "nparr"
   ]
  },
  {
   "cell_type": "code",
   "execution_count": 42,
   "id": "c531d54b",
   "metadata": {},
   "outputs": [
    {
     "data": {
      "text/plain": [
       "4"
      ]
     },
     "execution_count": 42,
     "metadata": {},
     "output_type": "execute_result"
    }
   ],
   "source": [
    "nparr[2]\n",
    "nparr[len(nparr)-1]\n",
    "nparr[-1]"
   ]
  },
  {
   "cell_type": "code",
   "execution_count": 11,
   "id": "a85a1b11",
   "metadata": {},
   "outputs": [],
   "source": [
    "#nparr[len(nparr)]#IndexError: index 5 is out of bounds for axis 0 with size 5"
   ]
  },
  {
   "cell_type": "code",
   "execution_count": 14,
   "id": "fb18a6fd",
   "metadata": {},
   "outputs": [
    {
     "name": "stdout",
     "output_type": "stream",
     "text": [
      "10\n"
     ]
    },
    {
     "data": {
      "text/plain": [
       "20"
      ]
     },
     "execution_count": 14,
     "metadata": {},
     "output_type": "execute_result"
    }
   ],
   "source": [
    "#1차원 배열-쓰기\n",
    "nparr[0]=10\n",
    "print(nparr[0])\n",
    "nparr[0]+=10\n",
    "nparr[0]"
   ]
  },
  {
   "cell_type": "code",
   "execution_count": 19,
   "id": "05ddade8",
   "metadata": {},
   "outputs": [
    {
     "data": {
      "text/plain": [
       "array([[ 1,  2,  3,  4,  5],\n",
       "       [ 6,  7,  8,  9, 10]])"
      ]
     },
     "execution_count": 19,
     "metadata": {},
     "output_type": "execute_result"
    }
   ],
   "source": [
    "nparr2 = np.array([list(range(1,6)),list(range(6,11))])\n",
    "nparr2"
   ]
  },
  {
   "cell_type": "code",
   "execution_count": 20,
   "id": "7081560a",
   "metadata": {},
   "outputs": [
    {
     "data": {
      "text/plain": [
       "3"
      ]
     },
     "execution_count": 20,
     "metadata": {},
     "output_type": "execute_result"
    }
   ],
   "source": [
    "#2차원 배열-읽기 [행][열] 아니라 [행,열]식으로 접근\n",
    "nparr2[0,2]"
   ]
  },
  {
   "cell_type": "code",
   "execution_count": 21,
   "id": "fbca30ed",
   "metadata": {},
   "outputs": [
    {
     "data": {
      "text/plain": [
       "300"
      ]
     },
     "execution_count": 21,
     "metadata": {},
     "output_type": "execute_result"
    }
   ],
   "source": [
    "#2차원 배열-쓰기\n",
    "nparr2[0,2]*=100\n",
    "nparr2[0,2]"
   ]
  },
  {
   "cell_type": "code",
   "execution_count": 23,
   "id": "1e4c6707",
   "metadata": {},
   "outputs": [
    {
     "data": {
      "text/plain": [
       "(1, 3, 3)"
      ]
     },
     "execution_count": 23,
     "metadata": {},
     "output_type": "execute_result"
    }
   ],
   "source": [
    "nparr3 =np.array(\n",
    "    [\n",
    "            [\n",
    "              [1,2,3],\n",
    "              [4,5,6],\n",
    "              [7,8,9]                \n",
    "            ]\n",
    "        \n",
    "    ]\n",
    ")\n",
    "nparr3.shape"
   ]
  },
  {
   "cell_type": "code",
   "execution_count": 25,
   "id": "7485e680",
   "metadata": {},
   "outputs": [
    {
     "data": {
      "text/plain": [
       "8"
      ]
     },
     "execution_count": 25,
     "metadata": {},
     "output_type": "execute_result"
    }
   ],
   "source": [
    "#3차원 배열-읽기 차원에서 [axix 0의 인덱스,axis 1의 인덱스,axis 2의 인덱스]\n",
    "nparr3[0,2,1]#axis 0는 인덱스 0,axis 1는 인덱스 2,axis 2는 인덱스 1 위치값 읽기"
   ]
  },
  {
   "cell_type": "code",
   "execution_count": 28,
   "id": "3c1b26aa",
   "metadata": {},
   "outputs": [
    {
     "data": {
      "text/plain": [
       "array([[[ 1,  2,  3],\n",
       "        [ 4, 50,  6],\n",
       "        [ 7,  8,  9]]])"
      ]
     },
     "execution_count": 28,
     "metadata": {},
     "output_type": "execute_result"
    }
   ],
   "source": [
    "#3차원 배열-쓰기\n",
    "nparr3[0,1,1]=50\n",
    "nparr3"
   ]
  },
  {
   "cell_type": "code",
   "execution_count": 29,
   "id": "688ff0ab",
   "metadata": {},
   "outputs": [
    {
     "data": {
      "text/plain": [
       "array([20,  1,  2,  3,  4])"
      ]
     },
     "execution_count": 29,
     "metadata": {},
     "output_type": "execute_result"
    }
   ],
   "source": [
    "#넘파이 배열 요소 참조 - 슬라이싱\n",
    "'''\n",
    "[시작인덱스:끝인덱스]사용하여 배열의 여러개 요소를 참조할때 사용하는 접근방법이 슬라이싱이다\n",
    "시작인덱스 생략시 0으로 처리되고\n",
    "끝인덱스 생략시 마지막 인덱스로 처리된다\n",
    "그래서 [:]는 전체 범위를 의미한다. \n",
    "인덱스를 음수로 지정시에는 끝에서 시작하는 요소의 위치를 뜻한다\n",
    "즉 -1은 마지막 인덱스를 의미한다\n",
    "'''\n",
    "#1차원 배열 슬라이싱\n",
    "#1차원 배열의 슬라이싱는 오로지 열의 인덱스만을 의미\n",
    "# 즉 [열번호:열번호]나  [:열번호] 등으로 슬라이싱한다\n",
    "nparr"
   ]
  },
  {
   "cell_type": "code",
   "execution_count": 37,
   "id": "5d0e064f",
   "metadata": {},
   "outputs": [
    {
     "name": "stdout",
     "output_type": "stream",
     "text": [
      "[]\n",
      "[1 2 3 4]\n",
      "[20  1  2  3]\n",
      "[1 2 3]\n",
      "[20  1  2  3  4]\n"
     ]
    }
   ],
   "source": [
    "nparr[1:4]\n",
    "print(nparr[1:1])#[]\n",
    "print(nparr[1:])\n",
    "print(nparr[:4])\n",
    "print(nparr[1:-1])\n",
    "print(nparr[:])"
   ]
  },
  {
   "cell_type": "code",
   "execution_count": 35,
   "id": "7aaf1b56",
   "metadata": {},
   "outputs": [
    {
     "data": {
      "text/plain": [
       "array([[  1,   2, 300,   4,   5],\n",
       "       [  6,   7,   8,   9,  10]])"
      ]
     },
     "execution_count": 35,
     "metadata": {},
     "output_type": "execute_result"
    }
   ],
   "source": [
    "#2차원 배열 슬라이싱\n",
    "# 2차원 배열의 인덱스는 반드시 [  ,  ] 콤마를 기준으로\n",
    "# 2개의 인자를 갖는다.첫번째 인자는 행의 인덱스를 의미\n",
    "# 하고 두번째 인자는 열의 인덱스를 의미한다\n",
    "# [행인덱스,열인덱스] 행인덱스와 열인덱스 두 곳에 : 이 포함되면 2차원 OUTPUT\n",
    "#                  행인덱스와 열인덱스 둘 중 하나에 숫자 하나가 지정되면 1차원 OUTPUT\n",
    "#즉 범위를 슬라이싱하는 :이 각 행렬 인덱스 자리에 존재하면 차원은 유지가된다\n",
    "#단,:이 빠지면 차원이 줄어 든다\n",
    "nparr2"
   ]
  },
  {
   "cell_type": "code",
   "execution_count": 50,
   "id": "50c9de89",
   "metadata": {},
   "outputs": [
    {
     "name": "stdout",
     "output_type": "stream",
     "text": [
      "[[300   4]]\n",
      "[[300   4]\n",
      " [  8   9]]\n",
      "[[  1   2 300   4   5]]\n",
      "[300]\n",
      "[8 9]\n",
      "[ 5 10]\n",
      "[[  1   2 300   4   5]\n",
      " [  6   7   8   9  10]]\n",
      "[[ 1  2  3]\n",
      " [ 5  6  7]\n",
      " [ 9 10 11]]\n",
      "[ 4  8 12]\n"
     ]
    }
   ],
   "source": [
    "print(nparr2[0:1,2:4])\n",
    "print(nparr2[:,2:4])\n",
    "print(nparr2[0:1,:])\n",
    "print(nparr2[0:1,2])\n",
    "print(nparr2[1,2:4])\n",
    "print(nparr2[:,-1])\n",
    "print(nparr2[:,:])\n",
    "score =np.array([\n",
    "    [1,2,3,4],\n",
    "    [5,6,7,8],\n",
    "    [9,10,11,12]\n",
    "])\n",
    "\n",
    "Train_set = score[:,:-1]\n",
    "print(Train_set)\n",
    "Test_set  = score[:,-1]\n",
    "print(Test_set)"
   ]
  },
  {
   "cell_type": "code",
   "execution_count": 49,
   "id": "87353a84",
   "metadata": {},
   "outputs": [
    {
     "name": "stdout",
     "output_type": "stream",
     "text": [
      "(3, 2, 3)\n"
     ]
    }
   ],
   "source": [
    "#3차원 배열 슬라이싱\n",
    "#3차원인 경우 [axix 0의 인덱스,axis 1의 인덱스,axis 2의 인덱스]\n",
    "nparr3= np.array(\n",
    "    [\n",
    "        [\n",
    "            [1,2,3],\n",
    "            [4,5,6]\n",
    "        ]\n",
    "        ,\n",
    "        [\n",
    "            [7,8,9],\n",
    "            [10,11,12]\n",
    "        ]\n",
    "        ,\n",
    "        [\n",
    "            [13,14,15],\n",
    "            [16,17,18]\n",
    "        ]\n",
    "    ])\n",
    "print(nparr3.shape)\n"
   ]
  },
  {
   "cell_type": "code",
   "execution_count": 56,
   "id": "e9ef20be",
   "metadata": {},
   "outputs": [
    {
     "name": "stdout",
     "output_type": "stream",
     "text": [
      "[[[8]]]\n",
      "[[ 2  5]\n",
      " [ 8 11]\n",
      " [14 17]]\n",
      "[ 5 11 17]\n",
      "[[ 3  6]\n",
      " [ 9 12]\n",
      " [15 18]]\n"
     ]
    }
   ],
   "source": [
    "#각 축 자리에 범위 슬라이싱을 의미는 : 이 없으면 차원이 줄어든다\n",
    "print(nparr3[1:2,0:1,1:2])\n",
    "print(nparr3[:,:,1])\n",
    "print(nparr3[:,1,1])\n",
    "print(nparr3[:,:,-1])"
   ]
  },
  {
   "cell_type": "code",
   "execution_count": 59,
   "id": "08cb63c4",
   "metadata": {},
   "outputs": [
    {
     "data": {
      "text/plain": [
       "array([False,  True, False])"
      ]
     },
     "execution_count": 59,
     "metadata": {},
     "output_type": "execute_result"
    }
   ],
   "source": [
    "#넘파이 배열 요소 참조 - 불리언 인덱싱\n",
    "#배열 요소의  선택여부를 True,False로 지정하는 방식으로 True에 해당하는 요소만 참조\n",
    "scores = np.array(\n",
    "    [\n",
    "        [99,80,60],\n",
    "        [78,90,90],\n",
    "        [100,50,40]\n",
    "    ])\n",
    "students = np.array(['가길동','나길동','다길동'])\n",
    "mask =(students == '나길동')#마스크(불리언 배열)\n",
    "mask"
   ]
  },
  {
   "cell_type": "code",
   "execution_count": 61,
   "id": "65896f82",
   "metadata": {},
   "outputs": [
    {
     "data": {
      "text/plain": [
       "array([[78, 90, 90]])"
      ]
     },
     "execution_count": 61,
     "metadata": {},
     "output_type": "execute_result"
    }
   ],
   "source": [
    "'''\n",
    "마스크(불리언 배열)를 배열을 슬라이싱 하는데 사용한다\n",
    "True에 해당하는 열 혹은 행만 슬라이싱 할 수 있다\n",
    "슬라이싱인 [행인덱스,열인덱스]에 행인덱스 혹은 열인덱스 자리에 불리언배열(마스크)를 적용한다:불리언 인덱싱\n",
    "나길동의 점수만 뽑아오자(나길동의 인덱스를 모른다고 가정시)\n",
    "'''\n",
    "nakildong = scores[mask,:]\n",
    "nakildong"
   ]
  },
  {
   "cell_type": "code",
   "execution_count": 63,
   "id": "a284d6b9",
   "metadata": {},
   "outputs": [
    {
     "data": {
      "text/plain": [
       "array([ True, False,  True])"
      ]
     },
     "execution_count": 63,
     "metadata": {},
     "output_type": "execute_result"
    }
   ],
   "source": [
    "#수학 점수가 90점 미만인 학생의 국영수 점수 뽑기.\n",
    "mask = scores[:,-1] < 90\n",
    "mask"
   ]
  },
  {
   "cell_type": "code",
   "execution_count": 64,
   "id": "05ba63b4",
   "metadata": {},
   "outputs": [
    {
     "data": {
      "text/plain": [
       "array([[ 99,  80,  60],\n",
       "       [100,  50,  40]])"
      ]
     },
     "execution_count": 64,
     "metadata": {},
     "output_type": "execute_result"
    }
   ],
   "source": [
    "scores[mask,:]"
   ]
  },
  {
   "cell_type": "code",
   "execution_count": null,
   "id": "e2df56f3",
   "metadata": {},
   "outputs": [],
   "source": []
  }
 ],
 "metadata": {
  "kernelspec": {
   "display_name": "Python 3 (ipykernel)",
   "language": "python",
   "name": "python3"
  },
  "language_info": {
   "codemirror_mode": {
    "name": "ipython",
    "version": 3
   },
   "file_extension": ".py",
   "mimetype": "text/x-python",
   "name": "python",
   "nbconvert_exporter": "python",
   "pygments_lexer": "ipython3",
   "version": "3.10.9"
  }
 },
 "nbformat": 4,
 "nbformat_minor": 5
}
