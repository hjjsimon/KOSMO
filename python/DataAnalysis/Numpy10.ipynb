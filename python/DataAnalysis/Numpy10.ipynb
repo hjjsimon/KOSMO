{
 "cells": [
  {
   "cell_type": "code",
   "execution_count": 2,
   "id": "2284779f",
   "metadata": {},
   "outputs": [],
   "source": [
    "import numpy as np"
   ]
  },
  {
   "cell_type": "code",
   "execution_count": 9,
   "id": "a31b13d8",
   "metadata": {},
   "outputs": [
    {
     "data": {
      "text/plain": [
       "array([[[3, 7],\n",
       "        [4, 9],\n",
       "        [3, 5]],\n",
       "\n",
       "       [[3, 7],\n",
       "        [5, 9],\n",
       "        [7, 2]]])"
      ]
     },
     "execution_count": 9,
     "metadata": {},
     "output_type": "execute_result"
    }
   ],
   "source": [
    "#넘파이 배열 변경하기 2 - 배열의 요소 변경\n",
    "#append() 함수\n",
    "#배열의 끝에 값을 추가하는 함수.\n",
    "#axis로 값이 추가되는 방향을 설정 가능.\n",
    "#axis를 지정하지 않으면 1차원 배열로 변경되어 추가\n",
    "np.random.seed(42)#랜덤값 고정\n",
    "arr1 = np.random.randint(1,10,size=(3,4))\n",
    "arr2 = np.random.randint(1,10,size=(3,4))\n",
    "arr3 = np.random.randint(1,10,size=(2,3,2))\n",
    "arr3"
   ]
  },
  {
   "cell_type": "code",
   "execution_count": 12,
   "id": "496727be",
   "metadata": {},
   "outputs": [
    {
     "data": {
      "text/plain": [
       "array([ 7,  4,  8,  5,  7,  3,  7,  8,  5,  4,  8,  8, 99])"
      ]
     },
     "execution_count": 12,
     "metadata": {},
     "output_type": "execute_result"
    }
   ],
   "source": [
    "#axis를 지정하지 않는 경우:모든 차원이 1차원 배열로 변경되어 추가된다\n",
    "np.append(arr1,99)"
   ]
  },
  {
   "cell_type": "code",
   "execution_count": 13,
   "id": "7f4c280b",
   "metadata": {},
   "outputs": [
    {
     "data": {
      "text/plain": [
       "array([ 3,  7,  4,  9,  3,  5,  3,  7,  5,  9,  7,  2, 99])"
      ]
     },
     "execution_count": 13,
     "metadata": {},
     "output_type": "execute_result"
    }
   ],
   "source": [
    "np.append(arr3,99)"
   ]
  },
  {
   "cell_type": "code",
   "execution_count": 16,
   "id": "061bd02d",
   "metadata": {},
   "outputs": [
    {
     "name": "stdout",
     "output_type": "stream",
     "text": [
      "arr1: [[7 4 8 5]\n",
      " [7 3 7 8]\n",
      " [5 4 8 8]]\n",
      "arr2: [[3 6 5 2]\n",
      " [8 6 2 5]\n",
      " [1 6 9 1]]\n"
     ]
    },
    {
     "data": {
      "text/plain": [
       "array([[10, 10, 13,  7],\n",
       "       [15,  9,  9, 13],\n",
       "       [ 6, 10, 17,  9]])"
      ]
     },
     "execution_count": 16,
     "metadata": {},
     "output_type": "execute_result"
    }
   ],
   "source": [
    "print('arr1:',arr1)\n",
    "print('arr2:',arr2)\n",
    "np.append(arr1,arr2)"
   ]
  },
  {
   "cell_type": "code",
   "execution_count": 15,
   "id": "2d00d520",
   "metadata": {},
   "outputs": [
    {
     "data": {
      "text/plain": [
       "array([7, 4, 8, 5, 7, 3, 7, 8, 5, 4, 8, 8, 3, 7, 4, 9, 3, 5, 3, 7, 5, 9,\n",
       "       7, 2])"
      ]
     },
     "execution_count": 15,
     "metadata": {},
     "output_type": "execute_result"
    }
   ],
   "source": [
    "np.append(arr1,arr3)"
   ]
  },
  {
   "cell_type": "code",
   "execution_count": 18,
   "id": "dac94fba",
   "metadata": {},
   "outputs": [
    {
     "data": {
      "text/plain": [
       "array([[7, 4, 8, 5],\n",
       "       [7, 3, 7, 8],\n",
       "       [5, 4, 8, 8],\n",
       "       [3, 6, 5, 2],\n",
       "       [8, 6, 2, 5],\n",
       "       [1, 6, 9, 1]])"
      ]
     },
     "execution_count": 18,
     "metadata": {},
     "output_type": "execute_result"
    }
   ],
   "source": [
    "#axis를 지정한 경우-추가하려는 값은(스칼라는 불가-브로그캐스팅이 일어나지 않는다) shape이 같아야 한다.\n",
    "np.append(arr1,arr2,axis=0)#행축으로 추가 6 x 4"
   ]
  },
  {
   "cell_type": "code",
   "execution_count": 19,
   "id": "975239f7",
   "metadata": {},
   "outputs": [
    {
     "data": {
      "text/plain": [
       "array([[7, 4, 8, 5, 3, 6, 5, 2],\n",
       "       [7, 3, 7, 8, 8, 6, 2, 5],\n",
       "       [5, 4, 8, 8, 1, 6, 9, 1]])"
      ]
     },
     "execution_count": 19,
     "metadata": {},
     "output_type": "execute_result"
    }
   ],
   "source": [
    "np.append(arr1,arr2,axis=1)"
   ]
  },
  {
   "cell_type": "code",
   "execution_count": 24,
   "id": "13e95b66",
   "metadata": {},
   "outputs": [
    {
     "ename": "ValueError",
     "evalue": "all the input arrays must have same number of dimensions, but the array at index 0 has 2 dimension(s) and the array at index 1 has 0 dimension(s)",
     "output_type": "error",
     "traceback": [
      "\u001b[1;31m---------------------------------------------------------------------------\u001b[0m",
      "\u001b[1;31mValueError\u001b[0m                                Traceback (most recent call last)",
      "Cell \u001b[1;32mIn[24], line 2\u001b[0m\n\u001b[0;32m      1\u001b[0m \u001b[38;5;66;03m#np.append(arr1,arr2.reshape(2,-1),axis=1)\u001b[39;00m\n\u001b[1;32m----> 2\u001b[0m \u001b[43mnp\u001b[49m\u001b[38;5;241;43m.\u001b[39;49m\u001b[43mappend\u001b[49m\u001b[43m(\u001b[49m\u001b[43marr1\u001b[49m\u001b[43m,\u001b[49m\u001b[38;5;241;43m99\u001b[39;49m\u001b[43m,\u001b[49m\u001b[43maxis\u001b[49m\u001b[38;5;241;43m=\u001b[39;49m\u001b[38;5;241;43m0\u001b[39;49m\u001b[43m)\u001b[49m\n",
      "File \u001b[1;32m<__array_function__ internals>:180\u001b[0m, in \u001b[0;36mappend\u001b[1;34m(*args, **kwargs)\u001b[0m\n",
      "File \u001b[1;32m~\\anaconda3\\lib\\site-packages\\numpy\\lib\\function_base.py:5444\u001b[0m, in \u001b[0;36mappend\u001b[1;34m(arr, values, axis)\u001b[0m\n\u001b[0;32m   5442\u001b[0m     values \u001b[38;5;241m=\u001b[39m ravel(values)\n\u001b[0;32m   5443\u001b[0m     axis \u001b[38;5;241m=\u001b[39m arr\u001b[38;5;241m.\u001b[39mndim\u001b[38;5;241m-\u001b[39m\u001b[38;5;241m1\u001b[39m\n\u001b[1;32m-> 5444\u001b[0m \u001b[38;5;28;01mreturn\u001b[39;00m \u001b[43mconcatenate\u001b[49m\u001b[43m(\u001b[49m\u001b[43m(\u001b[49m\u001b[43marr\u001b[49m\u001b[43m,\u001b[49m\u001b[43m \u001b[49m\u001b[43mvalues\u001b[49m\u001b[43m)\u001b[49m\u001b[43m,\u001b[49m\u001b[43m \u001b[49m\u001b[43maxis\u001b[49m\u001b[38;5;241;43m=\u001b[39;49m\u001b[43maxis\u001b[49m\u001b[43m)\u001b[49m\n",
      "File \u001b[1;32m<__array_function__ internals>:180\u001b[0m, in \u001b[0;36mconcatenate\u001b[1;34m(*args, **kwargs)\u001b[0m\n",
      "\u001b[1;31mValueError\u001b[0m: all the input arrays must have same number of dimensions, but the array at index 0 has 2 dimension(s) and the array at index 1 has 0 dimension(s)"
     ]
    }
   ],
   "source": [
    "#np.append(arr1,arr2.reshape(2,-1),axis=1)\n",
    "#np.append(arr1,99,axis=0)#axis지정시 스칼라 불가"
   ]
  },
  {
   "cell_type": "code",
   "execution_count": 28,
   "id": "d7ba2139",
   "metadata": {},
   "outputs": [
    {
     "data": {
      "text/plain": [
       "(13,)"
      ]
     },
     "execution_count": 28,
     "metadata": {},
     "output_type": "execute_result"
    }
   ],
   "source": [
    "#insert() 함수\n",
    "#배열의 특정 위치에 값을 삽입하는 함수.\n",
    "#axis로 값이 삽입되는 방향을 설정 가능.\n",
    "#axis를 지정하지 않으면 1차원 배열로 변경되어 삽입\n",
    "#obj:삽입할 위치(일차원 인덱스),values:삽입할 값\n",
    "np.insert(arr1,obj=4,values=77)"
   ]
  },
  {
   "cell_type": "code",
   "execution_count": 29,
   "id": "c07fd0c9",
   "metadata": {},
   "outputs": [
    {
     "data": {
      "text/plain": [
       "array([[3, 6, 5, 2],\n",
       "       [8, 6, 2, 5],\n",
       "       [1, 6, 9, 1]])"
      ]
     },
     "execution_count": 29,
     "metadata": {},
     "output_type": "execute_result"
    }
   ],
   "source": [
    "arr2"
   ]
  },
  {
   "cell_type": "code",
   "execution_count": 35,
   "id": "afae22be",
   "metadata": {},
   "outputs": [
    {
     "data": {
      "text/plain": [
       "array([7, 4, 8, 5, 1, 2, 3, 4, 5, 7, 3, 7, 8, 5, 4, 8, 8])"
      ]
     },
     "execution_count": 35,
     "metadata": {},
     "output_type": "execute_result"
    }
   ],
   "source": [
    "np.insert(arr1,obj=4,values=np.array([1,2,3]))"
   ]
  },
  {
   "cell_type": "code",
   "execution_count": 42,
   "id": "9afea55e",
   "metadata": {},
   "outputs": [
    {
     "name": "stdout",
     "output_type": "stream",
     "text": [
      "[[  7   4   8   5]\n",
      " [100 100 100 100]\n",
      " [  7   3   7   8]\n",
      " [  5   4   8   8]]\n"
     ]
    },
    {
     "data": {
      "text/plain": [
       "array([[7, 4, 8, 5],\n",
       "       [7, 3, 7, 8],\n",
       "       [1, 2, 3, 4],\n",
       "       [5, 4, 8, 8]])"
      ]
     },
     "execution_count": 42,
     "metadata": {},
     "output_type": "execute_result"
    }
   ],
   "source": [
    "#axis를 지정한 경우-삽입하려는 값은 차원이 달라도 된다\n",
    "#obj:행인덱스 axis=0인 축에서의 인덱스\n",
    "\n",
    "print(np.insert(arr1,obj=1,values=100,axis=0))#100이 행인덱스 1번위치에 열의 수와 같게 1차원으로 브로드 캐스팅되서 [100,100,100,100추가된다\n",
    "np.insert(arr1,obj=2,values=[1,2,3,4],axis=0)#추가하려는 1차원의 열의수는 arr1과 같아야 한다\n"
   ]
  },
  {
   "cell_type": "code",
   "execution_count": 44,
   "id": "aa274daa",
   "metadata": {},
   "outputs": [
    {
     "name": "stdout",
     "output_type": "stream",
     "text": [
      "[[  7 100   4   8   5]\n",
      " [  7 100   3   7   8]\n",
      " [  5 100   4   8   8]]\n"
     ]
    },
    {
     "data": {
      "text/plain": [
       "array([[7, 4, 1, 8, 5],\n",
       "       [7, 3, 2, 7, 8],\n",
       "       [5, 4, 3, 8, 8]])"
      ]
     },
     "execution_count": 44,
     "metadata": {},
     "output_type": "execute_result"
    }
   ],
   "source": [
    "print(np.insert(arr1,obj=1,values=100,axis=1))#100이 열인덱스 1번 위치에 행의수와 같게 1차원으로 브로드 캐스팅되서 [100,100,100]추가된다\n",
    "np.insert(arr1,obj=2,values=[1,2,3],axis=1)"
   ]
  },
  {
   "cell_type": "code",
   "execution_count": 45,
   "id": "e05b9a50",
   "metadata": {},
   "outputs": [],
   "source": [
    "#delete() 함수\n",
    "#배열의 특정 위치의 요소를 삭제하는 함수.\n",
    "#axis로 방향을 설정 가능.\n",
    "#axis를 지정하지 않으면 1차원 배열로 변경되어 삭제"
   ]
  },
  {
   "cell_type": "code",
   "execution_count": 47,
   "id": "2b624960",
   "metadata": {},
   "outputs": [
    {
     "data": {
      "text/plain": [
       "array([7, 4, 8, 5, 7, 3, 7, 8, 5, 8, 8])"
      ]
     },
     "execution_count": 47,
     "metadata": {},
     "output_type": "execute_result"
    }
   ],
   "source": [
    "np.delete(arr1,9)#9는 1차원으로 플래툰시의 삭제할 인덱스"
   ]
  },
  {
   "cell_type": "code",
   "execution_count": 50,
   "id": "98ec2d1d",
   "metadata": {},
   "outputs": [
    {
     "name": "stdout",
     "output_type": "stream",
     "text": [
      "[[7 4 8 5]\n",
      " [7 3 7 8]\n",
      " [5 4 8 8]]\n"
     ]
    },
    {
     "data": {
      "text/plain": [
       "array([7, 8, 7, 7, 5, 8, 8])"
      ]
     },
     "execution_count": 50,
     "metadata": {},
     "output_type": "execute_result"
    }
   ],
   "source": [
    "print(arr1)\n",
    "np.delete(arr1,(1,3,5,7,9))#(1,3,5,7,9)삭제할 요소의 인덱스(1차원으로 플래툰시)"
   ]
  },
  {
   "cell_type": "code",
   "execution_count": 51,
   "id": "b35694ab",
   "metadata": {},
   "outputs": [
    {
     "data": {
      "text/plain": [
       "array([[7, 4, 8, 5],\n",
       "       [5, 4, 8, 8]])"
      ]
     },
     "execution_count": 51,
     "metadata": {},
     "output_type": "execute_result"
    }
   ],
   "source": [
    "#axis를 지정한 경우-삭제하려는 값은 차원이 달라도 된다\n",
    "#obj:행인덱스 axis=0인 축에서의 인덱스\n",
    "np.delete(arr1,obj=1,axis=0)#1행 삭제"
   ]
  },
  {
   "cell_type": "code",
   "execution_count": 52,
   "id": "04d74d28",
   "metadata": {},
   "outputs": [
    {
     "data": {
      "text/plain": [
       "array([[7, 3, 7, 8]])"
      ]
     },
     "execution_count": 52,
     "metadata": {},
     "output_type": "execute_result"
    }
   ],
   "source": [
    "np.delete(arr1,obj=(0,2),axis=0)#0행 및 2행 삭제"
   ]
  },
  {
   "cell_type": "code",
   "execution_count": 53,
   "id": "a325622a",
   "metadata": {},
   "outputs": [
    {
     "data": {
      "text/plain": [
       "array([[7, 8, 5],\n",
       "       [7, 7, 8],\n",
       "       [5, 8, 8]])"
      ]
     },
     "execution_count": 53,
     "metadata": {},
     "output_type": "execute_result"
    }
   ],
   "source": [
    "np.delete(arr1,obj=1,axis=1)#1열 삭제"
   ]
  },
  {
   "cell_type": "code",
   "execution_count": 54,
   "id": "a451d79a",
   "metadata": {},
   "outputs": [
    {
     "data": {
      "text/plain": [
       "array([[4, 5],\n",
       "       [3, 8],\n",
       "       [4, 8]])"
      ]
     },
     "execution_count": 54,
     "metadata": {},
     "output_type": "execute_result"
    }
   ],
   "source": [
    "np.delete(arr1,obj=(0,2),axis=1)#0열 및 2열 삭제"
   ]
  },
  {
   "cell_type": "code",
   "execution_count": null,
   "id": "c1757881",
   "metadata": {},
   "outputs": [],
   "source": []
  }
 ],
 "metadata": {
  "kernelspec": {
   "display_name": "Python 3 (ipykernel)",
   "language": "python",
   "name": "python3"
  },
  "language_info": {
   "codemirror_mode": {
    "name": "ipython",
    "version": 3
   },
   "file_extension": ".py",
   "mimetype": "text/x-python",
   "name": "python",
   "nbconvert_exporter": "python",
   "pygments_lexer": "ipython3",
   "version": "3.10.9"
  }
 },
 "nbformat": 4,
 "nbformat_minor": 5
}
