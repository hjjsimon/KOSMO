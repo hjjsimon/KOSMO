{
 "cells": [
  {
   "cell_type": "code",
   "execution_count": 1,
   "id": "f637be10",
   "metadata": {},
   "outputs": [],
   "source": [
    "import numpy as np"
   ]
  },
  {
   "cell_type": "code",
   "execution_count": null,
   "id": "562d9f3f",
   "metadata": {},
   "outputs": [],
   "source": [
    "#리스트는 모든 타입을 요소로 가질 수 있다"
   ]
  },
  {
   "cell_type": "code",
   "execution_count": null,
   "id": "83aeba11",
   "metadata": {},
   "outputs": [],
   "source": [
    "data=['HELLO',100,3.14,True]\n",
    "data"
   ]
  },
  {
   "cell_type": "code",
   "execution_count": null,
   "id": "ad2811af",
   "metadata": {},
   "outputs": [],
   "source": [
    "#파이썬 리스트나 튜플로 NumPy배열 만들기\n",
    "#np.array(파이썬 리스트 혹은 튜플)함수 사용\n",
    "narr=np.array(data)\n",
    "print(narr)#넘파이는 동일한 타입만 저장할 수 있다 그래서 문자열로 모든 요소가 변환된다\n",
    "type(narr)#numpy.ndarray"
   ]
  },
  {
   "cell_type": "code",
   "execution_count": null,
   "id": "29e057bc",
   "metadata": {},
   "outputs": [],
   "source": [
    "#같은 타입의 데이타(요소)를 가진 리스트나 튜플로 NumPy배열 만들기\n",
    "narr = np.array([i for i in range(1,6)])\n",
    "narr\n",
    "dir(narr)\n",
    "print(narr.shape)\n",
    "print(narr.ndim)\n",
    "print(narr.dtype)\n",
    "print(dir(narr))"
   ]
  },
  {
   "cell_type": "code",
   "execution_count": null,
   "id": "0fb6fb63",
   "metadata": {},
   "outputs": [],
   "source": [
    "for ele in narr:\n",
    "    print(ele,ele.dtype,type(ele),sep=':')\n"
   ]
  },
  {
   "cell_type": "code",
   "execution_count": 2,
   "id": "ae01b581",
   "metadata": {},
   "outputs": [],
   "source": [
    "narr = np.array(tuple(range(1,6)))"
   ]
  },
  {
   "cell_type": "code",
   "execution_count": 3,
   "id": "426b95a8",
   "metadata": {},
   "outputs": [
    {
     "data": {
      "text/plain": [
       "array([1, 2, 3, 4, 5])"
      ]
     },
     "execution_count": 3,
     "metadata": {},
     "output_type": "execute_result"
    }
   ],
   "source": [
    "narr"
   ]
  },
  {
   "cell_type": "code",
   "execution_count": 4,
   "id": "6afef01c",
   "metadata": {},
   "outputs": [
    {
     "data": {
      "text/plain": [
       "dtype('int32')"
      ]
     },
     "execution_count": 4,
     "metadata": {},
     "output_type": "execute_result"
    }
   ],
   "source": [
    "narr.dtype"
   ]
  },
  {
   "cell_type": "code",
   "execution_count": null,
   "id": "bae56ad0",
   "metadata": {},
   "outputs": [],
   "source": [
    "#narr = np.array(1,2,3,4,5)#TypeError: array() takes from 1 to 2 positional arguments but 5 were given"
   ]
  },
  {
   "cell_type": "code",
   "execution_count": 11,
   "id": "0d7becf9",
   "metadata": {},
   "outputs": [],
   "source": [
    "narr = np.array({'name':'가길동','age':20})"
   ]
  },
  {
   "cell_type": "code",
   "execution_count": 12,
   "id": "4df8578f",
   "metadata": {},
   "outputs": [
    {
     "data": {
      "text/plain": [
       "array({'name': '가길동', 'age': 20}, dtype=object)"
      ]
     },
     "execution_count": 12,
     "metadata": {},
     "output_type": "execute_result"
    }
   ],
   "source": [
    "narr"
   ]
  },
  {
   "cell_type": "code",
   "execution_count": 8,
   "id": "d444c08a",
   "metadata": {},
   "outputs": [],
   "source": [
    "#narr = np.array(tuple(range(1,6)),dtype=np.float32)\n",
    "narr = np.array(tuple(range(1,6)),dtype='f4')"
   ]
  },
  {
   "cell_type": "code",
   "execution_count": 9,
   "id": "01c81ad5",
   "metadata": {},
   "outputs": [
    {
     "data": {
      "text/plain": [
       "array([1., 2., 3., 4., 5.], dtype=float32)"
      ]
     },
     "execution_count": 9,
     "metadata": {},
     "output_type": "execute_result"
    }
   ],
   "source": [
    "narr"
   ]
  },
  {
   "cell_type": "code",
   "execution_count": 10,
   "id": "efbb0cd6",
   "metadata": {},
   "outputs": [
    {
     "data": {
      "text/plain": [
       "dtype('float32')"
      ]
     },
     "execution_count": 10,
     "metadata": {},
     "output_type": "execute_result"
    }
   ],
   "source": [
    "narr.dtype"
   ]
  },
  {
   "cell_type": "code",
   "execution_count": null,
   "id": "2e75eed0",
   "metadata": {},
   "outputs": [],
   "source": []
  }
 ],
 "metadata": {
  "kernelspec": {
   "display_name": "Python 3 (ipykernel)",
   "language": "python",
   "name": "python3"
  },
  "language_info": {
   "codemirror_mode": {
    "name": "ipython",
    "version": 3
   },
   "file_extension": ".py",
   "mimetype": "text/x-python",
   "name": "python",
   "nbconvert_exporter": "python",
   "pygments_lexer": "ipython3",
   "version": "3.11.4"
  }
 },
 "nbformat": 4,
 "nbformat_minor": 5
}
